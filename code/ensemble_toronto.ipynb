{
 "cells": [
  {
   "cell_type": "markdown",
   "metadata": {},
   "source": [
    "In this script, we apply the best ensemble strategy found in ensemble_boston_test.ipynb to predict on Toronto images.\n",
    "\n",
    "The strategy is an averaging + weighted ensemble:\n",
    "\n",
    "1. average the predictions produced by cv3 and full\n",
    "\n",
    "2. average the predictions produced by cv0, cv1,cv2, cv4 and own\n",
    "\n",
    "3. give prediction by model 'cv3full' 0.45 weight; and prediction by model 'cv0cv1cv2cv4own' 0.55 weight\n"
   ]
  },
  {
   "cell_type": "code",
   "execution_count": 3,
   "metadata": {},
   "outputs": [],
   "source": [
    "import pandas as pd\n",
    "import numpy as np\n",
    "import glob"
   ]
  },
  {
   "cell_type": "markdown",
   "metadata": {},
   "source": [
    "#### Data preparation\n",
    "\n",
    "As toronto_prediction_own_cnn.csv and the other predictions were produced in 2 different VMs, we need to unify them first.\n",
    "\n",
    "toronto_prediction_own_cnn.csv has predictions for 2034 images, whereas the other csv have predictions for 2038 images. That is because in 2 VMs, the number of images fetched by the Google Street View API were not the same. So we removed that 4 extra rows in the other csv."
   ]
  },
  {
   "cell_type": "code",
   "execution_count": 35,
   "metadata": {},
   "outputs": [
    {
     "data": {
      "text/plain": [
       "['/Users/zhanglingling/Desktop/ML1030/toronto_prediction/toronto_bestmodel.hdf5.cv0.prediction.csv',\n",
       " '/Users/zhanglingling/Desktop/ML1030/toronto_prediction/toronto_bestmodel.hdf5.cv1.prediction.csv',\n",
       " '/Users/zhanglingling/Desktop/ML1030/toronto_prediction/toronto_bestmodel.hdf5.cv2.prediction.csv',\n",
       " '/Users/zhanglingling/Desktop/ML1030/toronto_prediction/toronto_bestmodel.hdf5.cv3.prediction.csv',\n",
       " '/Users/zhanglingling/Desktop/ML1030/toronto_prediction/toronto_bestmodel.hdf5.cv4.prediction.csv',\n",
       " '/Users/zhanglingling/Desktop/ML1030/toronto_prediction/toronto_bestmodel.wholedata.hdf5.prediction.csv',\n",
       " '/Users/zhanglingling/Desktop/ML1030/toronto_prediction/toronto_prediction_own_cnn.csv']"
      ]
     },
     "execution_count": 35,
     "metadata": {},
     "output_type": "execute_result"
    }
   ],
   "source": [
    "predict_dir = '/Users/zhanglingling/Desktop/ML1030/toronto_prediction/'\n",
    "file_list = list(glob.glob(predict_dir + \"*.csv*\"))\n",
    "file_list.sort()\n",
    "file_list"
   ]
  },
  {
   "cell_type": "code",
   "execution_count": 9,
   "metadata": {},
   "outputs": [
    {
     "data": {
      "text/html": [
       "<div>\n",
       "<style scoped>\n",
       "    .dataframe tbody tr th:only-of-type {\n",
       "        vertical-align: middle;\n",
       "    }\n",
       "\n",
       "    .dataframe tbody tr th {\n",
       "        vertical-align: top;\n",
       "    }\n",
       "\n",
       "    .dataframe thead th {\n",
       "        text-align: right;\n",
       "    }\n",
       "</style>\n",
       "<table border=\"1\" class=\"dataframe\">\n",
       "  <thead>\n",
       "    <tr style=\"text-align: right;\">\n",
       "      <th></th>\n",
       "      <th>_file</th>\n",
       "      <th>0_x</th>\n",
       "      <th>1_x</th>\n",
       "      <th>0_y</th>\n",
       "      <th>1_y</th>\n",
       "      <th>_merge</th>\n",
       "    </tr>\n",
       "  </thead>\n",
       "  <tbody>\n",
       "    <tr>\n",
       "      <th>2034</th>\n",
       "      <td>gsv_1343.jpg</td>\n",
       "      <td>NaN</td>\n",
       "      <td>NaN</td>\n",
       "      <td>0.083244</td>\n",
       "      <td>0.916756</td>\n",
       "      <td>right_only</td>\n",
       "    </tr>\n",
       "    <tr>\n",
       "      <th>2035</th>\n",
       "      <td>gsv_1075.jpg</td>\n",
       "      <td>NaN</td>\n",
       "      <td>NaN</td>\n",
       "      <td>0.930137</td>\n",
       "      <td>0.069863</td>\n",
       "      <td>right_only</td>\n",
       "    </tr>\n",
       "    <tr>\n",
       "      <th>2036</th>\n",
       "      <td>gsv_52.jpg</td>\n",
       "      <td>NaN</td>\n",
       "      <td>NaN</td>\n",
       "      <td>0.993009</td>\n",
       "      <td>0.006991</td>\n",
       "      <td>right_only</td>\n",
       "    </tr>\n",
       "    <tr>\n",
       "      <th>2037</th>\n",
       "      <td>gsv_1407.jpg</td>\n",
       "      <td>NaN</td>\n",
       "      <td>NaN</td>\n",
       "      <td>0.999982</td>\n",
       "      <td>0.000018</td>\n",
       "      <td>right_only</td>\n",
       "    </tr>\n",
       "  </tbody>\n",
       "</table>\n",
       "</div>"
      ],
      "text/plain": [
       "             _file  0_x  1_x       0_y       1_y      _merge\n",
       "2034  gsv_1343.jpg  NaN  NaN  0.083244  0.916756  right_only\n",
       "2035  gsv_1075.jpg  NaN  NaN  0.930137  0.069863  right_only\n",
       "2036    gsv_52.jpg  NaN  NaN  0.993009  0.006991  right_only\n",
       "2037  gsv_1407.jpg  NaN  NaN  0.999982  0.000018  right_only"
      ]
     },
     "execution_count": 9,
     "metadata": {},
     "output_type": "execute_result"
    }
   ],
   "source": [
    "# p = pd.read_csv('/Users/zhanglingling/Desktop/ML1030/toronto_prediction/toronto_prediction_own_cnn.csv')     \n",
    "# cv4 = pd.read_csv('/Users/zhanglingling/Desktop/ML1030/toronto_prediction/toronto_bestmodel.hdf5.cv4.prediction.csv')\n",
    "# df = pd.merge(p, cv4, how='right', on='_file', \n",
    "#                     indicator=True)\n",
    "# df[df['_merge'] == 'right_only']"
   ]
  },
  {
   "cell_type": "code",
   "execution_count": 24,
   "metadata": {},
   "outputs": [],
   "source": [
    "# # remove the 4 rows in the predictions by cv0, cv1, cv2, cv3, cv4 and full \n",
    "# cv0 = cv0[~cv0['_file'].isin(['gsv_52.jpg', 'gsv_1075.jpg', 'gsv_1343.jpg', 'gsv_1407.jpg'])]\n",
    "# cv1 = cv1[~cv1['_file'].isin(['gsv_52.jpg', 'gsv_1075.jpg', 'gsv_1343.jpg', 'gsv_1407.jpg'])]\n",
    "# cv2 = cv2[~cv2['_file'].isin(['gsv_52.jpg', 'gsv_1075.jpg', 'gsv_1343.jpg', 'gsv_1407.jpg'])]\n",
    "# cv3 = cv3[~cv3['_file'].isin(['gsv_52.jpg', 'gsv_1075.jpg', 'gsv_1343.jpg', 'gsv_1407.jpg'])]\n",
    "# cv4 = cv4[~cv4['_file'].isin(['gsv_52.jpg', 'gsv_1075.jpg', 'gsv_1343.jpg', 'gsv_1407.jpg'])]\n",
    "# full = full[~full['_file'].isin(['gsv_52.jpg', 'gsv_1075.jpg', 'gsv_1343.jpg', 'gsv_1407.jpg'])]"
   ]
  },
  {
   "cell_type": "code",
   "execution_count": 31,
   "metadata": {},
   "outputs": [],
   "source": [
    "# cv0.to_csv('/Users/zhanglingling/Desktop/ML1030/toronto_prediction/toronto_bestmodel.hdf5.cv0.prediction.csv', index = False)\n",
    "# cv1.to_csv('/Users/zhanglingling/Desktop/ML1030/toronto_prediction/toronto_bestmodel.hdf5.cv1.prediction.csv', index = False)\n",
    "# cv2.to_csv('/Users/zhanglingling/Desktop/ML1030/toronto_prediction/toronto_bestmodel.hdf5.cv2.prediction.csv', index = False)\n",
    "# cv3.to_csv('/Users/zhanglingling/Desktop/ML1030/toronto_prediction/toronto_bestmodel.hdf5.cv3.prediction.csv', index = False)\n",
    "# cv4.to_csv('/Users/zhanglingling/Desktop/ML1030/toronto_prediction/toronto_bestmodel.hdf5.cv4.prediction.csv', index = False)\n",
    "# full.to_csv('/Users/zhanglingling/Desktop/ML1030/toronto_prediction/toronto_bestmodel.wholedata.hdf5.prediction.csv', index = False)"
   ]
  },
  {
   "cell_type": "code",
   "execution_count": 43,
   "metadata": {},
   "outputs": [],
   "source": [
    "file_list0 = ['/Users/zhanglingling/Desktop/ML1030/toronto_prediction/toronto_bestmodel.hdf5.cv3.prediction.csv',\n",
    "             '/Users/zhanglingling/Desktop/ML1030/toronto_prediction/toronto_bestmodel.wholedata.hdf5.prediction.csv']\n",
    "\n",
    "\n",
    "file_list1 = ['/Users/zhanglingling/Desktop/ML1030/toronto_prediction/toronto_bestmodel.hdf5.cv0.prediction.csv',\n",
    "             '/Users/zhanglingling/Desktop/ML1030/toronto_prediction/toronto_bestmodel.hdf5.cv1.prediction.csv',\n",
    "             '/Users/zhanglingling/Desktop/ML1030/toronto_prediction/toronto_bestmodel.hdf5.cv2.prediction.csv',\n",
    "             '/Users/zhanglingling/Desktop/ML1030/toronto_prediction/toronto_bestmodel.hdf5.cv4.prediction.csv',\n",
    "             '/Users/zhanglingling/Desktop/ML1030/toronto_prediction/toronto_prediction_own_cnn.csv']"
   ]
  },
  {
   "cell_type": "code",
   "execution_count": 46,
   "metadata": {},
   "outputs": [],
   "source": [
    "# function that calculates conditional ensembling \n",
    "def cond_ensemble(file_list0, file_list1):\n",
    "    \n",
    "    #produce averaging ensembled model's prediction - 'averaged_prediction'\n",
    "    df_list0 = []\n",
    "    for f in file_list0:\n",
    "        df = pd.read_csv(f)\n",
    "        df = df.sort_values(\"_file\")\n",
    "        df_list0.append(df)\n",
    "        \n",
    "    prediction0 = pd.concat(df_list0).groupby('_file').mean()\n",
    "    prediction0.reset_index(level=0, inplace=True)\n",
    "    prediction0['pred_safety'] =  np.where(prediction0['0'] > 0.5, 0, 1)\n",
    "    \n",
    "    \n",
    "    df_list1 = []\n",
    "    for f in file_list1:\n",
    "        df = pd.read_csv(f)\n",
    "        df = df.sort_values(\"_file\")\n",
    "        df_list1.append(df)\n",
    "        \n",
    "    prediction1 = pd.concat(df_list1).groupby('_file').mean()\n",
    "    prediction1.reset_index(level=0, inplace=True)\n",
    "    prediction1['pred_safety'] =  np.where(prediction1['0'] > 0.5, 0, 1)\n",
    "    \n",
    "    \n",
    "    pred = pd.merge(prediction0, prediction1, how='outer', on='_file')\n",
    "    pred.columns = ['_file', 'pred0_0', 'pred0_1', 'pred0_pred_safety',  'pred1_0', 'pred1_1', 'pred1_pred_safety']\n",
    "\n",
    "    return pred"
   ]
  },
  {
   "cell_type": "code",
   "execution_count": 47,
   "metadata": {},
   "outputs": [],
   "source": [
    "pred = cond_ensemble(file_list0, file_list1)\n",
    "pred['weight_pred_0'] = pred['pred0_0'] * 0.45 + pred['pred1_0'] * 0.55\n",
    "pred['weight_pred_1'] = pred['pred0_1'] * 0.45 + pred['pred1_1'] * 0.55\n",
    "pred['pred_safety'] =  np.where(pred['weight_pred_0'] > 0.5, 0, 1)"
   ]
  },
  {
   "cell_type": "code",
   "execution_count": 52,
   "metadata": {},
   "outputs": [
    {
     "data": {
      "text/html": [
       "<div>\n",
       "<style scoped>\n",
       "    .dataframe tbody tr th:only-of-type {\n",
       "        vertical-align: middle;\n",
       "    }\n",
       "\n",
       "    .dataframe tbody tr th {\n",
       "        vertical-align: top;\n",
       "    }\n",
       "\n",
       "    .dataframe thead th {\n",
       "        text-align: right;\n",
       "    }\n",
       "</style>\n",
       "<table border=\"1\" class=\"dataframe\">\n",
       "  <thead>\n",
       "    <tr style=\"text-align: right;\">\n",
       "      <th></th>\n",
       "      <th>_file</th>\n",
       "      <th>pred0_0</th>\n",
       "      <th>pred0_1</th>\n",
       "      <th>pred0_pred_safety</th>\n",
       "      <th>pred1_0</th>\n",
       "      <th>pred1_1</th>\n",
       "      <th>pred1_pred_safety</th>\n",
       "      <th>weight_pred_0</th>\n",
       "      <th>weight_pred_1</th>\n",
       "      <th>pred_safety</th>\n",
       "    </tr>\n",
       "  </thead>\n",
       "  <tbody>\n",
       "    <tr>\n",
       "      <th>0</th>\n",
       "      <td>gsv_0.jpg</td>\n",
       "      <td>0.705739</td>\n",
       "      <td>0.294261</td>\n",
       "      <td>0</td>\n",
       "      <td>0.723045</td>\n",
       "      <td>0.276955</td>\n",
       "      <td>0</td>\n",
       "      <td>0.715257</td>\n",
       "      <td>0.284743</td>\n",
       "      <td>0</td>\n",
       "    </tr>\n",
       "    <tr>\n",
       "      <th>1</th>\n",
       "      <td>gsv_1.jpg</td>\n",
       "      <td>0.765972</td>\n",
       "      <td>0.234028</td>\n",
       "      <td>0</td>\n",
       "      <td>0.917020</td>\n",
       "      <td>0.082979</td>\n",
       "      <td>0</td>\n",
       "      <td>0.849049</td>\n",
       "      <td>0.150951</td>\n",
       "      <td>0</td>\n",
       "    </tr>\n",
       "    <tr>\n",
       "      <th>2</th>\n",
       "      <td>gsv_10.jpg</td>\n",
       "      <td>0.885248</td>\n",
       "      <td>0.114752</td>\n",
       "      <td>0</td>\n",
       "      <td>0.776663</td>\n",
       "      <td>0.223337</td>\n",
       "      <td>0</td>\n",
       "      <td>0.825527</td>\n",
       "      <td>0.174474</td>\n",
       "      <td>0</td>\n",
       "    </tr>\n",
       "    <tr>\n",
       "      <th>3</th>\n",
       "      <td>gsv_100.jpg</td>\n",
       "      <td>0.622889</td>\n",
       "      <td>0.377111</td>\n",
       "      <td>0</td>\n",
       "      <td>0.556393</td>\n",
       "      <td>0.443607</td>\n",
       "      <td>0</td>\n",
       "      <td>0.586316</td>\n",
       "      <td>0.413684</td>\n",
       "      <td>0</td>\n",
       "    </tr>\n",
       "    <tr>\n",
       "      <th>4</th>\n",
       "      <td>gsv_1000.jpg</td>\n",
       "      <td>0.210264</td>\n",
       "      <td>0.789736</td>\n",
       "      <td>1</td>\n",
       "      <td>0.391650</td>\n",
       "      <td>0.608350</td>\n",
       "      <td>1</td>\n",
       "      <td>0.310026</td>\n",
       "      <td>0.689974</td>\n",
       "      <td>1</td>\n",
       "    </tr>\n",
       "  </tbody>\n",
       "</table>\n",
       "</div>"
      ],
      "text/plain": [
       "          _file   pred0_0   pred0_1  pred0_pred_safety   pred1_0   pred1_1  \\\n",
       "0     gsv_0.jpg  0.705739  0.294261                  0  0.723045  0.276955   \n",
       "1     gsv_1.jpg  0.765972  0.234028                  0  0.917020  0.082979   \n",
       "2    gsv_10.jpg  0.885248  0.114752                  0  0.776663  0.223337   \n",
       "3   gsv_100.jpg  0.622889  0.377111                  0  0.556393  0.443607   \n",
       "4  gsv_1000.jpg  0.210264  0.789736                  1  0.391650  0.608350   \n",
       "\n",
       "   pred1_pred_safety  weight_pred_0  weight_pred_1  pred_safety  \n",
       "0                  0       0.715257       0.284743            0  \n",
       "1                  0       0.849049       0.150951            0  \n",
       "2                  0       0.825527       0.174474            0  \n",
       "3                  0       0.586316       0.413684            0  \n",
       "4                  1       0.310026       0.689974            1  "
      ]
     },
     "execution_count": 52,
     "metadata": {},
     "output_type": "execute_result"
    }
   ],
   "source": [
    "pred.head()"
   ]
  },
  {
   "cell_type": "code",
   "execution_count": 53,
   "metadata": {},
   "outputs": [
    {
     "data": {
      "text/html": [
       "<div>\n",
       "<style scoped>\n",
       "    .dataframe tbody tr th:only-of-type {\n",
       "        vertical-align: middle;\n",
       "    }\n",
       "\n",
       "    .dataframe tbody tr th {\n",
       "        vertical-align: top;\n",
       "    }\n",
       "\n",
       "    .dataframe thead th {\n",
       "        text-align: right;\n",
       "    }\n",
       "</style>\n",
       "<table border=\"1\" class=\"dataframe\">\n",
       "  <thead>\n",
       "    <tr style=\"text-align: right;\">\n",
       "      <th></th>\n",
       "      <th>_file</th>\n",
       "      <th>0</th>\n",
       "      <th>1</th>\n",
       "      <th>pred_safety</th>\n",
       "    </tr>\n",
       "  </thead>\n",
       "  <tbody>\n",
       "    <tr>\n",
       "      <th>0</th>\n",
       "      <td>gsv_0.jpg</td>\n",
       "      <td>0.715257</td>\n",
       "      <td>0.284743</td>\n",
       "      <td>0</td>\n",
       "    </tr>\n",
       "    <tr>\n",
       "      <th>1</th>\n",
       "      <td>gsv_1.jpg</td>\n",
       "      <td>0.849049</td>\n",
       "      <td>0.150951</td>\n",
       "      <td>0</td>\n",
       "    </tr>\n",
       "    <tr>\n",
       "      <th>2</th>\n",
       "      <td>gsv_10.jpg</td>\n",
       "      <td>0.825527</td>\n",
       "      <td>0.174474</td>\n",
       "      <td>0</td>\n",
       "    </tr>\n",
       "    <tr>\n",
       "      <th>3</th>\n",
       "      <td>gsv_100.jpg</td>\n",
       "      <td>0.586316</td>\n",
       "      <td>0.413684</td>\n",
       "      <td>0</td>\n",
       "    </tr>\n",
       "    <tr>\n",
       "      <th>4</th>\n",
       "      <td>gsv_1000.jpg</td>\n",
       "      <td>0.310026</td>\n",
       "      <td>0.689974</td>\n",
       "      <td>1</td>\n",
       "    </tr>\n",
       "  </tbody>\n",
       "</table>\n",
       "</div>"
      ],
      "text/plain": [
       "          _file         0         1  pred_safety\n",
       "0     gsv_0.jpg  0.715257  0.284743            0\n",
       "1     gsv_1.jpg  0.849049  0.150951            0\n",
       "2    gsv_10.jpg  0.825527  0.174474            0\n",
       "3   gsv_100.jpg  0.586316  0.413684            0\n",
       "4  gsv_1000.jpg  0.310026  0.689974            1"
      ]
     },
     "execution_count": 53,
     "metadata": {},
     "output_type": "execute_result"
    }
   ],
   "source": [
    "final_pred_toronto = pred[['_file', 'weight_pred_0', 'weight_pred_1', 'pred_safety']]\n",
    "final_pred_toronto.columns = ['_file', '0', '1', 'pred_safety']\n",
    "final_pred_toronto.head()"
   ]
  },
  {
   "cell_type": "code",
   "execution_count": 54,
   "metadata": {},
   "outputs": [],
   "source": [
    "final_pred_toronto.to_csv(\"/Users/zhanglingling/Desktop/ML1030/final_pred_toronto.csv\", index=False)"
   ]
  },
  {
   "cell_type": "code",
   "execution_count": null,
   "metadata": {},
   "outputs": [],
   "source": []
  }
 ],
 "metadata": {
  "kernelspec": {
   "display_name": "Python 3",
   "language": "python",
   "name": "python3"
  },
  "language_info": {
   "codemirror_mode": {
    "name": "ipython",
    "version": 3
   },
   "file_extension": ".py",
   "mimetype": "text/x-python",
   "name": "python",
   "nbconvert_exporter": "python",
   "pygments_lexer": "ipython3",
   "version": "3.6.8"
  }
 },
 "nbformat": 4,
 "nbformat_minor": 2
}
