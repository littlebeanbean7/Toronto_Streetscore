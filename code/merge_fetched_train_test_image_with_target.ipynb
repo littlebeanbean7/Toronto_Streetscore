{
 "cells": [
  {
   "cell_type": "markdown",
   "metadata": {},
   "source": [
    "In this script, 1) after fetching images based on boston_train_list.csv and boston_test_list.csv using Google Street View API, we merge the fetched train / test images' metadata with the target variable.\n",
    "\n",
    "2) we calculated the fetched images' updated year."
   ]
  },
  {
   "cell_type": "code",
   "execution_count": 34,
   "metadata": {},
   "outputs": [],
   "source": [
    "import pandas as pd\n",
    "import datetime as dt\n",
    "import numpy as np"
   ]
  },
  {
   "cell_type": "markdown",
   "metadata": {},
   "source": [
    "## 1) Merge the fetched train / test images' metadata with the target variable.\n",
    "\n",
    "### train images' target: create a table 'train_fetched_with_target'"
   ]
  },
  {
   "cell_type": "markdown",
   "metadata": {},
   "source": [
    "#### train_fetched"
   ]
  },
  {
   "cell_type": "code",
   "execution_count": 42,
   "metadata": {},
   "outputs": [
    {
     "data": {
      "text/html": [
       "<div>\n",
       "<style scoped>\n",
       "    .dataframe tbody tr th:only-of-type {\n",
       "        vertical-align: middle;\n",
       "    }\n",
       "\n",
       "    .dataframe tbody tr th {\n",
       "        vertical-align: top;\n",
       "    }\n",
       "\n",
       "    .dataframe thead th {\n",
       "        text-align: right;\n",
       "    }\n",
       "</style>\n",
       "<table border=\"1\" class=\"dataframe\">\n",
       "  <thead>\n",
       "    <tr style=\"text-align: right;\">\n",
       "      <th></th>\n",
       "      <th>_file</th>\n",
       "      <th>copyright</th>\n",
       "      <th>date</th>\n",
       "      <th>location</th>\n",
       "      <th>pano_id</th>\n",
       "      <th>status</th>\n",
       "    </tr>\n",
       "  </thead>\n",
       "  <tbody>\n",
       "    <tr>\n",
       "      <th>0</th>\n",
       "      <td>gsv_0.jpg</td>\n",
       "      <td>© Google</td>\n",
       "      <td>2018-09-01</td>\n",
       "      <td>{'lat': 42.39231519637968, 'lng': -70.99508225...</td>\n",
       "      <td>wuglr2YyMwYbhygr3NnnlA</td>\n",
       "      <td>OK</td>\n",
       "    </tr>\n",
       "    <tr>\n",
       "      <th>1</th>\n",
       "      <td>gsv_1.jpg</td>\n",
       "      <td>© Google</td>\n",
       "      <td>2018-09-01</td>\n",
       "      <td>{'lat': 42.35201675617876, 'lng': -71.05250743...</td>\n",
       "      <td>hvVHe462HUfb393G6Bog2Q</td>\n",
       "      <td>OK</td>\n",
       "    </tr>\n",
       "    <tr>\n",
       "      <th>2</th>\n",
       "      <td>gsv_2.jpg</td>\n",
       "      <td>© Google</td>\n",
       "      <td>2011-08-01</td>\n",
       "      <td>{'lat': 42.25479230565306, 'lng': -71.13908174...</td>\n",
       "      <td>Ogs4R-jKrf4QhdL7UtD5VA</td>\n",
       "      <td>OK</td>\n",
       "    </tr>\n",
       "    <tr>\n",
       "      <th>3</th>\n",
       "      <td>gsv_3.jpg</td>\n",
       "      <td>© Google</td>\n",
       "      <td>2017-08-01</td>\n",
       "      <td>{'lat': 42.37285282016626, 'lng': -71.02960299...</td>\n",
       "      <td>K-oe8tocHQ9ycQmRZueLYQ</td>\n",
       "      <td>OK</td>\n",
       "    </tr>\n",
       "    <tr>\n",
       "      <th>4</th>\n",
       "      <td>gsv_4.jpg</td>\n",
       "      <td>© Google</td>\n",
       "      <td>2018-10-01</td>\n",
       "      <td>{'lat': 42.3596838, 'lng': -71.147121}</td>\n",
       "      <td>N8Kp63EDSLQXiesFHJdOwQ</td>\n",
       "      <td>OK</td>\n",
       "    </tr>\n",
       "  </tbody>\n",
       "</table>\n",
       "</div>"
      ],
      "text/plain": [
       "       _file copyright       date  \\\n",
       "0  gsv_0.jpg  © Google 2018-09-01   \n",
       "1  gsv_1.jpg  © Google 2018-09-01   \n",
       "2  gsv_2.jpg  © Google 2011-08-01   \n",
       "3  gsv_3.jpg  © Google 2017-08-01   \n",
       "4  gsv_4.jpg  © Google 2018-10-01   \n",
       "\n",
       "                                            location                 pano_id  \\\n",
       "0  {'lat': 42.39231519637968, 'lng': -70.99508225...  wuglr2YyMwYbhygr3NnnlA   \n",
       "1  {'lat': 42.35201675617876, 'lng': -71.05250743...  hvVHe462HUfb393G6Bog2Q   \n",
       "2  {'lat': 42.25479230565306, 'lng': -71.13908174...  Ogs4R-jKrf4QhdL7UtD5VA   \n",
       "3  {'lat': 42.37285282016626, 'lng': -71.02960299...  K-oe8tocHQ9ycQmRZueLYQ   \n",
       "4             {'lat': 42.3596838, 'lng': -71.147121}  N8Kp63EDSLQXiesFHJdOwQ   \n",
       "\n",
       "  status  \n",
       "0     OK  \n",
       "1     OK  \n",
       "2     OK  \n",
       "3     OK  \n",
       "4     OK  "
      ]
     },
     "execution_count": 42,
     "metadata": {},
     "output_type": "execute_result"
    }
   ],
   "source": [
    "train_meta = pd.read_json('~/Desktop/ML1030/us_safety/boston_train_metadata.json')\n",
    "train_meta.head(5)"
   ]
  },
  {
   "cell_type": "code",
   "execution_count": 49,
   "metadata": {},
   "outputs": [
    {
     "data": {
      "text/plain": [
       "status\n",
       "OK              15928\n",
       "ZERO_RESULTS       72\n",
       "dtype: int64"
      ]
     },
     "execution_count": 49,
     "metadata": {},
     "output_type": "execute_result"
    }
   ],
   "source": [
    "train_meta.groupby('status').size()"
   ]
  },
  {
   "cell_type": "code",
   "execution_count": 50,
   "metadata": {},
   "outputs": [],
   "source": [
    "train_fetched = train_meta[train_meta['status'] == 'OK']"
   ]
  },
  {
   "cell_type": "markdown",
   "metadata": {},
   "source": [
    "#### train (with target)"
   ]
  },
  {
   "cell_type": "code",
   "execution_count": 51,
   "metadata": {},
   "outputs": [
    {
     "data": {
      "text/html": [
       "<div>\n",
       "<style scoped>\n",
       "    .dataframe tbody tr th:only-of-type {\n",
       "        vertical-align: middle;\n",
       "    }\n",
       "\n",
       "    .dataframe tbody tr th {\n",
       "        vertical-align: top;\n",
       "    }\n",
       "\n",
       "    .dataframe thead th {\n",
       "        text-align: right;\n",
       "    }\n",
       "</style>\n",
       "<table border=\"1\" class=\"dataframe\">\n",
       "  <thead>\n",
       "    <tr style=\"text-align: right;\">\n",
       "      <th></th>\n",
       "      <th>city</th>\n",
       "      <th>latitude</th>\n",
       "      <th>longitude</th>\n",
       "      <th>q-score</th>\n",
       "      <th>safety</th>\n",
       "      <th>Coordinates</th>\n",
       "      <th>OBJECTID</th>\n",
       "      <th>SUBDISTRIC</th>\n",
       "      <th>index_outof_20000</th>\n",
       "    </tr>\n",
       "  </thead>\n",
       "  <tbody>\n",
       "    <tr>\n",
       "      <th>0</th>\n",
       "      <td>Boston</td>\n",
       "      <td>42.392273</td>\n",
       "      <td>-70.994942</td>\n",
       "      <td>14.495926</td>\n",
       "      <td>0</td>\n",
       "      <td>POINT (-70.99494200000002 42.392273)</td>\n",
       "      <td>55507</td>\n",
       "      <td>Open Space</td>\n",
       "      <td>12669</td>\n",
       "    </tr>\n",
       "    <tr>\n",
       "      <th>1</th>\n",
       "      <td>Boston</td>\n",
       "      <td>42.351974</td>\n",
       "      <td>-71.052361</td>\n",
       "      <td>19.801462</td>\n",
       "      <td>0</td>\n",
       "      <td>POINT (-71.052361 42.351974)</td>\n",
       "      <td>54845</td>\n",
       "      <td>Industrial</td>\n",
       "      <td>14403</td>\n",
       "    </tr>\n",
       "    <tr>\n",
       "      <th>2</th>\n",
       "      <td>Boston</td>\n",
       "      <td>42.254936</td>\n",
       "      <td>-71.138962</td>\n",
       "      <td>22.083672</td>\n",
       "      <td>0</td>\n",
       "      <td>POINT (-71.13896200000001 42.254936)</td>\n",
       "      <td>54368</td>\n",
       "      <td>Residential</td>\n",
       "      <td>6554</td>\n",
       "    </tr>\n",
       "    <tr>\n",
       "      <th>3</th>\n",
       "      <td>Boston</td>\n",
       "      <td>42.372772</td>\n",
       "      <td>-71.029839</td>\n",
       "      <td>23.882545</td>\n",
       "      <td>0</td>\n",
       "      <td>POINT (-71.029839 42.372772)</td>\n",
       "      <td>55508</td>\n",
       "      <td>Open Space</td>\n",
       "      <td>11783</td>\n",
       "    </tr>\n",
       "    <tr>\n",
       "      <th>4</th>\n",
       "      <td>Boston</td>\n",
       "      <td>42.359776</td>\n",
       "      <td>-71.147301</td>\n",
       "      <td>19.756496</td>\n",
       "      <td>0</td>\n",
       "      <td>POINT (-71.147301 42.359776)</td>\n",
       "      <td>55353</td>\n",
       "      <td>Business</td>\n",
       "      <td>19418</td>\n",
       "    </tr>\n",
       "  </tbody>\n",
       "</table>\n",
       "</div>"
      ],
      "text/plain": [
       "     city   latitude  longitude    q-score  safety  \\\n",
       "0  Boston  42.392273 -70.994942  14.495926       0   \n",
       "1  Boston  42.351974 -71.052361  19.801462       0   \n",
       "2  Boston  42.254936 -71.138962  22.083672       0   \n",
       "3  Boston  42.372772 -71.029839  23.882545       0   \n",
       "4  Boston  42.359776 -71.147301  19.756496       0   \n",
       "\n",
       "                            Coordinates  OBJECTID   SUBDISTRIC  \\\n",
       "0  POINT (-70.99494200000002 42.392273)     55507   Open Space   \n",
       "1          POINT (-71.052361 42.351974)     54845   Industrial   \n",
       "2  POINT (-71.13896200000001 42.254936)     54368  Residential   \n",
       "3          POINT (-71.029839 42.372772)     55508   Open Space   \n",
       "4          POINT (-71.147301 42.359776)     55353     Business   \n",
       "\n",
       "   index_outof_20000  \n",
       "0              12669  \n",
       "1              14403  \n",
       "2               6554  \n",
       "3              11783  \n",
       "4              19418  "
      ]
     },
     "execution_count": 51,
     "metadata": {},
     "output_type": "execute_result"
    }
   ],
   "source": [
    "train = pd.read_csv(\"~/Desktop/ML1030/us_safety/boston_train_list.csv\")\n",
    "train = train.drop(columns='Unnamed: 0')\n",
    "train.head(5)"
   ]
  },
  {
   "cell_type": "markdown",
   "metadata": {},
   "source": [
    "#### train_fetched_with_target = merge 'train_fetched' with 'train'"
   ]
  },
  {
   "cell_type": "code",
   "execution_count": 52,
   "metadata": {},
   "outputs": [
    {
     "data": {
      "text/html": [
       "<div>\n",
       "<style scoped>\n",
       "    .dataframe tbody tr th:only-of-type {\n",
       "        vertical-align: middle;\n",
       "    }\n",
       "\n",
       "    .dataframe tbody tr th {\n",
       "        vertical-align: top;\n",
       "    }\n",
       "\n",
       "    .dataframe thead th {\n",
       "        text-align: right;\n",
       "    }\n",
       "</style>\n",
       "<table border=\"1\" class=\"dataframe\">\n",
       "  <thead>\n",
       "    <tr style=\"text-align: right;\">\n",
       "      <th></th>\n",
       "      <th>_file</th>\n",
       "      <th>copyright</th>\n",
       "      <th>date</th>\n",
       "      <th>location</th>\n",
       "      <th>pano_id</th>\n",
       "      <th>status</th>\n",
       "      <th>city</th>\n",
       "      <th>latitude</th>\n",
       "      <th>longitude</th>\n",
       "      <th>q-score</th>\n",
       "      <th>safety</th>\n",
       "      <th>Coordinates</th>\n",
       "      <th>OBJECTID</th>\n",
       "      <th>SUBDISTRIC</th>\n",
       "      <th>index_outof_20000</th>\n",
       "      <th>img_index</th>\n",
       "    </tr>\n",
       "  </thead>\n",
       "  <tbody>\n",
       "    <tr>\n",
       "      <th>0</th>\n",
       "      <td>gsv_0.jpg</td>\n",
       "      <td>© Google</td>\n",
       "      <td>2018-09-01</td>\n",
       "      <td>{'lat': 42.39231519637968, 'lng': -70.99508225...</td>\n",
       "      <td>wuglr2YyMwYbhygr3NnnlA</td>\n",
       "      <td>OK</td>\n",
       "      <td>Boston</td>\n",
       "      <td>42.392273</td>\n",
       "      <td>-70.994942</td>\n",
       "      <td>14.495926</td>\n",
       "      <td>0</td>\n",
       "      <td>POINT (-70.99494200000002 42.392273)</td>\n",
       "      <td>55507</td>\n",
       "      <td>Open Space</td>\n",
       "      <td>12669</td>\n",
       "      <td>0</td>\n",
       "    </tr>\n",
       "    <tr>\n",
       "      <th>1</th>\n",
       "      <td>gsv_1.jpg</td>\n",
       "      <td>© Google</td>\n",
       "      <td>2018-09-01</td>\n",
       "      <td>{'lat': 42.35201675617876, 'lng': -71.05250743...</td>\n",
       "      <td>hvVHe462HUfb393G6Bog2Q</td>\n",
       "      <td>OK</td>\n",
       "      <td>Boston</td>\n",
       "      <td>42.351974</td>\n",
       "      <td>-71.052361</td>\n",
       "      <td>19.801462</td>\n",
       "      <td>0</td>\n",
       "      <td>POINT (-71.052361 42.351974)</td>\n",
       "      <td>54845</td>\n",
       "      <td>Industrial</td>\n",
       "      <td>14403</td>\n",
       "      <td>1</td>\n",
       "    </tr>\n",
       "    <tr>\n",
       "      <th>2</th>\n",
       "      <td>gsv_2.jpg</td>\n",
       "      <td>© Google</td>\n",
       "      <td>2011-08-01</td>\n",
       "      <td>{'lat': 42.25479230565306, 'lng': -71.13908174...</td>\n",
       "      <td>Ogs4R-jKrf4QhdL7UtD5VA</td>\n",
       "      <td>OK</td>\n",
       "      <td>Boston</td>\n",
       "      <td>42.254936</td>\n",
       "      <td>-71.138962</td>\n",
       "      <td>22.083672</td>\n",
       "      <td>0</td>\n",
       "      <td>POINT (-71.13896200000001 42.254936)</td>\n",
       "      <td>54368</td>\n",
       "      <td>Residential</td>\n",
       "      <td>6554</td>\n",
       "      <td>2</td>\n",
       "    </tr>\n",
       "  </tbody>\n",
       "</table>\n",
       "</div>"
      ],
      "text/plain": [
       "       _file copyright       date  \\\n",
       "0  gsv_0.jpg  © Google 2018-09-01   \n",
       "1  gsv_1.jpg  © Google 2018-09-01   \n",
       "2  gsv_2.jpg  © Google 2011-08-01   \n",
       "\n",
       "                                            location                 pano_id  \\\n",
       "0  {'lat': 42.39231519637968, 'lng': -70.99508225...  wuglr2YyMwYbhygr3NnnlA   \n",
       "1  {'lat': 42.35201675617876, 'lng': -71.05250743...  hvVHe462HUfb393G6Bog2Q   \n",
       "2  {'lat': 42.25479230565306, 'lng': -71.13908174...  Ogs4R-jKrf4QhdL7UtD5VA   \n",
       "\n",
       "  status    city   latitude  longitude    q-score  safety  \\\n",
       "0     OK  Boston  42.392273 -70.994942  14.495926       0   \n",
       "1     OK  Boston  42.351974 -71.052361  19.801462       0   \n",
       "2     OK  Boston  42.254936 -71.138962  22.083672       0   \n",
       "\n",
       "                            Coordinates  OBJECTID   SUBDISTRIC  \\\n",
       "0  POINT (-70.99494200000002 42.392273)     55507   Open Space   \n",
       "1          POINT (-71.052361 42.351974)     54845   Industrial   \n",
       "2  POINT (-71.13896200000001 42.254936)     54368  Residential   \n",
       "\n",
       "   index_outof_20000  img_index  \n",
       "0              12669          0  \n",
       "1              14403          1  \n",
       "2               6554          2  "
      ]
     },
     "execution_count": 52,
     "metadata": {},
     "output_type": "execute_result"
    }
   ],
   "source": [
    "train_fetched_with_target = pd.merge(train_fetched, train, left_index=True, right_index=True)\n",
    "train_fetched_with_target['img_index'] = train_fetched_with_target.index\n",
    "train_fetched_with_target.head(3)"
   ]
  },
  {
   "cell_type": "markdown",
   "metadata": {},
   "source": [
    "### test images' target: create a table 'test_fetched_with_target'"
   ]
  },
  {
   "cell_type": "markdown",
   "metadata": {},
   "source": [
    "#### test_fetched"
   ]
  },
  {
   "cell_type": "code",
   "execution_count": 45,
   "metadata": {},
   "outputs": [
    {
     "data": {
      "text/html": [
       "<div>\n",
       "<style scoped>\n",
       "    .dataframe tbody tr th:only-of-type {\n",
       "        vertical-align: middle;\n",
       "    }\n",
       "\n",
       "    .dataframe tbody tr th {\n",
       "        vertical-align: top;\n",
       "    }\n",
       "\n",
       "    .dataframe thead th {\n",
       "        text-align: right;\n",
       "    }\n",
       "</style>\n",
       "<table border=\"1\" class=\"dataframe\">\n",
       "  <thead>\n",
       "    <tr style=\"text-align: right;\">\n",
       "      <th></th>\n",
       "      <th>_file</th>\n",
       "      <th>copyright</th>\n",
       "      <th>date</th>\n",
       "      <th>location</th>\n",
       "      <th>pano_id</th>\n",
       "      <th>status</th>\n",
       "    </tr>\n",
       "  </thead>\n",
       "  <tbody>\n",
       "    <tr>\n",
       "      <th>0</th>\n",
       "      <td>gsv_0.jpg</td>\n",
       "      <td>© Google</td>\n",
       "      <td>2009-07-01</td>\n",
       "      <td>{'lat': 42.35404407381064, 'lng': -71.12316765...</td>\n",
       "      <td>xVDvT0Q2BDlRT5gFXnyVoA</td>\n",
       "      <td>OK</td>\n",
       "    </tr>\n",
       "    <tr>\n",
       "      <th>1</th>\n",
       "      <td>gsv_1.jpg</td>\n",
       "      <td>© Google</td>\n",
       "      <td>2014-06-01</td>\n",
       "      <td>{'lat': 42.36173991558862, 'lng': -71.05723471...</td>\n",
       "      <td>hroSnriFLgCvHhwY9UaoBg</td>\n",
       "      <td>OK</td>\n",
       "    </tr>\n",
       "    <tr>\n",
       "      <th>2</th>\n",
       "      <td>gsv_2.jpg</td>\n",
       "      <td>© Google</td>\n",
       "      <td>2015-10-01</td>\n",
       "      <td>{'lat': 42.36246790454329, 'lng': -71.14633789...</td>\n",
       "      <td>-iCUOdUXoai976bu0BlokA</td>\n",
       "      <td>OK</td>\n",
       "    </tr>\n",
       "  </tbody>\n",
       "</table>\n",
       "</div>"
      ],
      "text/plain": [
       "       _file copyright       date  \\\n",
       "0  gsv_0.jpg  © Google 2009-07-01   \n",
       "1  gsv_1.jpg  © Google 2014-06-01   \n",
       "2  gsv_2.jpg  © Google 2015-10-01   \n",
       "\n",
       "                                            location                 pano_id  \\\n",
       "0  {'lat': 42.35404407381064, 'lng': -71.12316765...  xVDvT0Q2BDlRT5gFXnyVoA   \n",
       "1  {'lat': 42.36173991558862, 'lng': -71.05723471...  hroSnriFLgCvHhwY9UaoBg   \n",
       "2  {'lat': 42.36246790454329, 'lng': -71.14633789...  -iCUOdUXoai976bu0BlokA   \n",
       "\n",
       "  status  \n",
       "0     OK  \n",
       "1     OK  \n",
       "2     OK  "
      ]
     },
     "execution_count": 45,
     "metadata": {},
     "output_type": "execute_result"
    }
   ],
   "source": [
    "test_meta = pd.read_json('~/Desktop/ML1030/us_safety/boston_test_metadata.json')\n",
    "test_meta.head(3)"
   ]
  },
  {
   "cell_type": "code",
   "execution_count": 37,
   "metadata": {},
   "outputs": [
    {
     "data": {
      "text/plain": [
       "status\n",
       "OK              3976\n",
       "ZERO_RESULTS      24\n",
       "dtype: int64"
      ]
     },
     "execution_count": 37,
     "metadata": {},
     "output_type": "execute_result"
    }
   ],
   "source": [
    "test_meta.groupby('status').size()"
   ]
  },
  {
   "cell_type": "code",
   "execution_count": 38,
   "metadata": {},
   "outputs": [],
   "source": [
    "test_fetched = test_meta[test_meta['status'] == 'OK']"
   ]
  },
  {
   "cell_type": "markdown",
   "metadata": {},
   "source": [
    "#### test (with target)"
   ]
  },
  {
   "cell_type": "code",
   "execution_count": 43,
   "metadata": {},
   "outputs": [
    {
     "data": {
      "text/html": [
       "<div>\n",
       "<style scoped>\n",
       "    .dataframe tbody tr th:only-of-type {\n",
       "        vertical-align: middle;\n",
       "    }\n",
       "\n",
       "    .dataframe tbody tr th {\n",
       "        vertical-align: top;\n",
       "    }\n",
       "\n",
       "    .dataframe thead th {\n",
       "        text-align: right;\n",
       "    }\n",
       "</style>\n",
       "<table border=\"1\" class=\"dataframe\">\n",
       "  <thead>\n",
       "    <tr style=\"text-align: right;\">\n",
       "      <th></th>\n",
       "      <th>city</th>\n",
       "      <th>latitude</th>\n",
       "      <th>longitude</th>\n",
       "      <th>q-score</th>\n",
       "      <th>safety</th>\n",
       "      <th>Coordinates</th>\n",
       "      <th>OBJECTID</th>\n",
       "      <th>SUBDISTRIC</th>\n",
       "      <th>index_outof_20000</th>\n",
       "    </tr>\n",
       "  </thead>\n",
       "  <tbody>\n",
       "    <tr>\n",
       "      <th>0</th>\n",
       "      <td>Boston</td>\n",
       "      <td>42.353924</td>\n",
       "      <td>-71.123283</td>\n",
       "      <td>28.367445</td>\n",
       "      <td>1</td>\n",
       "      <td>POINT (-71.123283 42.353924)</td>\n",
       "      <td>55314</td>\n",
       "      <td>Industrial</td>\n",
       "      <td>14035</td>\n",
       "    </tr>\n",
       "    <tr>\n",
       "      <th>1</th>\n",
       "      <td>Boston</td>\n",
       "      <td>42.361725</td>\n",
       "      <td>-71.057236</td>\n",
       "      <td>25.977942</td>\n",
       "      <td>1</td>\n",
       "      <td>POINT (-71.057236 42.361725)</td>\n",
       "      <td>55092</td>\n",
       "      <td>Mixed Use</td>\n",
       "      <td>17206</td>\n",
       "    </tr>\n",
       "    <tr>\n",
       "      <th>2</th>\n",
       "      <td>Boston</td>\n",
       "      <td>42.362373</td>\n",
       "      <td>-71.146179</td>\n",
       "      <td>22.974413</td>\n",
       "      <td>0</td>\n",
       "      <td>POINT (-71.146179 42.362373)</td>\n",
       "      <td>55391</td>\n",
       "      <td>Open Space</td>\n",
       "      <td>12841</td>\n",
       "    </tr>\n",
       "  </tbody>\n",
       "</table>\n",
       "</div>"
      ],
      "text/plain": [
       "     city   latitude  longitude    q-score  safety  \\\n",
       "0  Boston  42.353924 -71.123283  28.367445       1   \n",
       "1  Boston  42.361725 -71.057236  25.977942       1   \n",
       "2  Boston  42.362373 -71.146179  22.974413       0   \n",
       "\n",
       "                    Coordinates  OBJECTID  SUBDISTRIC  index_outof_20000  \n",
       "0  POINT (-71.123283 42.353924)     55314  Industrial              14035  \n",
       "1  POINT (-71.057236 42.361725)     55092   Mixed Use              17206  \n",
       "2  POINT (-71.146179 42.362373)     55391  Open Space              12841  "
      ]
     },
     "execution_count": 43,
     "metadata": {},
     "output_type": "execute_result"
    }
   ],
   "source": [
    "test = pd.read_csv(\"~/Desktop/ML1030/us_safety/boston_test_list.csv\")\n",
    "test = test.drop(columns='Unnamed: 0')\n",
    "test.head(3)"
   ]
  },
  {
   "cell_type": "markdown",
   "metadata": {},
   "source": [
    "#### test_fetched_with_target = merge 'test_fetched' with 'test'"
   ]
  },
  {
   "cell_type": "code",
   "execution_count": 46,
   "metadata": {},
   "outputs": [
    {
     "data": {
      "text/html": [
       "<div>\n",
       "<style scoped>\n",
       "    .dataframe tbody tr th:only-of-type {\n",
       "        vertical-align: middle;\n",
       "    }\n",
       "\n",
       "    .dataframe tbody tr th {\n",
       "        vertical-align: top;\n",
       "    }\n",
       "\n",
       "    .dataframe thead th {\n",
       "        text-align: right;\n",
       "    }\n",
       "</style>\n",
       "<table border=\"1\" class=\"dataframe\">\n",
       "  <thead>\n",
       "    <tr style=\"text-align: right;\">\n",
       "      <th></th>\n",
       "      <th>_file</th>\n",
       "      <th>copyright</th>\n",
       "      <th>date</th>\n",
       "      <th>location</th>\n",
       "      <th>pano_id</th>\n",
       "      <th>status</th>\n",
       "      <th>city</th>\n",
       "      <th>latitude</th>\n",
       "      <th>longitude</th>\n",
       "      <th>q-score</th>\n",
       "      <th>safety</th>\n",
       "      <th>Coordinates</th>\n",
       "      <th>OBJECTID</th>\n",
       "      <th>SUBDISTRIC</th>\n",
       "      <th>index_outof_20000</th>\n",
       "      <th>img_index</th>\n",
       "    </tr>\n",
       "  </thead>\n",
       "  <tbody>\n",
       "    <tr>\n",
       "      <th>0</th>\n",
       "      <td>gsv_0.jpg</td>\n",
       "      <td>© Google</td>\n",
       "      <td>2009-07-01</td>\n",
       "      <td>{'lat': 42.35404407381064, 'lng': -71.12316765...</td>\n",
       "      <td>xVDvT0Q2BDlRT5gFXnyVoA</td>\n",
       "      <td>OK</td>\n",
       "      <td>Boston</td>\n",
       "      <td>42.353924</td>\n",
       "      <td>-71.123283</td>\n",
       "      <td>28.367445</td>\n",
       "      <td>1</td>\n",
       "      <td>POINT (-71.123283 42.353924)</td>\n",
       "      <td>55314</td>\n",
       "      <td>Industrial</td>\n",
       "      <td>14035</td>\n",
       "      <td>0</td>\n",
       "    </tr>\n",
       "    <tr>\n",
       "      <th>1</th>\n",
       "      <td>gsv_1.jpg</td>\n",
       "      <td>© Google</td>\n",
       "      <td>2014-06-01</td>\n",
       "      <td>{'lat': 42.36173991558862, 'lng': -71.05723471...</td>\n",
       "      <td>hroSnriFLgCvHhwY9UaoBg</td>\n",
       "      <td>OK</td>\n",
       "      <td>Boston</td>\n",
       "      <td>42.361725</td>\n",
       "      <td>-71.057236</td>\n",
       "      <td>25.977942</td>\n",
       "      <td>1</td>\n",
       "      <td>POINT (-71.057236 42.361725)</td>\n",
       "      <td>55092</td>\n",
       "      <td>Mixed Use</td>\n",
       "      <td>17206</td>\n",
       "      <td>1</td>\n",
       "    </tr>\n",
       "    <tr>\n",
       "      <th>2</th>\n",
       "      <td>gsv_2.jpg</td>\n",
       "      <td>© Google</td>\n",
       "      <td>2015-10-01</td>\n",
       "      <td>{'lat': 42.36246790454329, 'lng': -71.14633789...</td>\n",
       "      <td>-iCUOdUXoai976bu0BlokA</td>\n",
       "      <td>OK</td>\n",
       "      <td>Boston</td>\n",
       "      <td>42.362373</td>\n",
       "      <td>-71.146179</td>\n",
       "      <td>22.974413</td>\n",
       "      <td>0</td>\n",
       "      <td>POINT (-71.146179 42.362373)</td>\n",
       "      <td>55391</td>\n",
       "      <td>Open Space</td>\n",
       "      <td>12841</td>\n",
       "      <td>2</td>\n",
       "    </tr>\n",
       "  </tbody>\n",
       "</table>\n",
       "</div>"
      ],
      "text/plain": [
       "       _file copyright       date  \\\n",
       "0  gsv_0.jpg  © Google 2009-07-01   \n",
       "1  gsv_1.jpg  © Google 2014-06-01   \n",
       "2  gsv_2.jpg  © Google 2015-10-01   \n",
       "\n",
       "                                            location                 pano_id  \\\n",
       "0  {'lat': 42.35404407381064, 'lng': -71.12316765...  xVDvT0Q2BDlRT5gFXnyVoA   \n",
       "1  {'lat': 42.36173991558862, 'lng': -71.05723471...  hroSnriFLgCvHhwY9UaoBg   \n",
       "2  {'lat': 42.36246790454329, 'lng': -71.14633789...  -iCUOdUXoai976bu0BlokA   \n",
       "\n",
       "  status    city   latitude  longitude    q-score  safety  \\\n",
       "0     OK  Boston  42.353924 -71.123283  28.367445       1   \n",
       "1     OK  Boston  42.361725 -71.057236  25.977942       1   \n",
       "2     OK  Boston  42.362373 -71.146179  22.974413       0   \n",
       "\n",
       "                    Coordinates  OBJECTID  SUBDISTRIC  index_outof_20000  \\\n",
       "0  POINT (-71.123283 42.353924)     55314  Industrial              14035   \n",
       "1  POINT (-71.057236 42.361725)     55092   Mixed Use              17206   \n",
       "2  POINT (-71.146179 42.362373)     55391  Open Space              12841   \n",
       "\n",
       "   img_index  \n",
       "0          0  \n",
       "1          1  \n",
       "2          2  "
      ]
     },
     "execution_count": 46,
     "metadata": {},
     "output_type": "execute_result"
    }
   ],
   "source": [
    "test_fetched_with_target = pd.merge(test_fetched, test, left_index=True, right_index=True)\n",
    "test_fetched_with_target['img_index'] = test_fetched_with_target.index\n",
    "test_fetched_with_target.head(3)"
   ]
  },
  {
   "cell_type": "markdown",
   "metadata": {},
   "source": [
    "### Check wthether the portion of 'safety' 'subdistrict' changed"
   ]
  },
  {
   "cell_type": "code",
   "execution_count": 53,
   "metadata": {},
   "outputs": [
    {
     "data": {
      "text/plain": [
       "SUBDISTRIC\n",
       "Business         0.052486\n",
       "Comm/Instit      0.020279\n",
       "Industrial       0.139691\n",
       "Miscellaneous    0.043508\n",
       "Mixed Use        0.065545\n",
       "Open Space       0.178177\n",
       "Residential      0.500314\n",
       "Name: city, dtype: float64"
      ]
     },
     "execution_count": 53,
     "metadata": {},
     "output_type": "execute_result"
    }
   ],
   "source": [
    "train_fetched_with_target.groupby(['SUBDISTRIC']).count()['city'] / train_fetched_with_target.groupby(['SUBDISTRIC']).count()['city'].sum()"
   ]
  },
  {
   "cell_type": "code",
   "execution_count": 41,
   "metadata": {},
   "outputs": [
    {
     "data": {
      "text/plain": [
       "SUBDISTRIC\n",
       "Business         0.058099\n",
       "Comm/Instit      0.021630\n",
       "Industrial       0.131036\n",
       "Miscellaneous    0.042757\n",
       "Mixed Use        0.066650\n",
       "Open Space       0.178823\n",
       "Residential      0.501006\n",
       "Name: city, dtype: float64"
      ]
     },
     "execution_count": 41,
     "metadata": {},
     "output_type": "execute_result"
    }
   ],
   "source": [
    "test_fetched_with_target.groupby(['SUBDISTRIC']).count()['city'] / test_fetched_with_target.groupby(['SUBDISTRIC']).count()['city'].sum()"
   ]
  },
  {
   "cell_type": "code",
   "execution_count": 54,
   "metadata": {},
   "outputs": [
    {
     "data": {
      "text/plain": [
       "safety\n",
       "0    0.544136\n",
       "1    0.455864\n",
       "Name: city, dtype: float64"
      ]
     },
     "execution_count": 54,
     "metadata": {},
     "output_type": "execute_result"
    }
   ],
   "source": [
    "train_fetched_with_target.groupby(['safety']).count()['city'] / train_fetched_with_target.groupby(['safety']).count()['city'].sum()"
   ]
  },
  {
   "cell_type": "code",
   "execution_count": 42,
   "metadata": {},
   "outputs": [
    {
     "data": {
      "text/plain": [
       "safety\n",
       "0    0.541751\n",
       "1    0.458249\n",
       "Name: city, dtype: float64"
      ]
     },
     "execution_count": 42,
     "metadata": {},
     "output_type": "execute_result"
    }
   ],
   "source": [
    "test_fetched_with_target.groupby(['safety']).count()['city'] / test_fetched_with_target.groupby(['safety']).count()['city'].sum()"
   ]
  },
  {
   "cell_type": "code",
   "execution_count": 47,
   "metadata": {},
   "outputs": [],
   "source": [
    "train_fetched_with_target.to_csv(\"~/Desktop/ML1030/us_safety/boston_train_fetched_with_target.csv\", index = False)\n",
    "test_fetched_with_target.to_csv(\"~/Desktop/ML1030/us_safety/boston_test_fetched_with_target.csv\", index = False)"
   ]
  },
  {
   "cell_type": "markdown",
   "metadata": {},
   "source": [
    "## 2) Calculate the fetched images' updated year."
   ]
  },
  {
   "cell_type": "code",
   "execution_count": 41,
   "metadata": {},
   "outputs": [
    {
     "name": "stderr",
     "output_type": "stream",
     "text": [
      "/anaconda3/lib/python3.6/site-packages/ipykernel_launcher.py:1: SettingWithCopyWarning: \n",
      "A value is trying to be set on a copy of a slice from a DataFrame.\n",
      "Try using .loc[row_indexer,col_indexer] = value instead\n",
      "\n",
      "See the caveats in the documentation: http://pandas.pydata.org/pandas-docs/stable/indexing.html#indexing-view-versus-copy\n",
      "  \"\"\"Entry point for launching an IPython kernel.\n"
     ]
    },
    {
     "data": {
      "text/plain": [
       "year\n",
       "2007.0      130\n",
       "2008.0        6\n",
       "2009.0       79\n",
       "2010.0       26\n",
       "2011.0      706\n",
       "2012.0       23\n",
       "2013.0     1853\n",
       "2014.0      428\n",
       "2015.0      243\n",
       "2016.0      660\n",
       "2017.0     1540\n",
       "2018.0    10200\n",
       "2019.0       23\n",
       "Name: _file, dtype: int64"
      ]
     },
     "execution_count": 41,
     "metadata": {},
     "output_type": "execute_result"
    }
   ],
   "source": [
    "train_fetched['year']= pd.to_datetime(train_fetched['date'], format='%Y/%m/%d').dt.year\n",
    "train_fetched.groupby(['year']).count()['_file']"
   ]
  },
  {
   "cell_type": "code",
   "execution_count": 40,
   "metadata": {},
   "outputs": [
    {
     "name": "stderr",
     "output_type": "stream",
     "text": [
      "/anaconda3/lib/python3.6/site-packages/ipykernel_launcher.py:1: SettingWithCopyWarning: \n",
      "A value is trying to be set on a copy of a slice from a DataFrame.\n",
      "Try using .loc[row_indexer,col_indexer] = value instead\n",
      "\n",
      "See the caveats in the documentation: http://pandas.pydata.org/pandas-docs/stable/indexing.html#indexing-view-versus-copy\n",
      "  \"\"\"Entry point for launching an IPython kernel.\n"
     ]
    },
    {
     "data": {
      "text/plain": [
       "year\n",
       "2007.0      38\n",
       "2008.0       2\n",
       "2009.0      18\n",
       "2010.0       6\n",
       "2011.0     201\n",
       "2012.0       6\n",
       "2013.0     440\n",
       "2014.0      83\n",
       "2015.0      82\n",
       "2016.0     174\n",
       "2017.0     387\n",
       "2018.0    2534\n",
       "2019.0       3\n",
       "Name: _file, dtype: int64"
      ]
     },
     "execution_count": 40,
     "metadata": {},
     "output_type": "execute_result"
    }
   ],
   "source": [
    "test_fetched['year']= pd.to_datetime(test_fetched['date'], format='%Y/%m/%d').dt.year\n",
    "test_fetched.groupby(['year']).count()['_file']"
   ]
  },
  {
   "cell_type": "code",
   "execution_count": null,
   "metadata": {},
   "outputs": [],
   "source": []
  }
 ],
 "metadata": {
  "kernelspec": {
   "display_name": "Python 3",
   "language": "python",
   "name": "python3"
  },
  "language_info": {
   "codemirror_mode": {
    "name": "ipython",
    "version": 3
   },
   "file_extension": ".py",
   "mimetype": "text/x-python",
   "name": "python",
   "nbconvert_exporter": "python",
   "pygments_lexer": "ipython3",
   "version": "3.6.8"
  }
 },
 "nbformat": 4,
 "nbformat_minor": 2
}
