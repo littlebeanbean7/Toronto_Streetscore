{
 "cells": [
  {
   "cell_type": "markdown",
   "metadata": {},
   "source": [
    "### For the 20,000 boston samples, split it into 80 : 20 as train and test, so as to use the train and test image lists to fetch images"
   ]
  },
  {
   "cell_type": "code",
   "execution_count": 40,
   "metadata": {},
   "outputs": [],
   "source": [
    "import pandas as pd\n",
    "from sklearn.model_selection import train_test_split"
   ]
  },
  {
   "cell_type": "code",
   "execution_count": 41,
   "metadata": {},
   "outputs": [],
   "source": [
    "boston_safety_subsample = pd.read_csv(\"~/Desktop/ML1030/us_safety/boston_safety_subsample.csv\")\n",
    "boston_safety_subsample = boston_safety_subsample.drop(columns='Unnamed: 0')"
   ]
  },
  {
   "cell_type": "code",
   "execution_count": 42,
   "metadata": {},
   "outputs": [
    {
     "data": {
      "text/html": [
       "<div>\n",
       "<style scoped>\n",
       "    .dataframe tbody tr th:only-of-type {\n",
       "        vertical-align: middle;\n",
       "    }\n",
       "\n",
       "    .dataframe tbody tr th {\n",
       "        vertical-align: top;\n",
       "    }\n",
       "\n",
       "    .dataframe thead th {\n",
       "        text-align: right;\n",
       "    }\n",
       "</style>\n",
       "<table border=\"1\" class=\"dataframe\">\n",
       "  <thead>\n",
       "    <tr style=\"text-align: right;\">\n",
       "      <th></th>\n",
       "      <th>city</th>\n",
       "      <th>latitude</th>\n",
       "      <th>longitude</th>\n",
       "      <th>q-score</th>\n",
       "      <th>safety</th>\n",
       "      <th>Coordinates</th>\n",
       "      <th>OBJECTID</th>\n",
       "      <th>SUBDISTRIC</th>\n",
       "    </tr>\n",
       "  </thead>\n",
       "  <tbody>\n",
       "    <tr>\n",
       "      <th>0</th>\n",
       "      <td>Boston</td>\n",
       "      <td>42.348724</td>\n",
       "      <td>-71.071495</td>\n",
       "      <td>28.634125</td>\n",
       "      <td>1</td>\n",
       "      <td>POINT (-71.071495 42.348724)</td>\n",
       "      <td>54998</td>\n",
       "      <td>Residential</td>\n",
       "    </tr>\n",
       "    <tr>\n",
       "      <th>1</th>\n",
       "      <td>Boston</td>\n",
       "      <td>42.288597</td>\n",
       "      <td>-71.065681</td>\n",
       "      <td>26.525396</td>\n",
       "      <td>1</td>\n",
       "      <td>POINT (-71.06568100000001 42.288597)</td>\n",
       "      <td>55642</td>\n",
       "      <td>Residential</td>\n",
       "    </tr>\n",
       "    <tr>\n",
       "      <th>2</th>\n",
       "      <td>Boston</td>\n",
       "      <td>42.295563</td>\n",
       "      <td>-71.138023</td>\n",
       "      <td>29.614868</td>\n",
       "      <td>1</td>\n",
       "      <td>POINT (-71.138023 42.295563)</td>\n",
       "      <td>54450</td>\n",
       "      <td>Residential</td>\n",
       "    </tr>\n",
       "    <tr>\n",
       "      <th>3</th>\n",
       "      <td>Boston</td>\n",
       "      <td>42.312973</td>\n",
       "      <td>-71.076004</td>\n",
       "      <td>30.076191</td>\n",
       "      <td>1</td>\n",
       "      <td>POINT (-71.076004 42.312973)</td>\n",
       "      <td>55523</td>\n",
       "      <td>Residential</td>\n",
       "    </tr>\n",
       "    <tr>\n",
       "      <th>4</th>\n",
       "      <td>Boston</td>\n",
       "      <td>42.311348</td>\n",
       "      <td>-71.060051</td>\n",
       "      <td>26.038879</td>\n",
       "      <td>1</td>\n",
       "      <td>POINT (-71.060051 42.311348)</td>\n",
       "      <td>55604</td>\n",
       "      <td>Residential</td>\n",
       "    </tr>\n",
       "  </tbody>\n",
       "</table>\n",
       "</div>"
      ],
      "text/plain": [
       "     city   latitude  longitude    q-score  safety  \\\n",
       "0  Boston  42.348724 -71.071495  28.634125       1   \n",
       "1  Boston  42.288597 -71.065681  26.525396       1   \n",
       "2  Boston  42.295563 -71.138023  29.614868       1   \n",
       "3  Boston  42.312973 -71.076004  30.076191       1   \n",
       "4  Boston  42.311348 -71.060051  26.038879       1   \n",
       "\n",
       "                            Coordinates  OBJECTID   SUBDISTRIC  \n",
       "0          POINT (-71.071495 42.348724)     54998  Residential  \n",
       "1  POINT (-71.06568100000001 42.288597)     55642  Residential  \n",
       "2          POINT (-71.138023 42.295563)     54450  Residential  \n",
       "3          POINT (-71.076004 42.312973)     55523  Residential  \n",
       "4          POINT (-71.060051 42.311348)     55604  Residential  "
      ]
     },
     "execution_count": 42,
     "metadata": {},
     "output_type": "execute_result"
    }
   ],
   "source": [
    "boston_safety_subsample.head()"
   ]
  },
  {
   "cell_type": "code",
   "execution_count": 43,
   "metadata": {},
   "outputs": [],
   "source": [
    "train, test = train_test_split(boston_safety_subsample, test_size=0.2)"
   ]
  },
  {
   "cell_type": "markdown",
   "metadata": {},
   "source": [
    "### Check: both train and test represent the portion of SUBDISTRIC in the 20,000 samples"
   ]
  },
  {
   "cell_type": "code",
   "execution_count": 44,
   "metadata": {},
   "outputs": [
    {
     "data": {
      "text/plain": [
       "SUBDISTRIC\n",
       "Business         0.05340\n",
       "Comm/Instit      0.02100\n",
       "Industrial       0.13900\n",
       "Miscellaneous    0.04335\n",
       "Mixed Use        0.06575\n",
       "Open Space       0.17860\n",
       "Residential      0.49890\n",
       "Name: city, dtype: float64"
      ]
     },
     "execution_count": 44,
     "metadata": {},
     "output_type": "execute_result"
    }
   ],
   "source": [
    "boston_safety_subsample.groupby(['SUBDISTRIC']).count()['city'] / boston_safety_subsample.groupby(['SUBDISTRIC']).count()['city'].sum()"
   ]
  },
  {
   "cell_type": "code",
   "execution_count": 45,
   "metadata": {},
   "outputs": [
    {
     "data": {
      "text/plain": [
       "SUBDISTRIC\n",
       "Business         0.052312\n",
       "Comm/Instit      0.020688\n",
       "Industrial       0.140375\n",
       "Miscellaneous    0.043562\n",
       "Mixed Use        0.065562\n",
       "Open Space       0.178500\n",
       "Residential      0.499000\n",
       "Name: city, dtype: float64"
      ]
     },
     "execution_count": 45,
     "metadata": {},
     "output_type": "execute_result"
    }
   ],
   "source": [
    "train.groupby(['SUBDISTRIC']).count()['city'] / train.groupby(['SUBDISTRIC']).count()['city'].sum()"
   ]
  },
  {
   "cell_type": "code",
   "execution_count": 46,
   "metadata": {},
   "outputs": [
    {
     "data": {
      "text/plain": [
       "SUBDISTRIC\n",
       "Business         0.05775\n",
       "Comm/Instit      0.02225\n",
       "Industrial       0.13350\n",
       "Miscellaneous    0.04250\n",
       "Mixed Use        0.06650\n",
       "Open Space       0.17900\n",
       "Residential      0.49850\n",
       "Name: city, dtype: float64"
      ]
     },
     "execution_count": 46,
     "metadata": {},
     "output_type": "execute_result"
    }
   ],
   "source": [
    "test.groupby(['SUBDISTRIC']).count()['city'] / test.groupby(['SUBDISTRIC']).count()['city'].sum()"
   ]
  },
  {
   "cell_type": "markdown",
   "metadata": {},
   "source": [
    "### Check: both train and test represent the portion of 'safety' in the 20,000 samples"
   ]
  },
  {
   "cell_type": "code",
   "execution_count": 47,
   "metadata": {},
   "outputs": [
    {
     "data": {
      "text/plain": [
       "safety\n",
       "0    0.54425\n",
       "1    0.45575\n",
       "Name: city, dtype: float64"
      ]
     },
     "execution_count": 47,
     "metadata": {},
     "output_type": "execute_result"
    }
   ],
   "source": [
    "boston_safety_subsample.groupby(['safety']).count()['city'] / boston_safety_subsample.groupby(['safety']).count()['city'].sum()"
   ]
  },
  {
   "cell_type": "code",
   "execution_count": 48,
   "metadata": {},
   "outputs": [
    {
     "data": {
      "text/plain": [
       "safety\n",
       "0    0.54475\n",
       "1    0.45525\n",
       "Name: city, dtype: float64"
      ]
     },
     "execution_count": 48,
     "metadata": {},
     "output_type": "execute_result"
    }
   ],
   "source": [
    "train.groupby(['safety']).count()['city'] / train.groupby(['safety']).count()['city'].sum()"
   ]
  },
  {
   "cell_type": "code",
   "execution_count": 49,
   "metadata": {},
   "outputs": [
    {
     "data": {
      "text/plain": [
       "safety\n",
       "0    0.54225\n",
       "1    0.45775\n",
       "Name: city, dtype: float64"
      ]
     },
     "execution_count": 49,
     "metadata": {},
     "output_type": "execute_result"
    }
   ],
   "source": [
    "test.groupby(['safety']).count()['city'] / test.groupby(['safety']).count()['city'].sum()"
   ]
  },
  {
   "cell_type": "code",
   "execution_count": 50,
   "metadata": {},
   "outputs": [],
   "source": [
    "train.to_csv(\"~/Desktop/ML1030/us_safety/boston_train_list.csv\")\n",
    "test.to_csv(\"~/Desktop/ML1030/us_safety/boston_test_list.csv\")"
   ]
  },
  {
   "cell_type": "code",
   "execution_count": null,
   "metadata": {},
   "outputs": [],
   "source": []
  }
 ],
 "metadata": {
  "kernelspec": {
   "display_name": "Python 3",
   "language": "python",
   "name": "python3"
  },
  "language_info": {
   "codemirror_mode": {
    "name": "ipython",
    "version": 3
   },
   "file_extension": ".py",
   "mimetype": "text/x-python",
   "name": "python",
   "nbconvert_exporter": "python",
   "pygments_lexer": "ipython3",
   "version": "3.6.8"
  }
 },
 "nbformat": 4,
 "nbformat_minor": 2
}
