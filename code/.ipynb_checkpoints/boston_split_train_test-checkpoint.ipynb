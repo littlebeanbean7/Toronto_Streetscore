{
 "cells": [
  {
   "cell_type": "markdown",
   "metadata": {},
   "source": [
    "In this script, for the downsampled 20,000 boston samples, we split them into 80 : 20 as training and test sets, so as to use the trainings and test sets to fetch images and save the training and test images into 2 seperate folders.\n",
    "\n",
    "An alternative way is to fetch the 20,000 images altogether and save them into one folder first, split the training and test sets later, and then write a function to select training and test images separately from the image folder."
   ]
  },
  {
   "cell_type": "code",
   "execution_count": 40,
   "metadata": {},
   "outputs": [],
   "source": [
    "import pandas as pd\n",
    "from sklearn.model_selection import train_test_split"
   ]
  },
  {
   "cell_type": "code",
   "execution_count": 41,
   "metadata": {},
   "outputs": [],
   "source": [
    "boston_safety_subsample = pd.read_csv(\"~/Desktop/ML1030/us_safety/boston_safety_subsample.csv\")\n",
    "boston_safety_subsample = boston_safety_subsample.drop(columns='Unnamed: 0')"
   ]
  },
  {
   "cell_type": "code",
   "execution_count": 42,
   "metadata": {},
   "outputs": [
    {
     "data": {
      "text/html": [
       "<div>\n",
       "<style scoped>\n",
       "    .dataframe tbody tr th:only-of-type {\n",
       "        vertical-align: middle;\n",
       "    }\n",
       "\n",
       "    .dataframe tbody tr th {\n",
       "        vertical-align: top;\n",
       "    }\n",
       "\n",
       "    .dataframe thead th {\n",
       "        text-align: right;\n",
       "    }\n",
       "</style>\n",
       "<table border=\"1\" class=\"dataframe\">\n",
       "  <thead>\n",
       "    <tr style=\"text-align: right;\">\n",
       "      <th></th>\n",
       "      <th>city</th>\n",
       "      <th>latitude</th>\n",
       "      <th>longitude</th>\n",
       "      <th>q-score</th>\n",
       "      <th>safety</th>\n",
       "      <th>Coordinates</th>\n",
       "      <th>OBJECTID</th>\n",
       "      <th>SUBDISTRIC</th>\n",
       "    </tr>\n",
       "  </thead>\n",
       "  <tbody>\n",
       "    <tr>\n",
       "      <th>0</th>\n",
       "      <td>Boston</td>\n",
       "      <td>42.348724</td>\n",
       "      <td>-71.071495</td>\n",
       "      <td>28.634125</td>\n",
       "      <td>1</td>\n",
       "      <td>POINT (-71.071495 42.348724)</td>\n",
       "      <td>54998</td>\n",
       "      <td>Residential</td>\n",
       "    </tr>\n",
       "    <tr>\n",
       "      <th>1</th>\n",
       "      <td>Boston</td>\n",
       "      <td>42.288597</td>\n",
       "      <td>-71.065681</td>\n",
       "      <td>26.525396</td>\n",
       "      <td>1</td>\n",
       "      <td>POINT (-71.06568100000001 42.288597)</td>\n",
       "      <td>55642</td>\n",
       "      <td>Residential</td>\n",
       "    </tr>\n",
       "    <tr>\n",
       "      <th>2</th>\n",
       "      <td>Boston</td>\n",
       "      <td>42.295563</td>\n",
       "      <td>-71.138023</td>\n",
       "      <td>29.614868</td>\n",
       "      <td>1</td>\n",
       "      <td>POINT (-71.138023 42.295563)</td>\n",
       "      <td>54450</td>\n",
       "      <td>Residential</td>\n",
       "    </tr>\n",
       "    <tr>\n",
       "      <th>3</th>\n",
       "      <td>Boston</td>\n",
       "      <td>42.312973</td>\n",
       "      <td>-71.076004</td>\n",
       "      <td>30.076191</td>\n",
       "      <td>1</td>\n",
       "      <td>POINT (-71.076004 42.312973)</td>\n",
       "      <td>55523</td>\n",
       "      <td>Residential</td>\n",
       "    </tr>\n",
       "    <tr>\n",
       "      <th>4</th>\n",
       "      <td>Boston</td>\n",
       "      <td>42.311348</td>\n",
       "      <td>-71.060051</td>\n",
       "      <td>26.038879</td>\n",
       "      <td>1</td>\n",
       "      <td>POINT (-71.060051 42.311348)</td>\n",
       "      <td>55604</td>\n",
       "      <td>Residential</td>\n",
       "    </tr>\n",
       "  </tbody>\n",
       "</table>\n",
       "</div>"
      ],
      "text/plain": [
       "     city   latitude  longitude    q-score  safety  \\\n",
       "0  Boston  42.348724 -71.071495  28.634125       1   \n",
       "1  Boston  42.288597 -71.065681  26.525396       1   \n",
       "2  Boston  42.295563 -71.138023  29.614868       1   \n",
       "3  Boston  42.312973 -71.076004  30.076191       1   \n",
       "4  Boston  42.311348 -71.060051  26.038879       1   \n",
       "\n",
       "                            Coordinates  OBJECTID   SUBDISTRIC  \n",
       "0          POINT (-71.071495 42.348724)     54998  Residential  \n",
       "1  POINT (-71.06568100000001 42.288597)     55642  Residential  \n",
       "2          POINT (-71.138023 42.295563)     54450  Residential  \n",
       "3          POINT (-71.076004 42.312973)     55523  Residential  \n",
       "4          POINT (-71.060051 42.311348)     55604  Residential  "
      ]
     },
     "execution_count": 42,
     "metadata": {},
     "output_type": "execute_result"
    }
   ],
   "source": [
    "boston_safety_subsample.head()"
   ]
  },
  {
   "cell_type": "code",
   "execution_count": 43,
   "metadata": {},
   "outputs": [],
   "source": [
    "train, test = train_test_split(boston_safety_subsample, test_size=0.2)"
   ]
  },
  {
   "cell_type": "code",
   "execution_count": 52,
   "metadata": {},
   "outputs": [
    {
     "data": {
      "text/html": [
       "<div>\n",
       "<style scoped>\n",
       "    .dataframe tbody tr th:only-of-type {\n",
       "        vertical-align: middle;\n",
       "    }\n",
       "\n",
       "    .dataframe tbody tr th {\n",
       "        vertical-align: top;\n",
       "    }\n",
       "\n",
       "    .dataframe thead th {\n",
       "        text-align: right;\n",
       "    }\n",
       "</style>\n",
       "<table border=\"1\" class=\"dataframe\">\n",
       "  <thead>\n",
       "    <tr style=\"text-align: right;\">\n",
       "      <th></th>\n",
       "      <th>city</th>\n",
       "      <th>latitude</th>\n",
       "      <th>longitude</th>\n",
       "      <th>q-score</th>\n",
       "      <th>safety</th>\n",
       "      <th>Coordinates</th>\n",
       "      <th>OBJECTID</th>\n",
       "      <th>SUBDISTRIC</th>\n",
       "    </tr>\n",
       "  </thead>\n",
       "  <tbody>\n",
       "    <tr>\n",
       "      <th>12669</th>\n",
       "      <td>Boston</td>\n",
       "      <td>42.392273</td>\n",
       "      <td>-70.994942</td>\n",
       "      <td>14.495926</td>\n",
       "      <td>0</td>\n",
       "      <td>POINT (-70.99494200000002 42.392273)</td>\n",
       "      <td>55507</td>\n",
       "      <td>Open Space</td>\n",
       "    </tr>\n",
       "    <tr>\n",
       "      <th>14403</th>\n",
       "      <td>Boston</td>\n",
       "      <td>42.351974</td>\n",
       "      <td>-71.052361</td>\n",
       "      <td>19.801462</td>\n",
       "      <td>0</td>\n",
       "      <td>POINT (-71.052361 42.351974)</td>\n",
       "      <td>54845</td>\n",
       "      <td>Industrial</td>\n",
       "    </tr>\n",
       "    <tr>\n",
       "      <th>6554</th>\n",
       "      <td>Boston</td>\n",
       "      <td>42.254936</td>\n",
       "      <td>-71.138962</td>\n",
       "      <td>22.083672</td>\n",
       "      <td>0</td>\n",
       "      <td>POINT (-71.13896200000001 42.254936)</td>\n",
       "      <td>54368</td>\n",
       "      <td>Residential</td>\n",
       "    </tr>\n",
       "    <tr>\n",
       "      <th>11783</th>\n",
       "      <td>Boston</td>\n",
       "      <td>42.372772</td>\n",
       "      <td>-71.029839</td>\n",
       "      <td>23.882545</td>\n",
       "      <td>0</td>\n",
       "      <td>POINT (-71.029839 42.372772)</td>\n",
       "      <td>55508</td>\n",
       "      <td>Open Space</td>\n",
       "    </tr>\n",
       "    <tr>\n",
       "      <th>19418</th>\n",
       "      <td>Boston</td>\n",
       "      <td>42.359776</td>\n",
       "      <td>-71.147301</td>\n",
       "      <td>19.756496</td>\n",
       "      <td>0</td>\n",
       "      <td>POINT (-71.147301 42.359776)</td>\n",
       "      <td>55353</td>\n",
       "      <td>Business</td>\n",
       "    </tr>\n",
       "  </tbody>\n",
       "</table>\n",
       "</div>"
      ],
      "text/plain": [
       "         city   latitude  longitude    q-score  safety  \\\n",
       "12669  Boston  42.392273 -70.994942  14.495926       0   \n",
       "14403  Boston  42.351974 -71.052361  19.801462       0   \n",
       "6554   Boston  42.254936 -71.138962  22.083672       0   \n",
       "11783  Boston  42.372772 -71.029839  23.882545       0   \n",
       "19418  Boston  42.359776 -71.147301  19.756496       0   \n",
       "\n",
       "                                Coordinates  OBJECTID   SUBDISTRIC  \n",
       "12669  POINT (-70.99494200000002 42.392273)     55507   Open Space  \n",
       "14403          POINT (-71.052361 42.351974)     54845   Industrial  \n",
       "6554   POINT (-71.13896200000001 42.254936)     54368  Residential  \n",
       "11783          POINT (-71.029839 42.372772)     55508   Open Space  \n",
       "19418          POINT (-71.147301 42.359776)     55353     Business  "
      ]
     },
     "execution_count": 52,
     "metadata": {},
     "output_type": "execute_result"
    }
   ],
   "source": [
    "train.head()"
   ]
  },
  {
   "cell_type": "code",
   "execution_count": 54,
   "metadata": {},
   "outputs": [
    {
     "name": "stderr",
     "output_type": "stream",
     "text": [
      "/anaconda3/lib/python3.6/site-packages/ipykernel_launcher.py:1: SettingWithCopyWarning: \n",
      "A value is trying to be set on a copy of a slice from a DataFrame.\n",
      "Try using .loc[row_indexer,col_indexer] = value instead\n",
      "\n",
      "See the caveats in the documentation: http://pandas.pydata.org/pandas-docs/stable/indexing.html#indexing-view-versus-copy\n",
      "  \"\"\"Entry point for launching an IPython kernel.\n"
     ]
    }
   ],
   "source": [
    "train['index_outof_20000'] = train.index"
   ]
  },
  {
   "cell_type": "code",
   "execution_count": 55,
   "metadata": {},
   "outputs": [
    {
     "data": {
      "text/html": [
       "<div>\n",
       "<style scoped>\n",
       "    .dataframe tbody tr th:only-of-type {\n",
       "        vertical-align: middle;\n",
       "    }\n",
       "\n",
       "    .dataframe tbody tr th {\n",
       "        vertical-align: top;\n",
       "    }\n",
       "\n",
       "    .dataframe thead th {\n",
       "        text-align: right;\n",
       "    }\n",
       "</style>\n",
       "<table border=\"1\" class=\"dataframe\">\n",
       "  <thead>\n",
       "    <tr style=\"text-align: right;\">\n",
       "      <th></th>\n",
       "      <th>city</th>\n",
       "      <th>latitude</th>\n",
       "      <th>longitude</th>\n",
       "      <th>q-score</th>\n",
       "      <th>safety</th>\n",
       "      <th>Coordinates</th>\n",
       "      <th>OBJECTID</th>\n",
       "      <th>SUBDISTRIC</th>\n",
       "      <th>index_outof_20000</th>\n",
       "    </tr>\n",
       "  </thead>\n",
       "  <tbody>\n",
       "    <tr>\n",
       "      <th>12669</th>\n",
       "      <td>Boston</td>\n",
       "      <td>42.392273</td>\n",
       "      <td>-70.994942</td>\n",
       "      <td>14.495926</td>\n",
       "      <td>0</td>\n",
       "      <td>POINT (-70.99494200000002 42.392273)</td>\n",
       "      <td>55507</td>\n",
       "      <td>Open Space</td>\n",
       "      <td>12669</td>\n",
       "    </tr>\n",
       "    <tr>\n",
       "      <th>14403</th>\n",
       "      <td>Boston</td>\n",
       "      <td>42.351974</td>\n",
       "      <td>-71.052361</td>\n",
       "      <td>19.801462</td>\n",
       "      <td>0</td>\n",
       "      <td>POINT (-71.052361 42.351974)</td>\n",
       "      <td>54845</td>\n",
       "      <td>Industrial</td>\n",
       "      <td>14403</td>\n",
       "    </tr>\n",
       "    <tr>\n",
       "      <th>6554</th>\n",
       "      <td>Boston</td>\n",
       "      <td>42.254936</td>\n",
       "      <td>-71.138962</td>\n",
       "      <td>22.083672</td>\n",
       "      <td>0</td>\n",
       "      <td>POINT (-71.13896200000001 42.254936)</td>\n",
       "      <td>54368</td>\n",
       "      <td>Residential</td>\n",
       "      <td>6554</td>\n",
       "    </tr>\n",
       "    <tr>\n",
       "      <th>11783</th>\n",
       "      <td>Boston</td>\n",
       "      <td>42.372772</td>\n",
       "      <td>-71.029839</td>\n",
       "      <td>23.882545</td>\n",
       "      <td>0</td>\n",
       "      <td>POINT (-71.029839 42.372772)</td>\n",
       "      <td>55508</td>\n",
       "      <td>Open Space</td>\n",
       "      <td>11783</td>\n",
       "    </tr>\n",
       "    <tr>\n",
       "      <th>19418</th>\n",
       "      <td>Boston</td>\n",
       "      <td>42.359776</td>\n",
       "      <td>-71.147301</td>\n",
       "      <td>19.756496</td>\n",
       "      <td>0</td>\n",
       "      <td>POINT (-71.147301 42.359776)</td>\n",
       "      <td>55353</td>\n",
       "      <td>Business</td>\n",
       "      <td>19418</td>\n",
       "    </tr>\n",
       "  </tbody>\n",
       "</table>\n",
       "</div>"
      ],
      "text/plain": [
       "         city   latitude  longitude    q-score  safety  \\\n",
       "12669  Boston  42.392273 -70.994942  14.495926       0   \n",
       "14403  Boston  42.351974 -71.052361  19.801462       0   \n",
       "6554   Boston  42.254936 -71.138962  22.083672       0   \n",
       "11783  Boston  42.372772 -71.029839  23.882545       0   \n",
       "19418  Boston  42.359776 -71.147301  19.756496       0   \n",
       "\n",
       "                                Coordinates  OBJECTID   SUBDISTRIC  \\\n",
       "12669  POINT (-70.99494200000002 42.392273)     55507   Open Space   \n",
       "14403          POINT (-71.052361 42.351974)     54845   Industrial   \n",
       "6554   POINT (-71.13896200000001 42.254936)     54368  Residential   \n",
       "11783          POINT (-71.029839 42.372772)     55508   Open Space   \n",
       "19418          POINT (-71.147301 42.359776)     55353     Business   \n",
       "\n",
       "       index_outof_20000  \n",
       "12669              12669  \n",
       "14403              14403  \n",
       "6554                6554  \n",
       "11783              11783  \n",
       "19418              19418  "
      ]
     },
     "execution_count": 55,
     "metadata": {},
     "output_type": "execute_result"
    }
   ],
   "source": [
    "train.head()"
   ]
  },
  {
   "cell_type": "code",
   "execution_count": 53,
   "metadata": {},
   "outputs": [
    {
     "data": {
      "text/html": [
       "<div>\n",
       "<style scoped>\n",
       "    .dataframe tbody tr th:only-of-type {\n",
       "        vertical-align: middle;\n",
       "    }\n",
       "\n",
       "    .dataframe tbody tr th {\n",
       "        vertical-align: top;\n",
       "    }\n",
       "\n",
       "    .dataframe thead th {\n",
       "        text-align: right;\n",
       "    }\n",
       "</style>\n",
       "<table border=\"1\" class=\"dataframe\">\n",
       "  <thead>\n",
       "    <tr style=\"text-align: right;\">\n",
       "      <th></th>\n",
       "      <th>city</th>\n",
       "      <th>latitude</th>\n",
       "      <th>longitude</th>\n",
       "      <th>q-score</th>\n",
       "      <th>safety</th>\n",
       "      <th>Coordinates</th>\n",
       "      <th>OBJECTID</th>\n",
       "      <th>SUBDISTRIC</th>\n",
       "    </tr>\n",
       "  </thead>\n",
       "  <tbody>\n",
       "    <tr>\n",
       "      <th>14035</th>\n",
       "      <td>Boston</td>\n",
       "      <td>42.353924</td>\n",
       "      <td>-71.123283</td>\n",
       "      <td>28.367445</td>\n",
       "      <td>1</td>\n",
       "      <td>POINT (-71.123283 42.353924)</td>\n",
       "      <td>55314</td>\n",
       "      <td>Industrial</td>\n",
       "    </tr>\n",
       "    <tr>\n",
       "      <th>17206</th>\n",
       "      <td>Boston</td>\n",
       "      <td>42.361725</td>\n",
       "      <td>-71.057236</td>\n",
       "      <td>25.977942</td>\n",
       "      <td>1</td>\n",
       "      <td>POINT (-71.057236 42.361725)</td>\n",
       "      <td>55092</td>\n",
       "      <td>Mixed Use</td>\n",
       "    </tr>\n",
       "    <tr>\n",
       "      <th>12841</th>\n",
       "      <td>Boston</td>\n",
       "      <td>42.362373</td>\n",
       "      <td>-71.146179</td>\n",
       "      <td>22.974413</td>\n",
       "      <td>0</td>\n",
       "      <td>POINT (-71.146179 42.362373)</td>\n",
       "      <td>55391</td>\n",
       "      <td>Open Space</td>\n",
       "    </tr>\n",
       "    <tr>\n",
       "      <th>1365</th>\n",
       "      <td>Boston</td>\n",
       "      <td>42.275738</td>\n",
       "      <td>-71.077789</td>\n",
       "      <td>25.823900</td>\n",
       "      <td>1</td>\n",
       "      <td>POINT (-71.077789 42.275738)</td>\n",
       "      <td>55568</td>\n",
       "      <td>Residential</td>\n",
       "    </tr>\n",
       "    <tr>\n",
       "      <th>9576</th>\n",
       "      <td>Boston</td>\n",
       "      <td>42.318501</td>\n",
       "      <td>-71.081070</td>\n",
       "      <td>17.228649</td>\n",
       "      <td>0</td>\n",
       "      <td>POINT (-71.08107 42.318501)</td>\n",
       "      <td>55542</td>\n",
       "      <td>Residential</td>\n",
       "    </tr>\n",
       "  </tbody>\n",
       "</table>\n",
       "</div>"
      ],
      "text/plain": [
       "         city   latitude  longitude    q-score  safety  \\\n",
       "14035  Boston  42.353924 -71.123283  28.367445       1   \n",
       "17206  Boston  42.361725 -71.057236  25.977942       1   \n",
       "12841  Boston  42.362373 -71.146179  22.974413       0   \n",
       "1365   Boston  42.275738 -71.077789  25.823900       1   \n",
       "9576   Boston  42.318501 -71.081070  17.228649       0   \n",
       "\n",
       "                        Coordinates  OBJECTID   SUBDISTRIC  \n",
       "14035  POINT (-71.123283 42.353924)     55314   Industrial  \n",
       "17206  POINT (-71.057236 42.361725)     55092    Mixed Use  \n",
       "12841  POINT (-71.146179 42.362373)     55391   Open Space  \n",
       "1365   POINT (-71.077789 42.275738)     55568  Residential  \n",
       "9576    POINT (-71.08107 42.318501)     55542  Residential  "
      ]
     },
     "execution_count": 53,
     "metadata": {},
     "output_type": "execute_result"
    }
   ],
   "source": [
    "test.head()"
   ]
  },
  {
   "cell_type": "code",
   "execution_count": 56,
   "metadata": {},
   "outputs": [
    {
     "name": "stderr",
     "output_type": "stream",
     "text": [
      "/anaconda3/lib/python3.6/site-packages/ipykernel_launcher.py:1: SettingWithCopyWarning: \n",
      "A value is trying to be set on a copy of a slice from a DataFrame.\n",
      "Try using .loc[row_indexer,col_indexer] = value instead\n",
      "\n",
      "See the caveats in the documentation: http://pandas.pydata.org/pandas-docs/stable/indexing.html#indexing-view-versus-copy\n",
      "  \"\"\"Entry point for launching an IPython kernel.\n"
     ]
    }
   ],
   "source": [
    "test['index_outof_20000'] = test.index"
   ]
  },
  {
   "cell_type": "code",
   "execution_count": 57,
   "metadata": {},
   "outputs": [
    {
     "data": {
      "text/html": [
       "<div>\n",
       "<style scoped>\n",
       "    .dataframe tbody tr th:only-of-type {\n",
       "        vertical-align: middle;\n",
       "    }\n",
       "\n",
       "    .dataframe tbody tr th {\n",
       "        vertical-align: top;\n",
       "    }\n",
       "\n",
       "    .dataframe thead th {\n",
       "        text-align: right;\n",
       "    }\n",
       "</style>\n",
       "<table border=\"1\" class=\"dataframe\">\n",
       "  <thead>\n",
       "    <tr style=\"text-align: right;\">\n",
       "      <th></th>\n",
       "      <th>city</th>\n",
       "      <th>latitude</th>\n",
       "      <th>longitude</th>\n",
       "      <th>q-score</th>\n",
       "      <th>safety</th>\n",
       "      <th>Coordinates</th>\n",
       "      <th>OBJECTID</th>\n",
       "      <th>SUBDISTRIC</th>\n",
       "      <th>index_outof_20000</th>\n",
       "    </tr>\n",
       "  </thead>\n",
       "  <tbody>\n",
       "    <tr>\n",
       "      <th>14035</th>\n",
       "      <td>Boston</td>\n",
       "      <td>42.353924</td>\n",
       "      <td>-71.123283</td>\n",
       "      <td>28.367445</td>\n",
       "      <td>1</td>\n",
       "      <td>POINT (-71.123283 42.353924)</td>\n",
       "      <td>55314</td>\n",
       "      <td>Industrial</td>\n",
       "      <td>14035</td>\n",
       "    </tr>\n",
       "    <tr>\n",
       "      <th>17206</th>\n",
       "      <td>Boston</td>\n",
       "      <td>42.361725</td>\n",
       "      <td>-71.057236</td>\n",
       "      <td>25.977942</td>\n",
       "      <td>1</td>\n",
       "      <td>POINT (-71.057236 42.361725)</td>\n",
       "      <td>55092</td>\n",
       "      <td>Mixed Use</td>\n",
       "      <td>17206</td>\n",
       "    </tr>\n",
       "    <tr>\n",
       "      <th>12841</th>\n",
       "      <td>Boston</td>\n",
       "      <td>42.362373</td>\n",
       "      <td>-71.146179</td>\n",
       "      <td>22.974413</td>\n",
       "      <td>0</td>\n",
       "      <td>POINT (-71.146179 42.362373)</td>\n",
       "      <td>55391</td>\n",
       "      <td>Open Space</td>\n",
       "      <td>12841</td>\n",
       "    </tr>\n",
       "    <tr>\n",
       "      <th>1365</th>\n",
       "      <td>Boston</td>\n",
       "      <td>42.275738</td>\n",
       "      <td>-71.077789</td>\n",
       "      <td>25.823900</td>\n",
       "      <td>1</td>\n",
       "      <td>POINT (-71.077789 42.275738)</td>\n",
       "      <td>55568</td>\n",
       "      <td>Residential</td>\n",
       "      <td>1365</td>\n",
       "    </tr>\n",
       "    <tr>\n",
       "      <th>9576</th>\n",
       "      <td>Boston</td>\n",
       "      <td>42.318501</td>\n",
       "      <td>-71.081070</td>\n",
       "      <td>17.228649</td>\n",
       "      <td>0</td>\n",
       "      <td>POINT (-71.08107 42.318501)</td>\n",
       "      <td>55542</td>\n",
       "      <td>Residential</td>\n",
       "      <td>9576</td>\n",
       "    </tr>\n",
       "  </tbody>\n",
       "</table>\n",
       "</div>"
      ],
      "text/plain": [
       "         city   latitude  longitude    q-score  safety  \\\n",
       "14035  Boston  42.353924 -71.123283  28.367445       1   \n",
       "17206  Boston  42.361725 -71.057236  25.977942       1   \n",
       "12841  Boston  42.362373 -71.146179  22.974413       0   \n",
       "1365   Boston  42.275738 -71.077789  25.823900       1   \n",
       "9576   Boston  42.318501 -71.081070  17.228649       0   \n",
       "\n",
       "                        Coordinates  OBJECTID   SUBDISTRIC  index_outof_20000  \n",
       "14035  POINT (-71.123283 42.353924)     55314   Industrial              14035  \n",
       "17206  POINT (-71.057236 42.361725)     55092    Mixed Use              17206  \n",
       "12841  POINT (-71.146179 42.362373)     55391   Open Space              12841  \n",
       "1365   POINT (-71.077789 42.275738)     55568  Residential               1365  \n",
       "9576    POINT (-71.08107 42.318501)     55542  Residential               9576  "
      ]
     },
     "execution_count": 57,
     "metadata": {},
     "output_type": "execute_result"
    }
   ],
   "source": [
    "test.head()"
   ]
  },
  {
   "cell_type": "markdown",
   "metadata": {},
   "source": [
    "### Check: both train and test represent the portion of SUBDISTRIC in the 20,000 samples"
   ]
  },
  {
   "cell_type": "code",
   "execution_count": 44,
   "metadata": {},
   "outputs": [
    {
     "data": {
      "text/plain": [
       "SUBDISTRIC\n",
       "Business         0.05340\n",
       "Comm/Instit      0.02100\n",
       "Industrial       0.13900\n",
       "Miscellaneous    0.04335\n",
       "Mixed Use        0.06575\n",
       "Open Space       0.17860\n",
       "Residential      0.49890\n",
       "Name: city, dtype: float64"
      ]
     },
     "execution_count": 44,
     "metadata": {},
     "output_type": "execute_result"
    }
   ],
   "source": [
    "boston_safety_subsample.groupby(['SUBDISTRIC']).count()['city'] / boston_safety_subsample.groupby(['SUBDISTRIC']).count()['city'].sum()"
   ]
  },
  {
   "cell_type": "code",
   "execution_count": 45,
   "metadata": {},
   "outputs": [
    {
     "data": {
      "text/plain": [
       "SUBDISTRIC\n",
       "Business         0.052312\n",
       "Comm/Instit      0.020688\n",
       "Industrial       0.140375\n",
       "Miscellaneous    0.043562\n",
       "Mixed Use        0.065562\n",
       "Open Space       0.178500\n",
       "Residential      0.499000\n",
       "Name: city, dtype: float64"
      ]
     },
     "execution_count": 45,
     "metadata": {},
     "output_type": "execute_result"
    }
   ],
   "source": [
    "train.groupby(['SUBDISTRIC']).count()['city'] / train.groupby(['SUBDISTRIC']).count()['city'].sum()"
   ]
  },
  {
   "cell_type": "code",
   "execution_count": 46,
   "metadata": {},
   "outputs": [
    {
     "data": {
      "text/plain": [
       "SUBDISTRIC\n",
       "Business         0.05775\n",
       "Comm/Instit      0.02225\n",
       "Industrial       0.13350\n",
       "Miscellaneous    0.04250\n",
       "Mixed Use        0.06650\n",
       "Open Space       0.17900\n",
       "Residential      0.49850\n",
       "Name: city, dtype: float64"
      ]
     },
     "execution_count": 46,
     "metadata": {},
     "output_type": "execute_result"
    }
   ],
   "source": [
    "test.groupby(['SUBDISTRIC']).count()['city'] / test.groupby(['SUBDISTRIC']).count()['city'].sum()"
   ]
  },
  {
   "cell_type": "markdown",
   "metadata": {},
   "source": [
    "### Check: both train and test represent the portion of 'safety' in the 20,000 samples"
   ]
  },
  {
   "cell_type": "code",
   "execution_count": 47,
   "metadata": {
    "scrolled": true
   },
   "outputs": [
    {
     "data": {
      "text/plain": [
       "safety\n",
       "0    0.54425\n",
       "1    0.45575\n",
       "Name: city, dtype: float64"
      ]
     },
     "execution_count": 47,
     "metadata": {},
     "output_type": "execute_result"
    }
   ],
   "source": [
    "boston_safety_subsample.groupby(['safety']).count()['city'] / boston_safety_subsample.groupby(['safety']).count()['city'].sum()"
   ]
  },
  {
   "cell_type": "code",
   "execution_count": 48,
   "metadata": {},
   "outputs": [
    {
     "data": {
      "text/plain": [
       "safety\n",
       "0    0.54475\n",
       "1    0.45525\n",
       "Name: city, dtype: float64"
      ]
     },
     "execution_count": 48,
     "metadata": {},
     "output_type": "execute_result"
    }
   ],
   "source": [
    "train.groupby(['safety']).count()['city'] / train.groupby(['safety']).count()['city'].sum()"
   ]
  },
  {
   "cell_type": "code",
   "execution_count": 49,
   "metadata": {},
   "outputs": [
    {
     "data": {
      "text/plain": [
       "safety\n",
       "0    0.54225\n",
       "1    0.45775\n",
       "Name: city, dtype: float64"
      ]
     },
     "execution_count": 49,
     "metadata": {},
     "output_type": "execute_result"
    }
   ],
   "source": [
    "test.groupby(['safety']).count()['city'] / test.groupby(['safety']).count()['city'].sum()"
   ]
  },
  {
   "cell_type": "code",
   "execution_count": 68,
   "metadata": {},
   "outputs": [],
   "source": [
    "train.to_csv(\"~/Desktop/ML1030/us_safety/boston_train_list.csv\")\n",
    "test.to_csv(\"~/Desktop/ML1030/us_safety/boston_test_list.csv\")"
   ]
  }
 ],
 "metadata": {
  "kernelspec": {
   "display_name": "Python 3",
   "language": "python",
   "name": "python3"
  },
  "language_info": {
   "codemirror_mode": {
    "name": "ipython",
    "version": 3
   },
   "file_extension": ".py",
   "mimetype": "text/x-python",
   "name": "python",
   "nbconvert_exporter": "python",
   "pygments_lexer": "ipython3",
   "version": "3.6.8"
  }
 },
 "nbformat": 4,
 "nbformat_minor": 2
}
