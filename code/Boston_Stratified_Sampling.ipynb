{
 "cells": [
  {
   "cell_type": "code",
   "execution_count": 202,
   "metadata": {},
   "outputs": [],
   "source": [
    "import pandas as pd\n",
    "import geopandas\n",
    "from shapely.geometry import Point, Polygon"
   ]
  },
  {
   "cell_type": "markdown",
   "metadata": {},
   "source": [
    "## 1. Spatial join Boston Streetscore records with Boston Zoning data"
   ]
  },
  {
   "cell_type": "markdown",
   "metadata": {},
   "source": [
    "### Read in Boston streetscore data with target column, convert lat and long to Point, create 'boston_gdf' table"
   ]
  },
  {
   "cell_type": "code",
   "execution_count": 203,
   "metadata": {},
   "outputs": [],
   "source": [
    "boston_df = pd.read_csv(\"~/Desktop/ML1030/us_safety/boston_safety.csv\")"
   ]
  },
  {
   "cell_type": "code",
   "execution_count": 204,
   "metadata": {},
   "outputs": [
    {
     "data": {
      "text/html": [
       "<div>\n",
       "<style scoped>\n",
       "    .dataframe tbody tr th:only-of-type {\n",
       "        vertical-align: middle;\n",
       "    }\n",
       "\n",
       "    .dataframe tbody tr th {\n",
       "        vertical-align: top;\n",
       "    }\n",
       "\n",
       "    .dataframe thead th {\n",
       "        text-align: right;\n",
       "    }\n",
       "</style>\n",
       "<table border=\"1\" class=\"dataframe\">\n",
       "  <thead>\n",
       "    <tr style=\"text-align: right;\">\n",
       "      <th></th>\n",
       "      <th>city</th>\n",
       "      <th>latitude</th>\n",
       "      <th>longitude</th>\n",
       "      <th>q-score</th>\n",
       "      <th>safety</th>\n",
       "    </tr>\n",
       "  </thead>\n",
       "  <tbody>\n",
       "    <tr>\n",
       "      <th>0</th>\n",
       "      <td>Boston</td>\n",
       "      <td>42.273857</td>\n",
       "      <td>-71.050980</td>\n",
       "      <td>36.497364</td>\n",
       "      <td>1</td>\n",
       "    </tr>\n",
       "    <tr>\n",
       "      <th>1</th>\n",
       "      <td>Boston</td>\n",
       "      <td>42.274235</td>\n",
       "      <td>-71.051178</td>\n",
       "      <td>33.081684</td>\n",
       "      <td>1</td>\n",
       "    </tr>\n",
       "    <tr>\n",
       "      <th>2</th>\n",
       "      <td>Boston</td>\n",
       "      <td>42.274429</td>\n",
       "      <td>-71.050896</td>\n",
       "      <td>21.050259</td>\n",
       "      <td>0</td>\n",
       "    </tr>\n",
       "    <tr>\n",
       "      <th>3</th>\n",
       "      <td>Boston</td>\n",
       "      <td>42.274529</td>\n",
       "      <td>-71.050491</td>\n",
       "      <td>12.665337</td>\n",
       "      <td>0</td>\n",
       "    </tr>\n",
       "    <tr>\n",
       "      <th>4</th>\n",
       "      <td>Boston</td>\n",
       "      <td>42.274685</td>\n",
       "      <td>-71.052315</td>\n",
       "      <td>21.554031</td>\n",
       "      <td>0</td>\n",
       "    </tr>\n",
       "  </tbody>\n",
       "</table>\n",
       "</div>"
      ],
      "text/plain": [
       "     city   latitude  longitude    q-score  safety\n",
       "0  Boston  42.273857 -71.050980  36.497364       1\n",
       "1  Boston  42.274235 -71.051178  33.081684       1\n",
       "2  Boston  42.274429 -71.050896  21.050259       0\n",
       "3  Boston  42.274529 -71.050491  12.665337       0\n",
       "4  Boston  42.274685 -71.052315  21.554031       0"
      ]
     },
     "execution_count": 204,
     "metadata": {},
     "output_type": "execute_result"
    }
   ],
   "source": [
    "boston_df.head(5)"
   ]
  },
  {
   "cell_type": "code",
   "execution_count": 205,
   "metadata": {},
   "outputs": [],
   "source": [
    "boston_gdf = pd.DataFrame(boston_df)\n",
    "boston_gdf['Coordinates'] = list(zip(boston_gdf.longitude, boston_gdf.latitude))\n",
    "boston_gdf['Coordinates'] = boston_gdf['Coordinates'].apply(Point)\n",
    "boston_gdf = geopandas.GeoDataFrame(boston_gdf, geometry='Coordinates')"
   ]
  },
  {
   "cell_type": "code",
   "execution_count": 206,
   "metadata": {},
   "outputs": [
    {
     "data": {
      "text/html": [
       "<div>\n",
       "<style scoped>\n",
       "    .dataframe tbody tr th:only-of-type {\n",
       "        vertical-align: middle;\n",
       "    }\n",
       "\n",
       "    .dataframe tbody tr th {\n",
       "        vertical-align: top;\n",
       "    }\n",
       "\n",
       "    .dataframe thead th {\n",
       "        text-align: right;\n",
       "    }\n",
       "</style>\n",
       "<table border=\"1\" class=\"dataframe\">\n",
       "  <thead>\n",
       "    <tr style=\"text-align: right;\">\n",
       "      <th></th>\n",
       "      <th>city</th>\n",
       "      <th>latitude</th>\n",
       "      <th>longitude</th>\n",
       "      <th>q-score</th>\n",
       "      <th>safety</th>\n",
       "      <th>Coordinates</th>\n",
       "    </tr>\n",
       "  </thead>\n",
       "  <tbody>\n",
       "    <tr>\n",
       "      <th>0</th>\n",
       "      <td>Boston</td>\n",
       "      <td>42.273857</td>\n",
       "      <td>-71.050980</td>\n",
       "      <td>36.497364</td>\n",
       "      <td>1</td>\n",
       "      <td>POINT (-71.05098000000002 42.273857)</td>\n",
       "    </tr>\n",
       "    <tr>\n",
       "      <th>1</th>\n",
       "      <td>Boston</td>\n",
       "      <td>42.274235</td>\n",
       "      <td>-71.051178</td>\n",
       "      <td>33.081684</td>\n",
       "      <td>1</td>\n",
       "      <td>POINT (-71.05117800000002 42.274235)</td>\n",
       "    </tr>\n",
       "    <tr>\n",
       "      <th>2</th>\n",
       "      <td>Boston</td>\n",
       "      <td>42.274429</td>\n",
       "      <td>-71.050896</td>\n",
       "      <td>21.050259</td>\n",
       "      <td>0</td>\n",
       "      <td>POINT (-71.05089599999999 42.274429)</td>\n",
       "    </tr>\n",
       "    <tr>\n",
       "      <th>3</th>\n",
       "      <td>Boston</td>\n",
       "      <td>42.274529</td>\n",
       "      <td>-71.050491</td>\n",
       "      <td>12.665337</td>\n",
       "      <td>0</td>\n",
       "      <td>POINT (-71.05049100000002 42.274529)</td>\n",
       "    </tr>\n",
       "    <tr>\n",
       "      <th>4</th>\n",
       "      <td>Boston</td>\n",
       "      <td>42.274685</td>\n",
       "      <td>-71.052315</td>\n",
       "      <td>21.554031</td>\n",
       "      <td>0</td>\n",
       "      <td>POINT (-71.05231500000002 42.274685)</td>\n",
       "    </tr>\n",
       "  </tbody>\n",
       "</table>\n",
       "</div>"
      ],
      "text/plain": [
       "     city   latitude  longitude    q-score  safety  \\\n",
       "0  Boston  42.273857 -71.050980  36.497364       1   \n",
       "1  Boston  42.274235 -71.051178  33.081684       1   \n",
       "2  Boston  42.274429 -71.050896  21.050259       0   \n",
       "3  Boston  42.274529 -71.050491  12.665337       0   \n",
       "4  Boston  42.274685 -71.052315  21.554031       0   \n",
       "\n",
       "                            Coordinates  \n",
       "0  POINT (-71.05098000000002 42.273857)  \n",
       "1  POINT (-71.05117800000002 42.274235)  \n",
       "2  POINT (-71.05089599999999 42.274429)  \n",
       "3  POINT (-71.05049100000002 42.274529)  \n",
       "4  POINT (-71.05231500000002 42.274685)  "
      ]
     },
     "execution_count": 206,
     "metadata": {},
     "output_type": "execute_result"
    }
   ],
   "source": [
    "boston_gdf.head(5)"
   ]
  },
  {
   "cell_type": "code",
   "execution_count": 207,
   "metadata": {},
   "outputs": [
    {
     "data": {
      "text/plain": [
       "(229564, 6)"
      ]
     },
     "execution_count": 207,
     "metadata": {},
     "output_type": "execute_result"
    }
   ],
   "source": [
    "boston_gdf.shape"
   ]
  },
  {
   "cell_type": "markdown",
   "metadata": {},
   "source": [
    "### Read in Boston Zoning data 'gfile_Boston' \n",
    "Data obtained from: http://bostonopendata-boston.opendata.arcgis.com/datasets/b601516d0af44d1c9c7695571a7dca80_0?geometry=-71.106%2C42.284%2C-70.975%2C42.307\n"
   ]
  },
  {
   "cell_type": "code",
   "execution_count": 208,
   "metadata": {},
   "outputs": [
    {
     "data": {
      "text/html": [
       "<div>\n",
       "<style scoped>\n",
       "    .dataframe tbody tr th:only-of-type {\n",
       "        vertical-align: middle;\n",
       "    }\n",
       "\n",
       "    .dataframe tbody tr th {\n",
       "        vertical-align: top;\n",
       "    }\n",
       "\n",
       "    .dataframe thead th {\n",
       "        text-align: right;\n",
       "    }\n",
       "</style>\n",
       "<table border=\"1\" class=\"dataframe\">\n",
       "  <thead>\n",
       "    <tr style=\"text-align: right;\">\n",
       "      <th></th>\n",
       "      <th>OBJECTID</th>\n",
       "      <th>ZONE_</th>\n",
       "      <th>DISTRICT</th>\n",
       "      <th>MAPNO</th>\n",
       "      <th>ARTICLE</th>\n",
       "      <th>SUBDISTRIC</th>\n",
       "      <th>Unique_Cod</th>\n",
       "      <th>FAR</th>\n",
       "      <th>Shape_STAr</th>\n",
       "      <th>Shape_STLe</th>\n",
       "      <th>Zone_Desc</th>\n",
       "      <th>geometry</th>\n",
       "    </tr>\n",
       "  </thead>\n",
       "  <tbody>\n",
       "    <tr>\n",
       "      <th>0</th>\n",
       "      <td>54194</td>\n",
       "      <td>CC</td>\n",
       "      <td>Mission Hill Neighborhood</td>\n",
       "      <td>6D</td>\n",
       "      <td>59</td>\n",
       "      <td>Business</td>\n",
       "      <td>Mission Hill Neighborhood CC</td>\n",
       "      <td>3.0</td>\n",
       "      <td>0</td>\n",
       "      <td>0</td>\n",
       "      <td>Community Commercial</td>\n",
       "      <td>POLYGON ((-71.09451646281816 42.33244043424968...</td>\n",
       "    </tr>\n",
       "    <tr>\n",
       "      <th>1</th>\n",
       "      <td>54195</td>\n",
       "      <td>WM</td>\n",
       "      <td>South Boston Neighborhood</td>\n",
       "      <td>4F</td>\n",
       "      <td>68</td>\n",
       "      <td>Industrial</td>\n",
       "      <td>South Boston Neighborhood WM</td>\n",
       "      <td>2.0</td>\n",
       "      <td>0</td>\n",
       "      <td>0</td>\n",
       "      <td>Waterfront Manufacturing</td>\n",
       "      <td>POLYGON ((-71.03554411066089 42.33992389263747...</td>\n",
       "    </tr>\n",
       "    <tr>\n",
       "      <th>2</th>\n",
       "      <td>54196</td>\n",
       "      <td>M-4</td>\n",
       "      <td>South Boston</td>\n",
       "      <td>4</td>\n",
       "      <td>Underlying Zoning</td>\n",
       "      <td>Industrial</td>\n",
       "      <td>South Boston M-4</td>\n",
       "      <td>4.0</td>\n",
       "      <td>0</td>\n",
       "      <td>0</td>\n",
       "      <td>Restricted Manufacturing</td>\n",
       "      <td>POLYGON ((-71.0421385497493 42.3462569178347, ...</td>\n",
       "    </tr>\n",
       "    <tr>\n",
       "      <th>3</th>\n",
       "      <td>54197</td>\n",
       "      <td>D St. NDA</td>\n",
       "      <td>South Boston Neighborhood</td>\n",
       "      <td>4F</td>\n",
       "      <td>68</td>\n",
       "      <td>Mixed Use</td>\n",
       "      <td>South Boston Neighborhood D St. NDA</td>\n",
       "      <td>2.0</td>\n",
       "      <td>0</td>\n",
       "      <td>0</td>\n",
       "      <td>Neighborhood Development Area</td>\n",
       "      <td>POLYGON ((-71.04142638209957 42.34454863344008...</td>\n",
       "    </tr>\n",
       "    <tr>\n",
       "      <th>4</th>\n",
       "      <td>54198</td>\n",
       "      <td>SUMMER ST. LI</td>\n",
       "      <td>South Boston Neighborhood</td>\n",
       "      <td>4F</td>\n",
       "      <td>68</td>\n",
       "      <td>Industrial</td>\n",
       "      <td>South Boston Neighborhood Summer St. LI</td>\n",
       "      <td>3.0</td>\n",
       "      <td>0</td>\n",
       "      <td>0</td>\n",
       "      <td>Local Industrial</td>\n",
       "      <td>POLYGON ((-71.03770255121084 42.33811666220058...</td>\n",
       "    </tr>\n",
       "  </tbody>\n",
       "</table>\n",
       "</div>"
      ],
      "text/plain": [
       "   OBJECTID          ZONE_                   DISTRICT MAPNO  \\\n",
       "0     54194             CC  Mission Hill Neighborhood    6D   \n",
       "1     54195             WM  South Boston Neighborhood    4F   \n",
       "2     54196            M-4               South Boston     4   \n",
       "3     54197      D St. NDA  South Boston Neighborhood    4F   \n",
       "4     54198  SUMMER ST. LI  South Boston Neighborhood    4F   \n",
       "\n",
       "             ARTICLE  SUBDISTRIC                               Unique_Cod  \\\n",
       "0                 59    Business             Mission Hill Neighborhood CC   \n",
       "1                 68  Industrial             South Boston Neighborhood WM   \n",
       "2  Underlying Zoning  Industrial                         South Boston M-4   \n",
       "3                 68   Mixed Use      South Boston Neighborhood D St. NDA   \n",
       "4                 68  Industrial  South Boston Neighborhood Summer St. LI   \n",
       "\n",
       "   FAR  Shape_STAr  Shape_STLe                      Zone_Desc  \\\n",
       "0  3.0           0           0           Community Commercial   \n",
       "1  2.0           0           0       Waterfront Manufacturing   \n",
       "2  4.0           0           0       Restricted Manufacturing   \n",
       "3  2.0           0           0  Neighborhood Development Area   \n",
       "4  3.0           0           0               Local Industrial   \n",
       "\n",
       "                                            geometry  \n",
       "0  POLYGON ((-71.09451646281816 42.33244043424968...  \n",
       "1  POLYGON ((-71.03554411066089 42.33992389263747...  \n",
       "2  POLYGON ((-71.0421385497493 42.3462569178347, ...  \n",
       "3  POLYGON ((-71.04142638209957 42.34454863344008...  \n",
       "4  POLYGON ((-71.03770255121084 42.33811666220058...  "
      ]
     },
     "execution_count": 208,
     "metadata": {},
     "output_type": "execute_result"
    }
   ],
   "source": [
    "gfile_Boston = geopandas.read_file(\"Zoning_Subdistricts.shp\")\n",
    "gfile_Boston.head(5)"
   ]
  },
  {
   "cell_type": "code",
   "execution_count": 209,
   "metadata": {
    "scrolled": true
   },
   "outputs": [
    {
     "data": {
      "text/plain": [
       "array(['Mission Hill Neighborhood', 'South Boston Neighborhood',\n",
       "       'South Boston', 'South End Neighborhood', 'Fenway Neighborhood',\n",
       "       'Charlestown Neighborhood',\n",
       "       'Harborpark: Dorchester Bay/Neponset River Waterfront',\n",
       "       'Greater Mattapan Neighborhood', 'Jamaica Plain Neighborhood',\n",
       "       'Roslindale Neighborhood', 'Dorchester Neighborhood',\n",
       "       'Hyde Park Neighborhood', 'Allston/Brighton Neighborhood',\n",
       "       'West Roxbury Neighborhood', 'Roxbury Neighborhood',\n",
       "       'Government Center/Markets',\n",
       "       'South Station Economic Development Area', 'Bulfinch Triangle',\n",
       "       'North End Neighborhood', 'Boston Harbor',\n",
       "       'Stuart Street District', 'Leather District',\n",
       "       'Harborpark: North End Waterfront', 'Cambridge Street North',\n",
       "       'Boston Proper', 'Harborpark: Charlestown Waterfront', 'Chinatown',\n",
       "       'Central Artery Special', 'Audbon Circle Neighborhood',\n",
       "       'Bay Village Neighborhood', 'Midtown Cultural',\n",
       "       'North Station Economic Development Area',\n",
       "       'Huntington Avenue/Prudential Center',\n",
       "       'Harborpark: Fort Point Waterfront', 'City Square Neighborhood',\n",
       "       'East Boston Neighborhood',\n",
       "       'Newmarket Industrial Commercial Neighborhood District'],\n",
       "      dtype=object)"
      ]
     },
     "execution_count": 209,
     "metadata": {},
     "output_type": "execute_result"
    }
   ],
   "source": [
    "gfile_Boston.DISTRICT.unique()"
   ]
  },
  {
   "cell_type": "code",
   "execution_count": 210,
   "metadata": {},
   "outputs": [
    {
     "data": {
      "text/plain": [
       "37"
      ]
     },
     "execution_count": 210,
     "metadata": {},
     "output_type": "execute_result"
    }
   ],
   "source": [
    "gfile_Boston.DISTRICT.nunique()"
   ]
  },
  {
   "cell_type": "code",
   "execution_count": 211,
   "metadata": {},
   "outputs": [
    {
     "data": {
      "text/plain": [
       "304"
      ]
     },
     "execution_count": 211,
     "metadata": {},
     "output_type": "execute_result"
    }
   ],
   "source": [
    "gfile_Boston.ZONE_.nunique()"
   ]
  },
  {
   "cell_type": "code",
   "execution_count": 212,
   "metadata": {},
   "outputs": [
    {
     "data": {
      "text/plain": [
       "540"
      ]
     },
     "execution_count": 212,
     "metadata": {},
     "output_type": "execute_result"
    }
   ],
   "source": [
    "gfile_Boston.Unique_Cod.nunique()"
   ]
  },
  {
   "cell_type": "markdown",
   "metadata": {},
   "source": [
    "### Converting CRS\n",
    "Check and found that 'boston_gdf' table does not have a CRS, so we assign a CRS (WGS84) to 'boston_gdf' table.<br>\n",
    "In this way, 'boston_gdf' and 'gfile_Boston' have the same CRS, i.e. WGS84, so they are ready to spatial join"
   ]
  },
  {
   "cell_type": "code",
   "execution_count": 213,
   "metadata": {},
   "outputs": [
    {
     "name": "stdout",
     "output_type": "stream",
     "text": [
      "None\n"
     ]
    }
   ],
   "source": [
    "print(boston_gdf.crs)"
   ]
  },
  {
   "cell_type": "code",
   "execution_count": 214,
   "metadata": {},
   "outputs": [
    {
     "name": "stdout",
     "output_type": "stream",
     "text": [
      "{'init': 'epsg:4326'}\n"
     ]
    }
   ],
   "source": [
    "print(gfile_Boston.crs)"
   ]
  },
  {
   "cell_type": "code",
   "execution_count": 215,
   "metadata": {},
   "outputs": [],
   "source": [
    "boston_gdf.crs = {'init' :'epsg:4326'}"
   ]
  },
  {
   "cell_type": "code",
   "execution_count": 216,
   "metadata": {},
   "outputs": [
    {
     "name": "stdout",
     "output_type": "stream",
     "text": [
      "{'init': 'epsg:4326'}\n"
     ]
    }
   ],
   "source": [
    "print(boston_gdf.crs)"
   ]
  },
  {
   "cell_type": "markdown",
   "metadata": {},
   "source": [
    "### Spatial join 'boston_gdf' and 'gfile_Boston', and create a new table 'boston' "
   ]
  },
  {
   "cell_type": "code",
   "execution_count": 218,
   "metadata": {},
   "outputs": [],
   "source": [
    "boston = geopandas.sjoin(boston_gdf, gfile_Boston, op=\"within\")"
   ]
  },
  {
   "cell_type": "code",
   "execution_count": 219,
   "metadata": {},
   "outputs": [
    {
     "data": {
      "text/plain": [
       "(53401, 18)"
      ]
     },
     "execution_count": 219,
     "metadata": {},
     "output_type": "execute_result"
    }
   ],
   "source": [
    "boston.shape"
   ]
  },
  {
   "cell_type": "code",
   "execution_count": 220,
   "metadata": {},
   "outputs": [
    {
     "data": {
      "text/html": [
       "<div>\n",
       "<style scoped>\n",
       "    .dataframe tbody tr th:only-of-type {\n",
       "        vertical-align: middle;\n",
       "    }\n",
       "\n",
       "    .dataframe tbody tr th {\n",
       "        vertical-align: top;\n",
       "    }\n",
       "\n",
       "    .dataframe thead th {\n",
       "        text-align: right;\n",
       "    }\n",
       "</style>\n",
       "<table border=\"1\" class=\"dataframe\">\n",
       "  <thead>\n",
       "    <tr style=\"text-align: right;\">\n",
       "      <th></th>\n",
       "      <th>city</th>\n",
       "      <th>latitude</th>\n",
       "      <th>longitude</th>\n",
       "      <th>q-score</th>\n",
       "      <th>safety</th>\n",
       "      <th>Coordinates</th>\n",
       "      <th>index_right</th>\n",
       "      <th>OBJECTID</th>\n",
       "      <th>ZONE_</th>\n",
       "      <th>DISTRICT</th>\n",
       "      <th>MAPNO</th>\n",
       "      <th>ARTICLE</th>\n",
       "      <th>SUBDISTRIC</th>\n",
       "      <th>Unique_Cod</th>\n",
       "      <th>FAR</th>\n",
       "      <th>Shape_STAr</th>\n",
       "      <th>Shape_STLe</th>\n",
       "      <th>Zone_Desc</th>\n",
       "    </tr>\n",
       "  </thead>\n",
       "  <tbody>\n",
       "    <tr>\n",
       "      <th>37</th>\n",
       "      <td>Boston</td>\n",
       "      <td>42.277477</td>\n",
       "      <td>-71.053329</td>\n",
       "      <td>21.189661</td>\n",
       "      <td>0</td>\n",
       "      <td>POINT (-71.05332900000001 42.27747700000001)</td>\n",
       "      <td>25</td>\n",
       "      <td>54219</td>\n",
       "      <td>LOWER MILLS SHORELAND OPEN SPACE SUBDISTRICT</td>\n",
       "      <td>Harborpark: Dorchester Bay/Neponset River Wate...</td>\n",
       "      <td>4B-4D, 5F-5H</td>\n",
       "      <td>42A</td>\n",
       "      <td>Open Space</td>\n",
       "      <td>Harborpark: Dorchester Bay/Neponset River Wate...</td>\n",
       "      <td>NaN</td>\n",
       "      <td>0</td>\n",
       "      <td>0</td>\n",
       "      <td>Shoreland Open Space</td>\n",
       "    </tr>\n",
       "    <tr>\n",
       "      <th>40</th>\n",
       "      <td>Boston</td>\n",
       "      <td>42.277805</td>\n",
       "      <td>-71.053894</td>\n",
       "      <td>17.655205</td>\n",
       "      <td>0</td>\n",
       "      <td>POINT (-71.053894 42.277805)</td>\n",
       "      <td>25</td>\n",
       "      <td>54219</td>\n",
       "      <td>LOWER MILLS SHORELAND OPEN SPACE SUBDISTRICT</td>\n",
       "      <td>Harborpark: Dorchester Bay/Neponset River Wate...</td>\n",
       "      <td>4B-4D, 5F-5H</td>\n",
       "      <td>42A</td>\n",
       "      <td>Open Space</td>\n",
       "      <td>Harborpark: Dorchester Bay/Neponset River Wate...</td>\n",
       "      <td>NaN</td>\n",
       "      <td>0</td>\n",
       "      <td>0</td>\n",
       "      <td>Shoreland Open Space</td>\n",
       "    </tr>\n",
       "  </tbody>\n",
       "</table>\n",
       "</div>"
      ],
      "text/plain": [
       "      city   latitude  longitude    q-score  safety  \\\n",
       "37  Boston  42.277477 -71.053329  21.189661       0   \n",
       "40  Boston  42.277805 -71.053894  17.655205       0   \n",
       "\n",
       "                                     Coordinates  index_right  OBJECTID  \\\n",
       "37  POINT (-71.05332900000001 42.27747700000001)           25     54219   \n",
       "40                  POINT (-71.053894 42.277805)           25     54219   \n",
       "\n",
       "                                           ZONE_  \\\n",
       "37  LOWER MILLS SHORELAND OPEN SPACE SUBDISTRICT   \n",
       "40  LOWER MILLS SHORELAND OPEN SPACE SUBDISTRICT   \n",
       "\n",
       "                                             DISTRICT         MAPNO ARTICLE  \\\n",
       "37  Harborpark: Dorchester Bay/Neponset River Wate...  4B-4D, 5F-5H     42A   \n",
       "40  Harborpark: Dorchester Bay/Neponset River Wate...  4B-4D, 5F-5H     42A   \n",
       "\n",
       "    SUBDISTRIC                                         Unique_Cod  FAR  \\\n",
       "37  Open Space  Harborpark: Dorchester Bay/Neponset River Wate...  NaN   \n",
       "40  Open Space  Harborpark: Dorchester Bay/Neponset River Wate...  NaN   \n",
       "\n",
       "    Shape_STAr  Shape_STLe             Zone_Desc  \n",
       "37           0           0  Shoreland Open Space  \n",
       "40           0           0  Shoreland Open Space  "
      ]
     },
     "execution_count": 220,
     "metadata": {},
     "output_type": "execute_result"
    }
   ],
   "source": [
    "boston.head(2)"
   ]
  },
  {
   "cell_type": "code",
   "execution_count": 221,
   "metadata": {},
   "outputs": [
    {
     "data": {
      "text/html": [
       "<div>\n",
       "<style scoped>\n",
       "    .dataframe tbody tr th:only-of-type {\n",
       "        vertical-align: middle;\n",
       "    }\n",
       "\n",
       "    .dataframe tbody tr th {\n",
       "        vertical-align: top;\n",
       "    }\n",
       "\n",
       "    .dataframe thead th {\n",
       "        text-align: right;\n",
       "    }\n",
       "</style>\n",
       "<table border=\"1\" class=\"dataframe\">\n",
       "  <thead>\n",
       "    <tr style=\"text-align: right;\">\n",
       "      <th></th>\n",
       "      <th>city</th>\n",
       "      <th>latitude</th>\n",
       "      <th>longitude</th>\n",
       "      <th>q-score</th>\n",
       "      <th>safety</th>\n",
       "      <th>Coordinates</th>\n",
       "      <th>OBJECTID</th>\n",
       "      <th>SUBDISTRIC</th>\n",
       "    </tr>\n",
       "  </thead>\n",
       "  <tbody>\n",
       "    <tr>\n",
       "      <th>37</th>\n",
       "      <td>Boston</td>\n",
       "      <td>42.277477</td>\n",
       "      <td>-71.053329</td>\n",
       "      <td>21.189661</td>\n",
       "      <td>0</td>\n",
       "      <td>POINT (-71.05332900000001 42.27747700000001)</td>\n",
       "      <td>54219</td>\n",
       "      <td>Open Space</td>\n",
       "    </tr>\n",
       "    <tr>\n",
       "      <th>40</th>\n",
       "      <td>Boston</td>\n",
       "      <td>42.277805</td>\n",
       "      <td>-71.053894</td>\n",
       "      <td>17.655205</td>\n",
       "      <td>0</td>\n",
       "      <td>POINT (-71.053894 42.277805)</td>\n",
       "      <td>54219</td>\n",
       "      <td>Open Space</td>\n",
       "    </tr>\n",
       "  </tbody>\n",
       "</table>\n",
       "</div>"
      ],
      "text/plain": [
       "      city   latitude  longitude    q-score  safety  \\\n",
       "37  Boston  42.277477 -71.053329  21.189661       0   \n",
       "40  Boston  42.277805 -71.053894  17.655205       0   \n",
       "\n",
       "                                     Coordinates  OBJECTID  SUBDISTRIC  \n",
       "37  POINT (-71.05332900000001 42.27747700000001)     54219  Open Space  \n",
       "40                  POINT (-71.053894 42.277805)     54219  Open Space  "
      ]
     },
     "execution_count": 221,
     "metadata": {},
     "output_type": "execute_result"
    }
   ],
   "source": [
    "boston = boston[['city', 'latitude', 'longitude', 'q-score', 'safety',\n",
    "       'Coordinates', 'OBJECTID', 'SUBDISTRIC']]\n",
    "boston.head(2)"
   ]
  },
  {
   "cell_type": "markdown",
   "metadata": {},
   "source": [
    "### Note that the 'boston' table has only 53401 rows.\n",
    "Meaning only 23.26% of 'boston_gdf'(Boston Streetscore records) fall into the zones within 'gfile_Boston'"
   ]
  },
  {
   "cell_type": "code",
   "execution_count": 222,
   "metadata": {},
   "outputs": [
    {
     "data": {
      "text/plain": [
       "23.261922601104704"
      ]
     },
     "execution_count": 222,
     "metadata": {},
     "output_type": "execute_result"
    }
   ],
   "source": [
    "len(boston)/ len(boston_gdf) * 100"
   ]
  },
  {
   "cell_type": "markdown",
   "metadata": {},
   "source": [
    "## 2. Stratified sampling based on both the portion of Toronto zoning class and the portion of target column - 'safety'\n",
    "The 'safety' column was created in the 'Streetscore_create_target_label.ipynb' notebook\n",
    "https://github.com/littlebeanbean7/Toronto_Streetscore/blob/master/code/Streetscore_create_target_label.ipynb"
   ]
  },
  {
   "cell_type": "markdown",
   "metadata": {},
   "source": [
    "### Understanding Toronto zoning class portion\n",
    "The data were provided by stakeholders"
   ]
  },
  {
   "cell_type": "code",
   "execution_count": 225,
   "metadata": {},
   "outputs": [],
   "source": [
    "Toronto = pd.read_excel(\"~/Desktop/ML1030/Toronto_zoning_portion.xlsx\")"
   ]
  },
  {
   "cell_type": "code",
   "execution_count": 226,
   "metadata": {},
   "outputs": [
    {
     "data": {
      "text/html": [
       "<div>\n",
       "<style scoped>\n",
       "    .dataframe tbody tr th:only-of-type {\n",
       "        vertical-align: middle;\n",
       "    }\n",
       "\n",
       "    .dataframe tbody tr th {\n",
       "        vertical-align: top;\n",
       "    }\n",
       "\n",
       "    .dataframe thead th {\n",
       "        text-align: right;\n",
       "    }\n",
       "</style>\n",
       "<table border=\"1\" class=\"dataframe\">\n",
       "  <thead>\n",
       "    <tr style=\"text-align: right;\">\n",
       "      <th></th>\n",
       "      <th>zoneClass</th>\n",
       "      <th>portionSum</th>\n",
       "    </tr>\n",
       "  </thead>\n",
       "  <tbody>\n",
       "    <tr>\n",
       "      <th>0</th>\n",
       "      <td>residential</td>\n",
       "      <td>49.89</td>\n",
       "    </tr>\n",
       "    <tr>\n",
       "      <th>1</th>\n",
       "      <td>open space</td>\n",
       "      <td>17.86</td>\n",
       "    </tr>\n",
       "    <tr>\n",
       "      <th>2</th>\n",
       "      <td>employment industrial</td>\n",
       "      <td>13.90</td>\n",
       "    </tr>\n",
       "    <tr>\n",
       "      <th>3</th>\n",
       "      <td>unassigned</td>\n",
       "      <td>5.83</td>\n",
       "    </tr>\n",
       "    <tr>\n",
       "      <th>4</th>\n",
       "      <td>commercial</td>\n",
       "      <td>5.34</td>\n",
       "    </tr>\n",
       "    <tr>\n",
       "      <th>5</th>\n",
       "      <td>utilities</td>\n",
       "      <td>5.08</td>\n",
       "    </tr>\n",
       "    <tr>\n",
       "      <th>6</th>\n",
       "      <td>institutional</td>\n",
       "      <td>2.10</td>\n",
       "    </tr>\n",
       "  </tbody>\n",
       "</table>\n",
       "</div>"
      ],
      "text/plain": [
       "               zoneClass  portionSum\n",
       "0            residential       49.89\n",
       "1             open space       17.86\n",
       "2  employment industrial       13.90\n",
       "3             unassigned        5.83\n",
       "4             commercial        5.34\n",
       "5              utilities        5.08\n",
       "6          institutional        2.10"
      ]
     },
     "execution_count": 226,
     "metadata": {},
     "output_type": "execute_result"
    }
   ],
   "source": [
    "Toronto "
   ]
  },
  {
   "cell_type": "markdown",
   "metadata": {},
   "source": [
    "###  We decided to take 20000 samples from 'boston' table. Therefore, the number of samples for each zoneClass should be as listed in below table's column 'outofTwentyKsample'"
   ]
  },
  {
   "cell_type": "code",
   "execution_count": 236,
   "metadata": {},
   "outputs": [
    {
     "data": {
      "text/html": [
       "<div>\n",
       "<style scoped>\n",
       "    .dataframe tbody tr th:only-of-type {\n",
       "        vertical-align: middle;\n",
       "    }\n",
       "\n",
       "    .dataframe tbody tr th {\n",
       "        vertical-align: top;\n",
       "    }\n",
       "\n",
       "    .dataframe thead th {\n",
       "        text-align: right;\n",
       "    }\n",
       "</style>\n",
       "<table border=\"1\" class=\"dataframe\">\n",
       "  <thead>\n",
       "    <tr style=\"text-align: right;\">\n",
       "      <th></th>\n",
       "      <th>zoneClass</th>\n",
       "      <th>portionSum</th>\n",
       "      <th>outofTwentyKsample</th>\n",
       "    </tr>\n",
       "  </thead>\n",
       "  <tbody>\n",
       "    <tr>\n",
       "      <th>0</th>\n",
       "      <td>residential</td>\n",
       "      <td>49.89</td>\n",
       "      <td>9978</td>\n",
       "    </tr>\n",
       "    <tr>\n",
       "      <th>1</th>\n",
       "      <td>open space</td>\n",
       "      <td>17.86</td>\n",
       "      <td>3571</td>\n",
       "    </tr>\n",
       "    <tr>\n",
       "      <th>2</th>\n",
       "      <td>employment industrial</td>\n",
       "      <td>13.90</td>\n",
       "      <td>2780</td>\n",
       "    </tr>\n",
       "    <tr>\n",
       "      <th>3</th>\n",
       "      <td>unassigned</td>\n",
       "      <td>5.83</td>\n",
       "      <td>1166</td>\n",
       "    </tr>\n",
       "    <tr>\n",
       "      <th>4</th>\n",
       "      <td>commercial</td>\n",
       "      <td>5.34</td>\n",
       "      <td>1068</td>\n",
       "    </tr>\n",
       "    <tr>\n",
       "      <th>5</th>\n",
       "      <td>utilities</td>\n",
       "      <td>5.08</td>\n",
       "      <td>1016</td>\n",
       "    </tr>\n",
       "    <tr>\n",
       "      <th>6</th>\n",
       "      <td>institutional</td>\n",
       "      <td>2.10</td>\n",
       "      <td>420</td>\n",
       "    </tr>\n",
       "  </tbody>\n",
       "</table>\n",
       "</div>"
      ],
      "text/plain": [
       "               zoneClass  portionSum  outofTwentyKsample\n",
       "0            residential       49.89                9978\n",
       "1             open space       17.86                3571\n",
       "2  employment industrial       13.90                2780\n",
       "3             unassigned        5.83                1166\n",
       "4             commercial        5.34                1068\n",
       "5              utilities        5.08                1016\n",
       "6          institutional        2.10                 420"
      ]
     },
     "execution_count": 236,
     "metadata": {},
     "output_type": "execute_result"
    }
   ],
   "source": [
    "Toronto['outofTwentyKsample'] =  Toronto.portionSum / 100 * 20000\n",
    "Toronto['outofTwentyKsample'] =  Toronto['outofTwentyKsample'].astype(int)\n",
    "Toronto"
   ]
  },
  {
   "cell_type": "markdown",
   "metadata": {},
   "source": [
    "### Check 'subdistrict' types in 'gfile_Boston' table, and found that they do not exactly match with Toronto zone class type"
   ]
  },
  {
   "cell_type": "code",
   "execution_count": 237,
   "metadata": {},
   "outputs": [
    {
     "data": {
      "text/plain": [
       "array(['Business', 'Industrial', 'Mixed Use', 'Miscellaneous',\n",
       "       'Open Space', 'Residential', 'Comm/Instit'], dtype=object)"
      ]
     },
     "execution_count": 237,
     "metadata": {},
     "output_type": "execute_result"
    }
   ],
   "source": [
    "gfile_Boston.SUBDISTRIC.unique()"
   ]
  },
  {
   "cell_type": "markdown",
   "metadata": {},
   "source": [
    "### Matching strategy<br>\n",
    "Toronto - Boston<br>\n",
    "#### Sure:<br>\n",
    "residential\t- Residential<br>\n",
    "open space - Open Space<br>\n",
    "employment industrial - Industrial<br>\n",
    "commercial - Business<br>\n",
    "institutional - Comm/Instit<br>\n",
    "\n",
    "#### Not Sure:<br>\n",
    "unassigned - Miscellaneous and Mixed Use<br>\n",
    "utilities - Miscellaneous and Mixed Use<br>"
   ]
  },
  {
   "cell_type": "markdown",
   "metadata": {},
   "source": [
    "### Based on above matching strategy, the portion of each subdistrict we should sample from 'boston' is listed in 'boston_portion' table"
   ]
  },
  {
   "cell_type": "code",
   "execution_count": 241,
   "metadata": {},
   "outputs": [
    {
     "data": {
      "text/html": [
       "<div>\n",
       "<style scoped>\n",
       "    .dataframe tbody tr th:only-of-type {\n",
       "        vertical-align: middle;\n",
       "    }\n",
       "\n",
       "    .dataframe tbody tr th {\n",
       "        vertical-align: top;\n",
       "    }\n",
       "\n",
       "    .dataframe thead th {\n",
       "        text-align: right;\n",
       "    }\n",
       "</style>\n",
       "<table border=\"1\" class=\"dataframe\">\n",
       "  <thead>\n",
       "    <tr style=\"text-align: right;\">\n",
       "      <th></th>\n",
       "      <th>zoneClass</th>\n",
       "      <th>portionSum</th>\n",
       "      <th>outofTwentyKsample</th>\n",
       "      <th>relativeBostonSubdistrict</th>\n",
       "    </tr>\n",
       "  </thead>\n",
       "  <tbody>\n",
       "    <tr>\n",
       "      <th>0</th>\n",
       "      <td>residential</td>\n",
       "      <td>49.89</td>\n",
       "      <td>9978</td>\n",
       "      <td>Residential</td>\n",
       "    </tr>\n",
       "    <tr>\n",
       "      <th>1</th>\n",
       "      <td>open space</td>\n",
       "      <td>17.86</td>\n",
       "      <td>3571</td>\n",
       "      <td>Open Space</td>\n",
       "    </tr>\n",
       "    <tr>\n",
       "      <th>2</th>\n",
       "      <td>employment industrial</td>\n",
       "      <td>13.90</td>\n",
       "      <td>2780</td>\n",
       "      <td>Industrial</td>\n",
       "    </tr>\n",
       "    <tr>\n",
       "      <th>3</th>\n",
       "      <td>unassigned</td>\n",
       "      <td>5.83</td>\n",
       "      <td>1166</td>\n",
       "      <td>Miscellaneous and Mixed Use</td>\n",
       "    </tr>\n",
       "    <tr>\n",
       "      <th>4</th>\n",
       "      <td>commercial</td>\n",
       "      <td>5.34</td>\n",
       "      <td>1068</td>\n",
       "      <td>Business</td>\n",
       "    </tr>\n",
       "    <tr>\n",
       "      <th>5</th>\n",
       "      <td>utilities</td>\n",
       "      <td>5.08</td>\n",
       "      <td>1016</td>\n",
       "      <td>Miscellaneous and Mixed Use</td>\n",
       "    </tr>\n",
       "    <tr>\n",
       "      <th>6</th>\n",
       "      <td>institutional</td>\n",
       "      <td>2.10</td>\n",
       "      <td>420</td>\n",
       "      <td>Comm/Instit</td>\n",
       "    </tr>\n",
       "  </tbody>\n",
       "</table>\n",
       "</div>"
      ],
      "text/plain": [
       "               zoneClass  portionSum  outofTwentyKsample  \\\n",
       "0            residential       49.89                9978   \n",
       "1             open space       17.86                3571   \n",
       "2  employment industrial       13.90                2780   \n",
       "3             unassigned        5.83                1166   \n",
       "4             commercial        5.34                1068   \n",
       "5              utilities        5.08                1016   \n",
       "6          institutional        2.10                 420   \n",
       "\n",
       "     relativeBostonSubdistrict  \n",
       "0                  Residential  \n",
       "1                   Open Space  \n",
       "2                   Industrial  \n",
       "3  Miscellaneous and Mixed Use  \n",
       "4                     Business  \n",
       "5  Miscellaneous and Mixed Use  \n",
       "6                  Comm/Instit  "
      ]
     },
     "execution_count": 241,
     "metadata": {},
     "output_type": "execute_result"
    }
   ],
   "source": [
    "Toronto['relativeBostonSubdistrict'] = ['Residential', 'Open Space', 'Industrial', 'Miscellaneous and Mixed Use', 'Business', \n",
    "                           'Miscellaneous and Mixed Use', 'Comm/Instit']\n",
    "Toronto"
   ]
  },
  {
   "cell_type": "code",
   "execution_count": 242,
   "metadata": {},
   "outputs": [],
   "source": [
    "boston_portion = pd.DataFrame(Toronto.groupby('relativeBostonSubdistrict')['outofTwentyKsample'].sum().sort_values(ascending = False))"
   ]
  },
  {
   "cell_type": "code",
   "execution_count": 243,
   "metadata": {},
   "outputs": [
    {
     "data": {
      "text/html": [
       "<div>\n",
       "<style scoped>\n",
       "    .dataframe tbody tr th:only-of-type {\n",
       "        vertical-align: middle;\n",
       "    }\n",
       "\n",
       "    .dataframe tbody tr th {\n",
       "        vertical-align: top;\n",
       "    }\n",
       "\n",
       "    .dataframe thead th {\n",
       "        text-align: right;\n",
       "    }\n",
       "</style>\n",
       "<table border=\"1\" class=\"dataframe\">\n",
       "  <thead>\n",
       "    <tr style=\"text-align: right;\">\n",
       "      <th></th>\n",
       "      <th>outofTwentyKsample</th>\n",
       "    </tr>\n",
       "    <tr>\n",
       "      <th>relativeBostonSubdistrict</th>\n",
       "      <th></th>\n",
       "    </tr>\n",
       "  </thead>\n",
       "  <tbody>\n",
       "    <tr>\n",
       "      <th>Residential</th>\n",
       "      <td>9978</td>\n",
       "    </tr>\n",
       "    <tr>\n",
       "      <th>Open Space</th>\n",
       "      <td>3571</td>\n",
       "    </tr>\n",
       "    <tr>\n",
       "      <th>Industrial</th>\n",
       "      <td>2780</td>\n",
       "    </tr>\n",
       "    <tr>\n",
       "      <th>Miscellaneous and Mixed Use</th>\n",
       "      <td>2182</td>\n",
       "    </tr>\n",
       "    <tr>\n",
       "      <th>Business</th>\n",
       "      <td>1068</td>\n",
       "    </tr>\n",
       "    <tr>\n",
       "      <th>Comm/Instit</th>\n",
       "      <td>420</td>\n",
       "    </tr>\n",
       "  </tbody>\n",
       "</table>\n",
       "</div>"
      ],
      "text/plain": [
       "                             outofTwentyKsample\n",
       "relativeBostonSubdistrict                      \n",
       "Residential                                9978\n",
       "Open Space                                 3571\n",
       "Industrial                                 2780\n",
       "Miscellaneous and Mixed Use                2182\n",
       "Business                                   1068\n",
       "Comm/Instit                                 420"
      ]
     },
     "execution_count": 243,
     "metadata": {},
     "output_type": "execute_result"
    }
   ],
   "source": [
    "boston_portion"
   ]
  },
  {
   "cell_type": "markdown",
   "metadata": {},
   "source": [
    "### Understanding 'boston' subdistrict portion"
   ]
  },
  {
   "cell_type": "code",
   "execution_count": 244,
   "metadata": {},
   "outputs": [
    {
     "data": {
      "text/plain": [
       "Residential      33749\n",
       "Open Space        5273\n",
       "Business          4650\n",
       "Industrial        3452\n",
       "Mixed Use         2973\n",
       "Miscellaneous     1890\n",
       "Comm/Instit       1414\n",
       "Name: SUBDISTRIC, dtype: int64"
      ]
     },
     "execution_count": 244,
     "metadata": {},
     "output_type": "execute_result"
    }
   ],
   "source": [
    "boston.SUBDISTRIC.value_counts()"
   ]
  },
  {
   "cell_type": "code",
   "execution_count": 245,
   "metadata": {},
   "outputs": [
    {
     "data": {
      "text/plain": [
       "Residential      63.199191\n",
       "Open Space        9.874347\n",
       "Business          8.707702\n",
       "Industrial        6.464298\n",
       "Mixed Use         5.567311\n",
       "Miscellaneous     3.539260\n",
       "Comm/Instit       2.647890\n",
       "Name: SUBDISTRIC, dtype: float64"
      ]
     },
     "execution_count": 245,
     "metadata": {},
     "output_type": "execute_result"
    }
   ],
   "source": [
    "boston.SUBDISTRIC.value_counts() / boston.SUBDISTRIC.count() * 100"
   ]
  },
  {
   "cell_type": "markdown",
   "metadata": {},
   "source": [
    "### Stratified sampling based on both the portion of Toronto zoning class and the portion of target column - 'safety'\n",
    "Note that if we are to subsample 'boston' based on 'boston_portion', not all classe meet the quantity requirement:<br>\n",
    "For SUBDISTRIC = Industrial, when safety = 1, there are only 505 samples, less than the ideal 1390 that we would like to sample."
   ]
  },
  {
   "cell_type": "markdown",
   "metadata": {},
   "source": [
    "#### Understanding 'boston' table's 'subdistrict' by 'safety'"
   ]
  },
  {
   "cell_type": "code",
   "execution_count": 247,
   "metadata": {},
   "outputs": [
    {
     "data": {
      "text/html": [
       "<div>\n",
       "<style scoped>\n",
       "    .dataframe tbody tr th:only-of-type {\n",
       "        vertical-align: middle;\n",
       "    }\n",
       "\n",
       "    .dataframe tbody tr th {\n",
       "        vertical-align: top;\n",
       "    }\n",
       "\n",
       "    .dataframe thead th {\n",
       "        text-align: right;\n",
       "    }\n",
       "</style>\n",
       "<table border=\"1\" class=\"dataframe\">\n",
       "  <thead>\n",
       "    <tr style=\"text-align: right;\">\n",
       "      <th></th>\n",
       "      <th></th>\n",
       "      <th>city</th>\n",
       "      <th>latitude</th>\n",
       "      <th>longitude</th>\n",
       "      <th>q-score</th>\n",
       "      <th>Coordinates</th>\n",
       "      <th>OBJECTID</th>\n",
       "    </tr>\n",
       "    <tr>\n",
       "      <th>SUBDISTRIC</th>\n",
       "      <th>safety</th>\n",
       "      <th></th>\n",
       "      <th></th>\n",
       "      <th></th>\n",
       "      <th></th>\n",
       "      <th></th>\n",
       "      <th></th>\n",
       "    </tr>\n",
       "  </thead>\n",
       "  <tbody>\n",
       "    <tr>\n",
       "      <th rowspan=\"2\" valign=\"top\">Business</th>\n",
       "      <th>0</th>\n",
       "      <td>3374</td>\n",
       "      <td>3374</td>\n",
       "      <td>3374</td>\n",
       "      <td>3374</td>\n",
       "      <td>3374</td>\n",
       "      <td>3374</td>\n",
       "    </tr>\n",
       "    <tr>\n",
       "      <th>1</th>\n",
       "      <td>1276</td>\n",
       "      <td>1276</td>\n",
       "      <td>1276</td>\n",
       "      <td>1276</td>\n",
       "      <td>1276</td>\n",
       "      <td>1276</td>\n",
       "    </tr>\n",
       "    <tr>\n",
       "      <th rowspan=\"2\" valign=\"top\">Comm/Instit</th>\n",
       "      <th>0</th>\n",
       "      <td>875</td>\n",
       "      <td>875</td>\n",
       "      <td>875</td>\n",
       "      <td>875</td>\n",
       "      <td>875</td>\n",
       "      <td>875</td>\n",
       "    </tr>\n",
       "    <tr>\n",
       "      <th>1</th>\n",
       "      <td>539</td>\n",
       "      <td>539</td>\n",
       "      <td>539</td>\n",
       "      <td>539</td>\n",
       "      <td>539</td>\n",
       "      <td>539</td>\n",
       "    </tr>\n",
       "    <tr>\n",
       "      <th rowspan=\"2\" valign=\"top\">Industrial</th>\n",
       "      <th>0</th>\n",
       "      <td>2947</td>\n",
       "      <td>2947</td>\n",
       "      <td>2947</td>\n",
       "      <td>2947</td>\n",
       "      <td>2947</td>\n",
       "      <td>2947</td>\n",
       "    </tr>\n",
       "    <tr>\n",
       "      <th>1</th>\n",
       "      <td>505</td>\n",
       "      <td>505</td>\n",
       "      <td>505</td>\n",
       "      <td>505</td>\n",
       "      <td>505</td>\n",
       "      <td>505</td>\n",
       "    </tr>\n",
       "    <tr>\n",
       "      <th rowspan=\"2\" valign=\"top\">Miscellaneous</th>\n",
       "      <th>0</th>\n",
       "      <td>1384</td>\n",
       "      <td>1384</td>\n",
       "      <td>1384</td>\n",
       "      <td>1384</td>\n",
       "      <td>1384</td>\n",
       "      <td>1384</td>\n",
       "    </tr>\n",
       "    <tr>\n",
       "      <th>1</th>\n",
       "      <td>506</td>\n",
       "      <td>506</td>\n",
       "      <td>506</td>\n",
       "      <td>506</td>\n",
       "      <td>506</td>\n",
       "      <td>506</td>\n",
       "    </tr>\n",
       "    <tr>\n",
       "      <th rowspan=\"2\" valign=\"top\">Mixed Use</th>\n",
       "      <th>0</th>\n",
       "      <td>2236</td>\n",
       "      <td>2236</td>\n",
       "      <td>2236</td>\n",
       "      <td>2236</td>\n",
       "      <td>2236</td>\n",
       "      <td>2236</td>\n",
       "    </tr>\n",
       "    <tr>\n",
       "      <th>1</th>\n",
       "      <td>737</td>\n",
       "      <td>737</td>\n",
       "      <td>737</td>\n",
       "      <td>737</td>\n",
       "      <td>737</td>\n",
       "      <td>737</td>\n",
       "    </tr>\n",
       "    <tr>\n",
       "      <th rowspan=\"2\" valign=\"top\">Open Space</th>\n",
       "      <th>0</th>\n",
       "      <td>3019</td>\n",
       "      <td>3019</td>\n",
       "      <td>3019</td>\n",
       "      <td>3019</td>\n",
       "      <td>3019</td>\n",
       "      <td>3019</td>\n",
       "    </tr>\n",
       "    <tr>\n",
       "      <th>1</th>\n",
       "      <td>2254</td>\n",
       "      <td>2254</td>\n",
       "      <td>2254</td>\n",
       "      <td>2254</td>\n",
       "      <td>2254</td>\n",
       "      <td>2254</td>\n",
       "    </tr>\n",
       "    <tr>\n",
       "      <th rowspan=\"2\" valign=\"top\">Residential</th>\n",
       "      <th>0</th>\n",
       "      <td>14326</td>\n",
       "      <td>14326</td>\n",
       "      <td>14326</td>\n",
       "      <td>14326</td>\n",
       "      <td>14326</td>\n",
       "      <td>14326</td>\n",
       "    </tr>\n",
       "    <tr>\n",
       "      <th>1</th>\n",
       "      <td>19423</td>\n",
       "      <td>19423</td>\n",
       "      <td>19423</td>\n",
       "      <td>19423</td>\n",
       "      <td>19423</td>\n",
       "      <td>19423</td>\n",
       "    </tr>\n",
       "  </tbody>\n",
       "</table>\n",
       "</div>"
      ],
      "text/plain": [
       "                       city  latitude  longitude  q-score  Coordinates  \\\n",
       "SUBDISTRIC    safety                                                     \n",
       "Business      0        3374      3374       3374     3374         3374   \n",
       "              1        1276      1276       1276     1276         1276   \n",
       "Comm/Instit   0         875       875        875      875          875   \n",
       "              1         539       539        539      539          539   \n",
       "Industrial    0        2947      2947       2947     2947         2947   \n",
       "              1         505       505        505      505          505   \n",
       "Miscellaneous 0        1384      1384       1384     1384         1384   \n",
       "              1         506       506        506      506          506   \n",
       "Mixed Use     0        2236      2236       2236     2236         2236   \n",
       "              1         737       737        737      737          737   \n",
       "Open Space    0        3019      3019       3019     3019         3019   \n",
       "              1        2254      2254       2254     2254         2254   \n",
       "Residential   0       14326     14326      14326    14326        14326   \n",
       "              1       19423     19423      19423    19423        19423   \n",
       "\n",
       "                      OBJECTID  \n",
       "SUBDISTRIC    safety            \n",
       "Business      0           3374  \n",
       "              1           1276  \n",
       "Comm/Instit   0            875  \n",
       "              1            539  \n",
       "Industrial    0           2947  \n",
       "              1            505  \n",
       "Miscellaneous 0           1384  \n",
       "              1            506  \n",
       "Mixed Use     0           2236  \n",
       "              1            737  \n",
       "Open Space    0           3019  \n",
       "              1           2254  \n",
       "Residential   0          14326  \n",
       "              1          19423  "
      ]
     },
     "execution_count": 247,
     "metadata": {},
     "output_type": "execute_result"
    }
   ],
   "source": [
    "boston.groupby(['SUBDISTRIC','safety']).count()"
   ]
  },
  {
   "cell_type": "markdown",
   "metadata": {},
   "source": [
    "#### The number of samples we would like to take from 'boston' for each subdistrict's each 'safety' class are listed in below table's 'eachSafetyClass'"
   ]
  },
  {
   "cell_type": "code",
   "execution_count": 249,
   "metadata": {},
   "outputs": [
    {
     "data": {
      "text/html": [
       "<div>\n",
       "<style scoped>\n",
       "    .dataframe tbody tr th:only-of-type {\n",
       "        vertical-align: middle;\n",
       "    }\n",
       "\n",
       "    .dataframe tbody tr th {\n",
       "        vertical-align: top;\n",
       "    }\n",
       "\n",
       "    .dataframe thead th {\n",
       "        text-align: right;\n",
       "    }\n",
       "</style>\n",
       "<table border=\"1\" class=\"dataframe\">\n",
       "  <thead>\n",
       "    <tr style=\"text-align: right;\">\n",
       "      <th></th>\n",
       "      <th>outofTwentyKsample</th>\n",
       "      <th>eachSafetyClass</th>\n",
       "    </tr>\n",
       "    <tr>\n",
       "      <th>relativeBostonSubdistrict</th>\n",
       "      <th></th>\n",
       "      <th></th>\n",
       "    </tr>\n",
       "  </thead>\n",
       "  <tbody>\n",
       "    <tr>\n",
       "      <th>Residential</th>\n",
       "      <td>9978</td>\n",
       "      <td>4989</td>\n",
       "    </tr>\n",
       "    <tr>\n",
       "      <th>Open Space</th>\n",
       "      <td>3571</td>\n",
       "      <td>1785</td>\n",
       "    </tr>\n",
       "    <tr>\n",
       "      <th>Industrial</th>\n",
       "      <td>2780</td>\n",
       "      <td>1390</td>\n",
       "    </tr>\n",
       "    <tr>\n",
       "      <th>Miscellaneous and Mixed Use</th>\n",
       "      <td>2182</td>\n",
       "      <td>1091</td>\n",
       "    </tr>\n",
       "    <tr>\n",
       "      <th>Business</th>\n",
       "      <td>1068</td>\n",
       "      <td>534</td>\n",
       "    </tr>\n",
       "    <tr>\n",
       "      <th>Comm/Instit</th>\n",
       "      <td>420</td>\n",
       "      <td>210</td>\n",
       "    </tr>\n",
       "  </tbody>\n",
       "</table>\n",
       "</div>"
      ],
      "text/plain": [
       "                             outofTwentyKsample  eachSafetyClass\n",
       "relativeBostonSubdistrict                                       \n",
       "Residential                                9978             4989\n",
       "Open Space                                 3571             1785\n",
       "Industrial                                 2780             1390\n",
       "Miscellaneous and Mixed Use                2182             1091\n",
       "Business                                   1068              534\n",
       "Comm/Instit                                 420              210"
      ]
     },
     "execution_count": 249,
     "metadata": {},
     "output_type": "execute_result"
    }
   ],
   "source": [
    "boston_portion['eachSafetyClass'] = boston_portion.outofTwentyKsample/2\n",
    "boston_portion['eachSafetyClass'] = boston_portion['eachSafetyClass'].astype(int)\n",
    "boston_portion"
   ]
  },
  {
   "cell_type": "markdown",
   "metadata": {},
   "source": [
    "#### Stratified sampling: Create a new table 'boston_safety_subsample'"
   ]
  },
  {
   "cell_type": "code",
   "execution_count": 251,
   "metadata": {},
   "outputs": [],
   "source": [
    "boston_safety_subsample = pd.concat([\n",
    "    boston[(boston['SUBDISTRIC'] == 'Residential') & (boston['safety']==1)].sample(n = 4989),\n",
    "    boston[(boston['SUBDISTRIC'] == 'Residential') & (boston['safety']==0)].sample(n = 4989),\n",
    "    boston[(boston['SUBDISTRIC'] == 'Open Space') & (boston['safety']==1)].sample(n = 1786),\n",
    "    boston[(boston['SUBDISTRIC'] == 'Open Space') & (boston['safety']==0)].sample(n = 1786),\n",
    "    boston[(boston['SUBDISTRIC'] == 'Industrial') & (boston['safety']==1)].sample(n=505),\n",
    "    boston[(boston['SUBDISTRIC'] == 'Industrial') & (boston['safety']==0)].sample(n= 1390 + 1390 - 505),\n",
    "    boston[(boston['SUBDISTRIC'].isin(['Miscellaneous', 'Mixed Use'])) & (boston['safety']==1)].sample(n=1091),\n",
    "    boston[(boston['SUBDISTRIC'].isin(['Miscellaneous', 'Mixed Use'])) & (boston['safety']==0)].sample(n=1091),\n",
    "    boston[(boston['SUBDISTRIC'] == 'Business') & (boston['safety']==1)].sample(n = 534),\n",
    "    boston[(boston['SUBDISTRIC'] == 'Business') & (boston['safety']==0)].sample(n = 534),\n",
    "    boston[(boston['SUBDISTRIC'] == 'Comm/Instit') & (boston['safety']==1)].sample(n = 210),\n",
    "    boston[(boston['SUBDISTRIC'] == 'Comm/Instit') & (boston['safety']==0)].sample(n = 210)\n",
    "])"
   ]
  },
  {
   "cell_type": "markdown",
   "metadata": {},
   "source": [
    "#### Double check whether 'boston_safety_subsample' is really stratified sampling based both on column 'SUBDISTRIC' and column 'safety'"
   ]
  },
  {
   "cell_type": "code",
   "execution_count": 252,
   "metadata": {},
   "outputs": [
    {
     "data": {
      "text/html": [
       "<div>\n",
       "<style scoped>\n",
       "    .dataframe tbody tr th:only-of-type {\n",
       "        vertical-align: middle;\n",
       "    }\n",
       "\n",
       "    .dataframe tbody tr th {\n",
       "        vertical-align: top;\n",
       "    }\n",
       "\n",
       "    .dataframe thead th {\n",
       "        text-align: right;\n",
       "    }\n",
       "</style>\n",
       "<table border=\"1\" class=\"dataframe\">\n",
       "  <thead>\n",
       "    <tr style=\"text-align: right;\">\n",
       "      <th></th>\n",
       "      <th></th>\n",
       "      <th>city</th>\n",
       "      <th>latitude</th>\n",
       "      <th>longitude</th>\n",
       "      <th>q-score</th>\n",
       "      <th>Coordinates</th>\n",
       "      <th>OBJECTID</th>\n",
       "    </tr>\n",
       "    <tr>\n",
       "      <th>SUBDISTRIC</th>\n",
       "      <th>safety</th>\n",
       "      <th></th>\n",
       "      <th></th>\n",
       "      <th></th>\n",
       "      <th></th>\n",
       "      <th></th>\n",
       "      <th></th>\n",
       "    </tr>\n",
       "  </thead>\n",
       "  <tbody>\n",
       "    <tr>\n",
       "      <th rowspan=\"2\" valign=\"top\">Business</th>\n",
       "      <th>0</th>\n",
       "      <td>534</td>\n",
       "      <td>534</td>\n",
       "      <td>534</td>\n",
       "      <td>534</td>\n",
       "      <td>534</td>\n",
       "      <td>534</td>\n",
       "    </tr>\n",
       "    <tr>\n",
       "      <th>1</th>\n",
       "      <td>534</td>\n",
       "      <td>534</td>\n",
       "      <td>534</td>\n",
       "      <td>534</td>\n",
       "      <td>534</td>\n",
       "      <td>534</td>\n",
       "    </tr>\n",
       "    <tr>\n",
       "      <th rowspan=\"2\" valign=\"top\">Comm/Instit</th>\n",
       "      <th>0</th>\n",
       "      <td>210</td>\n",
       "      <td>210</td>\n",
       "      <td>210</td>\n",
       "      <td>210</td>\n",
       "      <td>210</td>\n",
       "      <td>210</td>\n",
       "    </tr>\n",
       "    <tr>\n",
       "      <th>1</th>\n",
       "      <td>210</td>\n",
       "      <td>210</td>\n",
       "      <td>210</td>\n",
       "      <td>210</td>\n",
       "      <td>210</td>\n",
       "      <td>210</td>\n",
       "    </tr>\n",
       "    <tr>\n",
       "      <th rowspan=\"2\" valign=\"top\">Industrial</th>\n",
       "      <th>0</th>\n",
       "      <td>2275</td>\n",
       "      <td>2275</td>\n",
       "      <td>2275</td>\n",
       "      <td>2275</td>\n",
       "      <td>2275</td>\n",
       "      <td>2275</td>\n",
       "    </tr>\n",
       "    <tr>\n",
       "      <th>1</th>\n",
       "      <td>505</td>\n",
       "      <td>505</td>\n",
       "      <td>505</td>\n",
       "      <td>505</td>\n",
       "      <td>505</td>\n",
       "      <td>505</td>\n",
       "    </tr>\n",
       "    <tr>\n",
       "      <th rowspan=\"2\" valign=\"top\">Miscellaneous</th>\n",
       "      <th>0</th>\n",
       "      <td>428</td>\n",
       "      <td>428</td>\n",
       "      <td>428</td>\n",
       "      <td>428</td>\n",
       "      <td>428</td>\n",
       "      <td>428</td>\n",
       "    </tr>\n",
       "    <tr>\n",
       "      <th>1</th>\n",
       "      <td>439</td>\n",
       "      <td>439</td>\n",
       "      <td>439</td>\n",
       "      <td>439</td>\n",
       "      <td>439</td>\n",
       "      <td>439</td>\n",
       "    </tr>\n",
       "    <tr>\n",
       "      <th rowspan=\"2\" valign=\"top\">Mixed Use</th>\n",
       "      <th>0</th>\n",
       "      <td>663</td>\n",
       "      <td>663</td>\n",
       "      <td>663</td>\n",
       "      <td>663</td>\n",
       "      <td>663</td>\n",
       "      <td>663</td>\n",
       "    </tr>\n",
       "    <tr>\n",
       "      <th>1</th>\n",
       "      <td>652</td>\n",
       "      <td>652</td>\n",
       "      <td>652</td>\n",
       "      <td>652</td>\n",
       "      <td>652</td>\n",
       "      <td>652</td>\n",
       "    </tr>\n",
       "    <tr>\n",
       "      <th rowspan=\"2\" valign=\"top\">Open Space</th>\n",
       "      <th>0</th>\n",
       "      <td>1786</td>\n",
       "      <td>1786</td>\n",
       "      <td>1786</td>\n",
       "      <td>1786</td>\n",
       "      <td>1786</td>\n",
       "      <td>1786</td>\n",
       "    </tr>\n",
       "    <tr>\n",
       "      <th>1</th>\n",
       "      <td>1786</td>\n",
       "      <td>1786</td>\n",
       "      <td>1786</td>\n",
       "      <td>1786</td>\n",
       "      <td>1786</td>\n",
       "      <td>1786</td>\n",
       "    </tr>\n",
       "    <tr>\n",
       "      <th rowspan=\"2\" valign=\"top\">Residential</th>\n",
       "      <th>0</th>\n",
       "      <td>4989</td>\n",
       "      <td>4989</td>\n",
       "      <td>4989</td>\n",
       "      <td>4989</td>\n",
       "      <td>4989</td>\n",
       "      <td>4989</td>\n",
       "    </tr>\n",
       "    <tr>\n",
       "      <th>1</th>\n",
       "      <td>4989</td>\n",
       "      <td>4989</td>\n",
       "      <td>4989</td>\n",
       "      <td>4989</td>\n",
       "      <td>4989</td>\n",
       "      <td>4989</td>\n",
       "    </tr>\n",
       "  </tbody>\n",
       "</table>\n",
       "</div>"
      ],
      "text/plain": [
       "                      city  latitude  longitude  q-score  Coordinates  \\\n",
       "SUBDISTRIC    safety                                                    \n",
       "Business      0        534       534        534      534          534   \n",
       "              1        534       534        534      534          534   \n",
       "Comm/Instit   0        210       210        210      210          210   \n",
       "              1        210       210        210      210          210   \n",
       "Industrial    0       2275      2275       2275     2275         2275   \n",
       "              1        505       505        505      505          505   \n",
       "Miscellaneous 0        428       428        428      428          428   \n",
       "              1        439       439        439      439          439   \n",
       "Mixed Use     0        663       663        663      663          663   \n",
       "              1        652       652        652      652          652   \n",
       "Open Space    0       1786      1786       1786     1786         1786   \n",
       "              1       1786      1786       1786     1786         1786   \n",
       "Residential   0       4989      4989       4989     4989         4989   \n",
       "              1       4989      4989       4989     4989         4989   \n",
       "\n",
       "                      OBJECTID  \n",
       "SUBDISTRIC    safety            \n",
       "Business      0            534  \n",
       "              1            534  \n",
       "Comm/Instit   0            210  \n",
       "              1            210  \n",
       "Industrial    0           2275  \n",
       "              1            505  \n",
       "Miscellaneous 0            428  \n",
       "              1            439  \n",
       "Mixed Use     0            663  \n",
       "              1            652  \n",
       "Open Space    0           1786  \n",
       "              1           1786  \n",
       "Residential   0           4989  \n",
       "              1           4989  "
      ]
     },
     "execution_count": 252,
     "metadata": {},
     "output_type": "execute_result"
    }
   ],
   "source": [
    "boston_safety_subsample.groupby(['SUBDISTRIC','safety']).count()"
   ]
  },
  {
   "cell_type": "code",
   "execution_count": 253,
   "metadata": {},
   "outputs": [
    {
     "data": {
      "text/html": [
       "<div>\n",
       "<style scoped>\n",
       "    .dataframe tbody tr th:only-of-type {\n",
       "        vertical-align: middle;\n",
       "    }\n",
       "\n",
       "    .dataframe tbody tr th {\n",
       "        vertical-align: top;\n",
       "    }\n",
       "\n",
       "    .dataframe thead th {\n",
       "        text-align: right;\n",
       "    }\n",
       "</style>\n",
       "<table border=\"1\" class=\"dataframe\">\n",
       "  <thead>\n",
       "    <tr style=\"text-align: right;\">\n",
       "      <th></th>\n",
       "      <th>city</th>\n",
       "      <th>latitude</th>\n",
       "      <th>longitude</th>\n",
       "      <th>q-score</th>\n",
       "      <th>safety</th>\n",
       "      <th>Coordinates</th>\n",
       "      <th>OBJECTID</th>\n",
       "    </tr>\n",
       "    <tr>\n",
       "      <th>SUBDISTRIC</th>\n",
       "      <th></th>\n",
       "      <th></th>\n",
       "      <th></th>\n",
       "      <th></th>\n",
       "      <th></th>\n",
       "      <th></th>\n",
       "      <th></th>\n",
       "    </tr>\n",
       "  </thead>\n",
       "  <tbody>\n",
       "    <tr>\n",
       "      <th>Business</th>\n",
       "      <td>1068</td>\n",
       "      <td>1068</td>\n",
       "      <td>1068</td>\n",
       "      <td>1068</td>\n",
       "      <td>1068</td>\n",
       "      <td>1068</td>\n",
       "      <td>1068</td>\n",
       "    </tr>\n",
       "    <tr>\n",
       "      <th>Comm/Instit</th>\n",
       "      <td>420</td>\n",
       "      <td>420</td>\n",
       "      <td>420</td>\n",
       "      <td>420</td>\n",
       "      <td>420</td>\n",
       "      <td>420</td>\n",
       "      <td>420</td>\n",
       "    </tr>\n",
       "    <tr>\n",
       "      <th>Industrial</th>\n",
       "      <td>2780</td>\n",
       "      <td>2780</td>\n",
       "      <td>2780</td>\n",
       "      <td>2780</td>\n",
       "      <td>2780</td>\n",
       "      <td>2780</td>\n",
       "      <td>2780</td>\n",
       "    </tr>\n",
       "    <tr>\n",
       "      <th>Miscellaneous</th>\n",
       "      <td>867</td>\n",
       "      <td>867</td>\n",
       "      <td>867</td>\n",
       "      <td>867</td>\n",
       "      <td>867</td>\n",
       "      <td>867</td>\n",
       "      <td>867</td>\n",
       "    </tr>\n",
       "    <tr>\n",
       "      <th>Mixed Use</th>\n",
       "      <td>1315</td>\n",
       "      <td>1315</td>\n",
       "      <td>1315</td>\n",
       "      <td>1315</td>\n",
       "      <td>1315</td>\n",
       "      <td>1315</td>\n",
       "      <td>1315</td>\n",
       "    </tr>\n",
       "    <tr>\n",
       "      <th>Open Space</th>\n",
       "      <td>3572</td>\n",
       "      <td>3572</td>\n",
       "      <td>3572</td>\n",
       "      <td>3572</td>\n",
       "      <td>3572</td>\n",
       "      <td>3572</td>\n",
       "      <td>3572</td>\n",
       "    </tr>\n",
       "    <tr>\n",
       "      <th>Residential</th>\n",
       "      <td>9978</td>\n",
       "      <td>9978</td>\n",
       "      <td>9978</td>\n",
       "      <td>9978</td>\n",
       "      <td>9978</td>\n",
       "      <td>9978</td>\n",
       "      <td>9978</td>\n",
       "    </tr>\n",
       "  </tbody>\n",
       "</table>\n",
       "</div>"
      ],
      "text/plain": [
       "               city  latitude  longitude  q-score  safety  Coordinates  \\\n",
       "SUBDISTRIC                                                               \n",
       "Business       1068      1068       1068     1068    1068         1068   \n",
       "Comm/Instit     420       420        420      420     420          420   \n",
       "Industrial     2780      2780       2780     2780    2780         2780   \n",
       "Miscellaneous   867       867        867      867     867          867   \n",
       "Mixed Use      1315      1315       1315     1315    1315         1315   \n",
       "Open Space     3572      3572       3572     3572    3572         3572   \n",
       "Residential    9978      9978       9978     9978    9978         9978   \n",
       "\n",
       "               OBJECTID  \n",
       "SUBDISTRIC               \n",
       "Business           1068  \n",
       "Comm/Instit         420  \n",
       "Industrial         2780  \n",
       "Miscellaneous       867  \n",
       "Mixed Use          1315  \n",
       "Open Space         3572  \n",
       "Residential        9978  "
      ]
     },
     "execution_count": 253,
     "metadata": {},
     "output_type": "execute_result"
    }
   ],
   "source": [
    "boston_safety_subsample.groupby(['SUBDISTRIC']).count()"
   ]
  },
  {
   "cell_type": "code",
   "execution_count": 254,
   "metadata": {},
   "outputs": [
    {
     "data": {
      "text/html": [
       "<div>\n",
       "<style scoped>\n",
       "    .dataframe tbody tr th:only-of-type {\n",
       "        vertical-align: middle;\n",
       "    }\n",
       "\n",
       "    .dataframe tbody tr th {\n",
       "        vertical-align: top;\n",
       "    }\n",
       "\n",
       "    .dataframe thead th {\n",
       "        text-align: right;\n",
       "    }\n",
       "</style>\n",
       "<table border=\"1\" class=\"dataframe\">\n",
       "  <thead>\n",
       "    <tr style=\"text-align: right;\">\n",
       "      <th></th>\n",
       "      <th>city</th>\n",
       "      <th>latitude</th>\n",
       "      <th>longitude</th>\n",
       "      <th>q-score</th>\n",
       "      <th>Coordinates</th>\n",
       "      <th>OBJECTID</th>\n",
       "      <th>SUBDISTRIC</th>\n",
       "    </tr>\n",
       "    <tr>\n",
       "      <th>safety</th>\n",
       "      <th></th>\n",
       "      <th></th>\n",
       "      <th></th>\n",
       "      <th></th>\n",
       "      <th></th>\n",
       "      <th></th>\n",
       "      <th></th>\n",
       "    </tr>\n",
       "  </thead>\n",
       "  <tbody>\n",
       "    <tr>\n",
       "      <th>0</th>\n",
       "      <td>10885</td>\n",
       "      <td>10885</td>\n",
       "      <td>10885</td>\n",
       "      <td>10885</td>\n",
       "      <td>10885</td>\n",
       "      <td>10885</td>\n",
       "      <td>10885</td>\n",
       "    </tr>\n",
       "    <tr>\n",
       "      <th>1</th>\n",
       "      <td>9115</td>\n",
       "      <td>9115</td>\n",
       "      <td>9115</td>\n",
       "      <td>9115</td>\n",
       "      <td>9115</td>\n",
       "      <td>9115</td>\n",
       "      <td>9115</td>\n",
       "    </tr>\n",
       "  </tbody>\n",
       "</table>\n",
       "</div>"
      ],
      "text/plain": [
       "         city  latitude  longitude  q-score  Coordinates  OBJECTID  SUBDISTRIC\n",
       "safety                                                                        \n",
       "0       10885     10885      10885    10885        10885     10885       10885\n",
       "1        9115      9115       9115     9115         9115      9115        9115"
      ]
     },
     "execution_count": 254,
     "metadata": {},
     "output_type": "execute_result"
    }
   ],
   "source": [
    "boston_safety_subsample.groupby(['safety']).count()"
   ]
  },
  {
   "cell_type": "code",
   "execution_count": 255,
   "metadata": {},
   "outputs": [
    {
     "data": {
      "text/html": [
       "<div>\n",
       "<style scoped>\n",
       "    .dataframe tbody tr th:only-of-type {\n",
       "        vertical-align: middle;\n",
       "    }\n",
       "\n",
       "    .dataframe tbody tr th {\n",
       "        vertical-align: top;\n",
       "    }\n",
       "\n",
       "    .dataframe thead th {\n",
       "        text-align: right;\n",
       "    }\n",
       "</style>\n",
       "<table border=\"1\" class=\"dataframe\">\n",
       "  <thead>\n",
       "    <tr style=\"text-align: right;\">\n",
       "      <th></th>\n",
       "      <th>city</th>\n",
       "      <th>latitude</th>\n",
       "      <th>longitude</th>\n",
       "      <th>q-score</th>\n",
       "      <th>safety</th>\n",
       "      <th>Coordinates</th>\n",
       "      <th>OBJECTID</th>\n",
       "      <th>SUBDISTRIC</th>\n",
       "    </tr>\n",
       "  </thead>\n",
       "  <tbody>\n",
       "    <tr>\n",
       "      <th>25915</th>\n",
       "      <td>Boston</td>\n",
       "      <td>42.348724</td>\n",
       "      <td>-71.071495</td>\n",
       "      <td>28.634125</td>\n",
       "      <td>1</td>\n",
       "      <td>POINT (-71.071495 42.348724)</td>\n",
       "      <td>54998</td>\n",
       "      <td>Residential</td>\n",
       "    </tr>\n",
       "    <tr>\n",
       "      <th>1131</th>\n",
       "      <td>Boston</td>\n",
       "      <td>42.288597</td>\n",
       "      <td>-71.065681</td>\n",
       "      <td>26.525396</td>\n",
       "      <td>1</td>\n",
       "      <td>POINT (-71.06568100000001 42.288597)</td>\n",
       "      <td>55642</td>\n",
       "      <td>Residential</td>\n",
       "    </tr>\n",
       "    <tr>\n",
       "      <th>121773</th>\n",
       "      <td>Boston</td>\n",
       "      <td>42.295563</td>\n",
       "      <td>-71.138023</td>\n",
       "      <td>29.614868</td>\n",
       "      <td>1</td>\n",
       "      <td>POINT (-71.138023 42.295563)</td>\n",
       "      <td>54450</td>\n",
       "      <td>Residential</td>\n",
       "    </tr>\n",
       "    <tr>\n",
       "      <th>7005</th>\n",
       "      <td>Boston</td>\n",
       "      <td>42.312973</td>\n",
       "      <td>-71.076004</td>\n",
       "      <td>30.076191</td>\n",
       "      <td>1</td>\n",
       "      <td>POINT (-71.076004 42.312973)</td>\n",
       "      <td>55523</td>\n",
       "      <td>Residential</td>\n",
       "    </tr>\n",
       "    <tr>\n",
       "      <th>6342</th>\n",
       "      <td>Boston</td>\n",
       "      <td>42.311348</td>\n",
       "      <td>-71.060051</td>\n",
       "      <td>26.038879</td>\n",
       "      <td>1</td>\n",
       "      <td>POINT (-71.060051 42.311348)</td>\n",
       "      <td>55604</td>\n",
       "      <td>Residential</td>\n",
       "    </tr>\n",
       "  </tbody>\n",
       "</table>\n",
       "</div>"
      ],
      "text/plain": [
       "          city   latitude  longitude    q-score  safety  \\\n",
       "25915   Boston  42.348724 -71.071495  28.634125       1   \n",
       "1131    Boston  42.288597 -71.065681  26.525396       1   \n",
       "121773  Boston  42.295563 -71.138023  29.614868       1   \n",
       "7005    Boston  42.312973 -71.076004  30.076191       1   \n",
       "6342    Boston  42.311348 -71.060051  26.038879       1   \n",
       "\n",
       "                                 Coordinates  OBJECTID   SUBDISTRIC  \n",
       "25915           POINT (-71.071495 42.348724)     54998  Residential  \n",
       "1131    POINT (-71.06568100000001 42.288597)     55642  Residential  \n",
       "121773          POINT (-71.138023 42.295563)     54450  Residential  \n",
       "7005            POINT (-71.076004 42.312973)     55523  Residential  \n",
       "6342            POINT (-71.060051 42.311348)     55604  Residential  "
      ]
     },
     "execution_count": 255,
     "metadata": {},
     "output_type": "execute_result"
    }
   ],
   "source": [
    "boston_safety_subsample.head()"
   ]
  },
  {
   "cell_type": "markdown",
   "metadata": {},
   "source": [
    "#### Save the 'boston_safety_subsample' table. Next, would obtain Boston street view images using Google API based on this table."
   ]
  },
  {
   "cell_type": "code",
   "execution_count": 256,
   "metadata": {},
   "outputs": [],
   "source": [
    "boston_safety_subsample.to_csv(\"~/Desktop/ML1030/us_safety/boston_safety_subsample.csv\")"
   ]
  }
 ],
 "metadata": {
  "kernelspec": {
   "display_name": "Python 3",
   "language": "python",
   "name": "python3"
  },
  "language_info": {
   "codemirror_mode": {
    "name": "ipython",
    "version": 3
   },
   "file_extension": ".py",
   "mimetype": "text/x-python",
   "name": "python",
   "nbconvert_exporter": "python",
   "pygments_lexer": "ipython3",
   "version": "3.6.8"
  }
 },
 "nbformat": 4,
 "nbformat_minor": 2
}
