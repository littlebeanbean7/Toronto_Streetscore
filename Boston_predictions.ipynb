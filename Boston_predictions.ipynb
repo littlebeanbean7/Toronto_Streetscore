{
 "cells": [
  {
   "cell_type": "markdown",
   "metadata": {
    "_uuid": "da035fe58e548e8b1b7e8e89725b9e6bc745aa7b"
   },
   "source": [
    "# Toronto Streetscore - CNN with Keras"
   ]
  },
  {
   "cell_type": "code",
   "execution_count": 1,
   "metadata": {
    "_uuid": "0d9c73ad23e6c2eae3028255ee00c3254fe66401"
   },
   "outputs": [
    {
     "name": "stderr",
     "output_type": "stream",
     "text": [
      "Using TensorFlow backend.\n"
     ]
    }
   ],
   "source": [
    "import numpy as np \n",
    "import pandas as pd \n",
    "import os, sys\n",
    "import matplotlib.pyplot as plt\n",
    "import matplotlib.image as mplimg\n",
    "from matplotlib.pyplot import imshow\n",
    "import gc\n",
    "\n",
    "from sklearn.preprocessing import LabelEncoder\n",
    "from sklearn.preprocessing import OneHotEncoder\n",
    "from sklearn.metrics import confusion_matrix\n",
    "from sklearn.utils.multiclass import unique_labels\n",
    "\n",
    "from keras import layers\n",
    "from keras.preprocessing import image\n",
    "from keras.applications.imagenet_utils import preprocess_input\n",
    "from keras.layers import Input, Dense, Activation, BatchNormalization, Flatten, Conv2D\n",
    "from keras.layers import AveragePooling2D, MaxPooling2D, Dropout\n",
    "from keras.models import Sequential, Model, load_model, model_from_yaml\n",
    "from keras.optimizers import SGD\n",
    "from keras.constraints import maxnorm\n",
    "from keras.callbacks import ModelCheckpoint\n",
    "\n",
    "import keras.backend as K\n",
    "from keras.models import Sequential\n",
    "\n",
    "import lime\n",
    "from lime import lime_image\n",
    "\n",
    "import warnings\n",
    "warnings.simplefilter(\"ignore\", category=DeprecationWarning)\n"
   ]
  },
  {
   "cell_type": "code",
   "execution_count": 3,
   "metadata": {
    "_uuid": "46a8839e13a14eb8d16ea6823de9927ea63d5001"
   },
   "outputs": [
    {
     "data": {
      "text/html": [
       "<div>\n",
       "<style scoped>\n",
       "    .dataframe tbody tr th:only-of-type {\n",
       "        vertical-align: middle;\n",
       "    }\n",
       "\n",
       "    .dataframe tbody tr th {\n",
       "        vertical-align: top;\n",
       "    }\n",
       "\n",
       "    .dataframe thead th {\n",
       "        text-align: right;\n",
       "    }\n",
       "</style>\n",
       "<table border=\"1\" class=\"dataframe\">\n",
       "  <thead>\n",
       "    <tr style=\"text-align: right;\">\n",
       "      <th></th>\n",
       "      <th>Image_Id</th>\n",
       "      <th>safety</th>\n",
       "    </tr>\n",
       "  </thead>\n",
       "  <tbody>\n",
       "    <tr>\n",
       "      <th>0</th>\n",
       "      <td>gsv_0.jpg</td>\n",
       "      <td>0</td>\n",
       "    </tr>\n",
       "    <tr>\n",
       "      <th>1</th>\n",
       "      <td>gsv_1.jpg</td>\n",
       "      <td>0</td>\n",
       "    </tr>\n",
       "    <tr>\n",
       "      <th>2</th>\n",
       "      <td>gsv_2.jpg</td>\n",
       "      <td>0</td>\n",
       "    </tr>\n",
       "    <tr>\n",
       "      <th>3</th>\n",
       "      <td>gsv_3.jpg</td>\n",
       "      <td>0</td>\n",
       "    </tr>\n",
       "    <tr>\n",
       "      <th>4</th>\n",
       "      <td>gsv_4.jpg</td>\n",
       "      <td>0</td>\n",
       "    </tr>\n",
       "  </tbody>\n",
       "</table>\n",
       "</div>"
      ],
      "text/plain": [
       "    Image_Id  safety\n",
       "0  gsv_0.jpg       0\n",
       "1  gsv_1.jpg       0\n",
       "2  gsv_2.jpg       0\n",
       "3  gsv_3.jpg       0\n",
       "4  gsv_4.jpg       0"
      ]
     },
     "execution_count": 3,
     "metadata": {},
     "output_type": "execute_result"
    }
   ],
   "source": [
    "# importing the Boston streetscore data\n",
    "boston_df = pd.read_csv(\"boston_train/boston_train_fetched_with_target.csv\")\n",
    "boston_df.rename(columns = {'_file':'Image_Id'}, inplace = True)\n",
    "train_df = boston_df [[\"Image_Id\", \"safety\"]]\n",
    "train_df.head()"
   ]
  },
  {
   "cell_type": "code",
   "execution_count": 4,
   "metadata": {},
   "outputs": [
    {
     "data": {
      "text/plain": [
       "0    8667\n",
       "1    7261\n",
       "Name: safety, dtype: int64"
      ]
     },
     "execution_count": 4,
     "metadata": {},
     "output_type": "execute_result"
    }
   ],
   "source": [
    "train_df.safety.value_counts().head()"
   ]
  },
  {
   "cell_type": "code",
   "execution_count": 5,
   "metadata": {},
   "outputs": [
    {
     "data": {
      "text/plain": [
       "0"
      ]
     },
     "execution_count": 5,
     "metadata": {},
     "output_type": "execute_result"
    }
   ],
   "source": [
    "train_df[\"Image_Id\"].isna().sum()"
   ]
  },
  {
   "cell_type": "code",
   "execution_count": 6,
   "metadata": {
    "_uuid": "f46b24dbba74f22833cac6140e60348b15a8e047"
   },
   "outputs": [],
   "source": [
    "# this will be used to preprocess the datasets\n",
    "def prepareImages(data, m, dataset, city):\n",
    "    print(\"Preparing images\")\n",
    "    X = np.zeros((m, 100, 100, 3))\n",
    "    count = 0\n",
    "    \n",
    "    for fig in data['Image_Id']:\n",
    "        #load images into images of size 100x100x3\n",
    "        img = image.load_img(city+\"/\"+dataset+\"/\"+fig, target_size=(100, 100, 3))\n",
    "        x = image.img_to_array(img)\n",
    "        x = preprocess_input(x)\n",
    "\n",
    "        X[count] = x\n",
    "        if (count%500 == 0):\n",
    "            print(\"Processing image: \", count+1, \", \", fig)\n",
    "        count += 1\n",
    "    \n",
    "    return X"
   ]
  },
  {
   "cell_type": "code",
   "execution_count": 7,
   "metadata": {
    "_uuid": "6587a101b58af064af0f9c60a1070c6c8f52d45f"
   },
   "outputs": [],
   "source": [
    "# this will be used to generate labels for the training set\n",
    "def prepare_labels(y):\n",
    "    values = np.array(y)\n",
    "    label_encoder = LabelEncoder()\n",
    "    integer_encoded = label_encoder.fit_transform(values)\n",
    "    # print(integer_encoded)\n",
    "\n",
    "    onehot_encoder = OneHotEncoder(sparse=False)\n",
    "    integer_encoded = integer_encoded.reshape(len(integer_encoded), 1)\n",
    "    onehot_encoded = onehot_encoder.fit_transform(integer_encoded)\n",
    "    # print(onehot_encoded)#\n",
    "\n",
    "    y = onehot_encoded\n",
    "    # print(y.shape)\n",
    "    return y, label_encoder"
   ]
  },
  {
   "cell_type": "code",
   "execution_count": 8,
   "metadata": {},
   "outputs": [],
   "source": [
    "# This chunk of code was added to resolve the error \"OSError: image file is truncated\" in the below cell\n",
    "from PIL import ImageFile\n",
    "ImageFile.LOAD_TRUNCATED_IMAGES = True"
   ]
  },
  {
   "cell_type": "code",
   "execution_count": 9,
   "metadata": {
    "_uuid": "4afe4128a0cd6859848c8a80686208082d647c39"
   },
   "outputs": [
    {
     "name": "stdout",
     "output_type": "stream",
     "text": [
      "Preparing images\n",
      "Processing image:  1 ,  gsv_0.jpg\n",
      "Processing image:  501 ,  gsv_502.jpg\n",
      "Processing image:  1001 ,  gsv_1004.jpg\n",
      "Processing image:  1501 ,  gsv_1504.jpg\n",
      "Processing image:  2001 ,  gsv_2008.jpg\n",
      "Processing image:  2501 ,  gsv_2510.jpg\n",
      "Processing image:  3001 ,  gsv_3011.jpg\n",
      "Processing image:  3501 ,  gsv_3512.jpg\n",
      "Processing image:  4001 ,  gsv_4013.jpg\n",
      "Processing image:  4501 ,  gsv_4517.jpg\n",
      "Processing image:  5001 ,  gsv_5020.jpg\n",
      "Processing image:  5501 ,  gsv_5521.jpg\n",
      "Processing image:  6001 ,  gsv_6022.jpg\n",
      "Processing image:  6501 ,  gsv_6523.jpg\n",
      "Processing image:  7001 ,  gsv_7026.jpg\n",
      "Processing image:  7501 ,  gsv_7528.jpg\n",
      "Processing image:  8001 ,  gsv_8030.jpg\n",
      "Processing image:  8501 ,  gsv_8535.jpg\n",
      "Processing image:  9001 ,  gsv_9039.jpg\n",
      "Processing image:  9501 ,  gsv_9540.jpg\n",
      "Processing image:  10001 ,  gsv_10041.jpg\n",
      "Processing image:  10501 ,  gsv_10546.jpg\n",
      "Processing image:  11001 ,  gsv_11048.jpg\n",
      "Processing image:  11501 ,  gsv_11551.jpg\n",
      "Processing image:  12001 ,  gsv_12055.jpg\n",
      "Processing image:  12501 ,  gsv_12558.jpg\n",
      "Processing image:  13001 ,  gsv_13060.jpg\n",
      "Processing image:  13501 ,  gsv_13561.jpg\n",
      "Processing image:  14001 ,  gsv_14061.jpg\n",
      "Processing image:  14501 ,  gsv_14565.jpg\n",
      "Processing image:  15001 ,  gsv_15069.jpg\n",
      "Processing image:  15501 ,  gsv_15569.jpg\n"
     ]
    }
   ],
   "source": [
    "# now the training data will be imported\n",
    "X = prepareImages(train_df, train_df.shape[0], \"cropped_image\", \"boston_train\")\n",
    "X /= 255"
   ]
  },
  {
   "cell_type": "code",
   "execution_count": 10,
   "metadata": {
    "_uuid": "675924f8863aef27cf90dc668e0a68cd609dfc1c"
   },
   "outputs": [
    {
     "name": "stderr",
     "output_type": "stream",
     "text": [
      "/home/ndurai2006/.local/lib/python3.5/site-packages/sklearn/preprocessing/_encoders.py:371: FutureWarning: The handling of integer data will change in version 0.22. Currently, the categories are determined based on the range [0, max(values)], while in the future they will be determined based on the unique values.\n",
      "If you want the future behaviour and silence this warning, you can specify \"categories='auto'\".\n",
      "In case you used a LabelEncoder before this OneHotEncoder to convert the categories to integers, then you can now use the OneHotEncoder directly.\n",
      "  warnings.warn(msg, FutureWarning)\n"
     ]
    }
   ],
   "source": [
    "y, label_encoder = prepare_labels(train_df['safety'])"
   ]
  },
  {
   "cell_type": "code",
   "execution_count": 11,
   "metadata": {
    "_uuid": "e7af799d186a1b97b6aa325d7d576a1fb55a6c5d"
   },
   "outputs": [
    {
     "name": "stdout",
     "output_type": "stream",
     "text": [
      "WARNING:tensorflow:From /usr/local/lib/python3.5/dist-packages/tensorflow/python/framework/op_def_library.py:263: colocate_with (from tensorflow.python.framework.ops) is deprecated and will be removed in a future version.\n",
      "Instructions for updating:\n",
      "Colocations handled automatically by placer.\n",
      "WARNING:tensorflow:From /usr/local/lib/python3.5/dist-packages/keras/backend/tensorflow_backend.py:3445: calling dropout (from tensorflow.python.ops.nn_ops) with keep_prob is deprecated and will be removed in a future version.\n",
      "Instructions for updating:\n",
      "Please use `rate` instead of `keep_prob`. Rate should be set to `rate = 1 - keep_prob`.\n",
      "_________________________________________________________________\n",
      "Layer (type)                 Output Shape              Param #   \n",
      "=================================================================\n",
      "conv0 (Conv2D)               (None, 94, 94, 32)        4736      \n",
      "_________________________________________________________________\n",
      "bn0 (BatchNormalization)     (None, 94, 94, 32)        128       \n",
      "_________________________________________________________________\n",
      "activation_1 (Activation)    (None, 94, 94, 32)        0         \n",
      "_________________________________________________________________\n",
      "max_pool (MaxPooling2D)      (None, 47, 47, 32)        0         \n",
      "_________________________________________________________________\n",
      "conv1 (Conv2D)               (None, 45, 45, 64)        18496     \n",
      "_________________________________________________________________\n",
      "activation_2 (Activation)    (None, 45, 45, 64)        0         \n",
      "_________________________________________________________________\n",
      "avg_pool (AveragePooling2D)  (None, 15, 15, 64)        0         \n",
      "_________________________________________________________________\n",
      "flatten_1 (Flatten)          (None, 14400)             0         \n",
      "_________________________________________________________________\n",
      "dropout_1 (Dropout)          (None, 14400)             0         \n",
      "_________________________________________________________________\n",
      "rl (Dense)                   (None, 500)               7200500   \n",
      "_________________________________________________________________\n",
      "dropout_2 (Dropout)          (None, 500)               0         \n",
      "_________________________________________________________________\n",
      "sm (Dense)                   (None, 2)                 1002      \n",
      "=================================================================\n",
      "Total params: 7,224,862\n",
      "Trainable params: 7,224,798\n",
      "Non-trainable params: 64\n",
      "_________________________________________________________________\n"
     ]
    }
   ],
   "source": [
    "# the CNN will now be defined\n",
    "model = Sequential()\n",
    "\n",
    "model.add(Conv2D(32, (7, 7), strides = (1, 1), name = 'conv0', input_shape = (100, 100, 3)))\n",
    "\n",
    "model.add(BatchNormalization(axis = 3, name = 'bn0'))\n",
    "model.add(Activation('relu'))\n",
    "\n",
    "model.add(MaxPooling2D((2, 2), name='max_pool'))\n",
    "model.add(Conv2D(64, (3, 3), strides = (1,1), name=\"conv1\"))\n",
    "model.add(Activation('relu'))\n",
    "model.add(AveragePooling2D((3, 3), name='avg_pool'))\n",
    "\n",
    "model.add(Flatten())\n",
    "model.add(Dropout(0.5))\n",
    "model.add(Dense(500, kernel_initializer='normal', activation=\"relu\", kernel_constraint=maxnorm(3), name='rl'))\n",
    "model.add(Dropout(0.5))\n",
    "model.add(Dense(y.shape[1], kernel_initializer='normal', activation='softmax', kernel_constraint=maxnorm(3), name='sm'))\n",
    "\n",
    "model.compile(loss='categorical_crossentropy', optimizer=\"adam\", metrics=['accuracy'])\n",
    "#sgd = SGD(lr=0.1, momentum=0.9, decay=1e-6, nesterov=False)\n",
    "#model.compile(loss='binary_crossentropy', optimizer=sgd, metrics=['accuracy'])\n",
    "model.summary()"
   ]
  },
  {
   "cell_type": "code",
   "execution_count": 12,
   "metadata": {},
   "outputs": [
    {
     "data": {
      "text/plain": [
       "(15928, 100, 100, 3)"
      ]
     },
     "execution_count": 12,
     "metadata": {},
     "output_type": "execute_result"
    }
   ],
   "source": [
    "X.shape"
   ]
  },
  {
   "cell_type": "code",
   "execution_count": 13,
   "metadata": {},
   "outputs": [
    {
     "data": {
      "text/plain": [
       "(15928, 2)"
      ]
     },
     "execution_count": 13,
     "metadata": {},
     "output_type": "execute_result"
    }
   ],
   "source": [
    "y.shape"
   ]
  },
  {
   "cell_type": "code",
   "execution_count": 13,
   "metadata": {},
   "outputs": [],
   "source": [
    "# checkpoint logic to save the model with best Validation loss\n",
    "#filepath=\"best_model_keras_cnn.h5\"\n",
    "#checkpoint = ModelCheckpoint(filepath, monitor='val_loss', verbose=1, save_best_only=True, mode='min')\n",
    "#callbacks_list = [checkpoint]"
   ]
  },
  {
   "cell_type": "code",
   "execution_count": 14,
   "metadata": {
    "_uuid": "169f45e150c3a584e0f655a8eda523e0675da63a"
   },
   "outputs": [
    {
     "name": "stdout",
     "output_type": "stream",
     "text": [
      "WARNING:tensorflow:From /usr/local/lib/python3.5/dist-packages/tensorflow/python/ops/math_ops.py:3066: to_int32 (from tensorflow.python.ops.math_ops) is deprecated and will be removed in a future version.\n",
      "Instructions for updating:\n",
      "Use tf.cast instead.\n",
      "Train on 10671 samples, validate on 5257 samples\n",
      "Epoch 1/20\n",
      "10671/10671 [==============================] - 15s 1ms/step - loss: 0.8001 - acc: 0.5973 - val_loss: 0.6523 - val_acc: 0.6239\n",
      "Epoch 2/20\n",
      "10671/10671 [==============================] - 12s 1ms/step - loss: 0.6312 - acc: 0.6453 - val_loss: 0.6040 - val_acc: 0.6751\n",
      "Epoch 3/20\n",
      "10671/10671 [==============================] - 12s 1ms/step - loss: 0.6077 - acc: 0.6651 - val_loss: 0.5815 - val_acc: 0.6916\n",
      "Epoch 4/20\n",
      "10671/10671 [==============================] - 12s 1ms/step - loss: 0.6016 - acc: 0.6701 - val_loss: 0.5785 - val_acc: 0.6939\n",
      "Epoch 5/20\n",
      "10671/10671 [==============================] - 12s 1ms/step - loss: 0.5926 - acc: 0.6860 - val_loss: 0.5966 - val_acc: 0.6799\n",
      "Epoch 6/20\n",
      "10671/10671 [==============================] - 12s 1ms/step - loss: 0.5778 - acc: 0.6924 - val_loss: 0.5827 - val_acc: 0.6979\n",
      "Epoch 7/20\n",
      "10671/10671 [==============================] - 12s 1ms/step - loss: 0.5801 - acc: 0.6964 - val_loss: 0.5707 - val_acc: 0.7040\n",
      "Epoch 8/20\n",
      "10671/10671 [==============================] - 12s 1ms/step - loss: 0.5690 - acc: 0.7055 - val_loss: 0.5856 - val_acc: 0.6869\n",
      "Epoch 9/20\n",
      "10671/10671 [==============================] - 12s 1ms/step - loss: 0.5587 - acc: 0.7140 - val_loss: 0.5851 - val_acc: 0.6757\n",
      "Epoch 10/20\n",
      "10671/10671 [==============================] - 12s 1ms/step - loss: 0.5503 - acc: 0.7191 - val_loss: 0.6176 - val_acc: 0.6635\n",
      "Epoch 11/20\n",
      "10671/10671 [==============================] - 12s 1ms/step - loss: 0.5299 - acc: 0.7367 - val_loss: 0.5758 - val_acc: 0.6981\n",
      "Epoch 12/20\n",
      "10671/10671 [==============================] - 12s 1ms/step - loss: 0.5253 - acc: 0.7386 - val_loss: 0.5741 - val_acc: 0.6966\n",
      "Epoch 13/20\n",
      "10671/10671 [==============================] - 12s 1ms/step - loss: 0.5022 - acc: 0.7515 - val_loss: 0.5699 - val_acc: 0.7040\n",
      "Epoch 14/20\n",
      "10671/10671 [==============================] - 12s 1ms/step - loss: 0.4726 - acc: 0.7755 - val_loss: 0.5722 - val_acc: 0.7036\n",
      "Epoch 15/20\n",
      "10671/10671 [==============================] - 12s 1ms/step - loss: 0.4549 - acc: 0.7883 - val_loss: 0.5994 - val_acc: 0.6875\n",
      "Epoch 16/20\n",
      "10671/10671 [==============================] - 12s 1ms/step - loss: 0.4352 - acc: 0.7970 - val_loss: 0.6020 - val_acc: 0.7002\n",
      "Epoch 17/20\n",
      "10671/10671 [==============================] - 12s 1ms/step - loss: 0.3992 - acc: 0.8224 - val_loss: 0.5943 - val_acc: 0.6863\n",
      "Epoch 18/20\n",
      "10671/10671 [==============================] - 12s 1ms/step - loss: 0.3683 - acc: 0.8375 - val_loss: 0.6053 - val_acc: 0.6958\n",
      "Epoch 19/20\n",
      "10671/10671 [==============================] - 12s 1ms/step - loss: 0.3479 - acc: 0.8494 - val_loss: 0.6163 - val_acc: 0.6975\n",
      "Epoch 20/20\n",
      "10671/10671 [==============================] - 12s 1ms/step - loss: 0.3158 - acc: 0.8696 - val_loss: 0.6401 - val_acc: 0.6800\n"
     ]
    },
    {
     "data": {
      "text/plain": [
       "190"
      ]
     },
     "execution_count": 14,
     "metadata": {},
     "output_type": "execute_result"
    }
   ],
   "source": [
    "# this will train the CNN\n",
    "history = model.fit(X, y, validation_split=0.33, epochs=20, batch_size=100, verbose=1)\n",
    "gc.collect()"
   ]
  },
  {
   "cell_type": "code",
   "execution_count": 15,
   "metadata": {
    "_uuid": "7bca48a1d0963cbf70685b75431435cef9499895"
   },
   "outputs": [
    {
     "data": {
      "image/png": "[encoded data removed]",
      "text/plain": [
       "<Figure size 432x288 with 1 Axes>"
      ]
     },
     "metadata": {},
     "output_type": "display_data"
    }
   ],
   "source": [
    "# This will plot the accuracy of the CNN on the training/validation set after each epoch\n",
    "plt.plot(history.history['acc'], label='Training acc')\n",
    "plt.plot(history.history['val_acc'], label='Validation acc')\n",
    "plt.legend()\n",
    "plt.title('Training and Validation accuracy')\n",
    "plt.ylabel('Accuracy')\n",
    "plt.xlabel('Epoch')\n",
    "plt.show()"
   ]
  },
  {
   "cell_type": "code",
   "execution_count": 16,
   "metadata": {},
   "outputs": [
    {
     "data": {
      "image/png": "[encoded data removed]",
      "text/plain": [
       "<Figure size 432x288 with 1 Axes>"
      ]
     },
     "metadata": {},
     "output_type": "display_data"
    }
   ],
   "source": [
    "# This will plot the loss on the training and validation set after each epoch\n",
    "plt.plot(history.history['loss'], label='Training loss')\n",
    "plt.plot(history.history['val_loss'], label='Validation loss')\n",
    "plt.legend()\n",
    "plt.title('Training and Validation loss')\n",
    "plt.ylabel('Loss')\n",
    "plt.xlabel('Epoch')\n",
    "plt.show()"
   ]
  },
  {
   "cell_type": "code",
   "execution_count": 18,
   "metadata": {},
   "outputs": [
    {
     "data": {
      "text/html": [
       "<div>\n",
       "<style scoped>\n",
       "    .dataframe tbody tr th:only-of-type {\n",
       "        vertical-align: middle;\n",
       "    }\n",
       "\n",
       "    .dataframe tbody tr th {\n",
       "        vertical-align: top;\n",
       "    }\n",
       "\n",
       "    .dataframe thead th {\n",
       "        text-align: right;\n",
       "    }\n",
       "</style>\n",
       "<table border=\"1\" class=\"dataframe\">\n",
       "  <thead>\n",
       "    <tr style=\"text-align: right;\">\n",
       "      <th></th>\n",
       "      <th>Image_Id</th>\n",
       "    </tr>\n",
       "  </thead>\n",
       "  <tbody>\n",
       "    <tr>\n",
       "      <th>0</th>\n",
       "      <td>gsv_0.jpg</td>\n",
       "    </tr>\n",
       "    <tr>\n",
       "      <th>1</th>\n",
       "      <td>gsv_1.jpg</td>\n",
       "    </tr>\n",
       "    <tr>\n",
       "      <th>2</th>\n",
       "      <td>gsv_2.jpg</td>\n",
       "    </tr>\n",
       "    <tr>\n",
       "      <th>3</th>\n",
       "      <td>gsv_3.jpg</td>\n",
       "    </tr>\n",
       "    <tr>\n",
       "      <th>4</th>\n",
       "      <td>gsv_4.jpg</td>\n",
       "    </tr>\n",
       "  </tbody>\n",
       "</table>\n",
       "</div>"
      ],
      "text/plain": [
       "    Image_Id\n",
       "0  gsv_0.jpg\n",
       "1  gsv_1.jpg\n",
       "2  gsv_2.jpg\n",
       "3  gsv_3.jpg\n",
       "4  gsv_4.jpg"
      ]
     },
     "execution_count": 18,
     "metadata": {},
     "output_type": "execute_result"
    }
   ],
   "source": [
    "test_df = pd.read_csv(\"boston_test/boston_test_fetched_with_target.csv\")\n",
    "test_df.rename(columns = {'_file':'Image_Id'}, inplace = True)\n",
    "test_df = test_df[[\"Image_Id\"]]\n",
    "test_df.head()"
   ]
  },
  {
   "cell_type": "code",
   "execution_count": 19,
   "metadata": {},
   "outputs": [
    {
     "data": {
      "text/plain": [
       "0"
      ]
     },
     "execution_count": 19,
     "metadata": {},
     "output_type": "execute_result"
    }
   ],
   "source": [
    "test_df[\"Image_Id\"].isna().sum()"
   ]
  },
  {
   "cell_type": "code",
   "execution_count": 21,
   "metadata": {
    "_uuid": "52262195fc0b8755cff78bf8c98e6116d50f79af"
   },
   "outputs": [
    {
     "name": "stdout",
     "output_type": "stream",
     "text": [
      "Preparing images\n",
      "Processing image:  1 ,  gsv_0.jpg\n",
      "Processing image:  501 ,  gsv_503.jpg\n",
      "Processing image:  1001 ,  gsv_1008.jpg\n",
      "Processing image:  1501 ,  gsv_1510.jpg\n",
      "Processing image:  2001 ,  gsv_2014.jpg\n",
      "Processing image:  2501 ,  gsv_2515.jpg\n",
      "Processing image:  3001 ,  gsv_3018.jpg\n",
      "Processing image:  3501 ,  gsv_3522.jpg\n"
     ]
    }
   ],
   "source": [
    "# this will preprocess the test data\n",
    "X = prepareImages(test_df, test_df.shape[0], \"cropped_image\", \"boston_test\")\n",
    "X /= 255"
   ]
  },
  {
   "cell_type": "code",
   "execution_count": 22,
   "metadata": {
    "_uuid": "88c8d8ff98fbdb1df4218abb6bd51889e855a6fb"
   },
   "outputs": [
    {
     "name": "stdout",
     "output_type": "stream",
     "text": [
      "3976/3976 [==============================] - 2s 464us/step\n"
     ]
    }
   ],
   "source": [
    "# now the labels for the test data will be generated \n",
    "predictions = model.predict(np.array(X), verbose=1)"
   ]
  },
  {
   "cell_type": "code",
   "execution_count": 23,
   "metadata": {},
   "outputs": [],
   "source": [
    "df_predictions = pd.DataFrame(predictions, columns=['0','1'])\n",
    "df_predictions = df_predictions.reset_index(drop=True)\n",
    "test_df = test_df.reset_index(drop=True)\n",
    "boston_prediction = pd.concat([test_df, df_predictions], axis=1)"
   ]
  },
  {
   "cell_type": "code",
   "execution_count": 24,
   "metadata": {},
   "outputs": [
    {
     "data": {
      "text/html": [
       "<div>\n",
       "<style scoped>\n",
       "    .dataframe tbody tr th:only-of-type {\n",
       "        vertical-align: middle;\n",
       "    }\n",
       "\n",
       "    .dataframe tbody tr th {\n",
       "        vertical-align: top;\n",
       "    }\n",
       "\n",
       "    .dataframe thead th {\n",
       "        text-align: right;\n",
       "    }\n",
       "</style>\n",
       "<table border=\"1\" class=\"dataframe\">\n",
       "  <thead>\n",
       "    <tr style=\"text-align: right;\">\n",
       "      <th></th>\n",
       "      <th>Image_Id</th>\n",
       "      <th>0</th>\n",
       "      <th>1</th>\n",
       "    </tr>\n",
       "  </thead>\n",
       "  <tbody>\n",
       "  </tbody>\n",
       "</table>\n",
       "</div>"
      ],
      "text/plain": [
       "Empty DataFrame\n",
       "Columns: [Image_Id, 0, 1]\n",
       "Index: []"
      ]
     },
     "execution_count": 24,
     "metadata": {},
     "output_type": "execute_result"
    }
   ],
   "source": [
    "boston_prediction.loc[boston_prediction['Image_Id'].isna()]"
   ]
  },
  {
   "cell_type": "code",
   "execution_count": 25,
   "metadata": {},
   "outputs": [
    {
     "name": "stdout",
     "output_type": "stream",
     "text": [
      "    Image_Id         0         1\n",
      "0  gsv_0.jpg  0.656174  0.343826\n",
      "1  gsv_1.jpg  0.807845  0.192155\n",
      "2  gsv_2.jpg  0.901829  0.098171\n",
      "3  gsv_3.jpg  0.495690  0.504310\n",
      "4  gsv_4.jpg  0.373265  0.626735\n"
     ]
    }
   ],
   "source": [
    "# now the predictions will be saved in a csv file\n",
    "print(boston_prediction.head(5))\n",
    "boston_prediction.to_csv(\"model_data/boston_predictions.csv\", index=False)"
   ]
  }
 ],
 "metadata": {
  "kernelspec": {
   "display_name": "Python 3",
   "language": "python",
   "name": "python3"
  },
  "language_info": {
   "codemirror_mode": {
    "name": "ipython",
    "version": 3
   },
   "file_extension": ".py",
   "mimetype": "text/x-python",
   "name": "python",
   "nbconvert_exporter": "python",
   "pygments_lexer": "ipython3",
   "version": "3.6.8"
  }
 },
 "nbformat": 4,
 "nbformat_minor": 1
}
